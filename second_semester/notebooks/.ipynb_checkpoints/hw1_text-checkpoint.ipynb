{
 "cells": [
  {
   "cell_type": "markdown",
   "metadata": {},
   "source": [
    "<h2 style=\"color:blue\">Q1</h2>"
   ]
  },
  {
   "cell_type": "markdown",
   "metadata": {},
   "source": [
    "| Percent returning | New adults |\n",
    "| ----------- | ----------- |\n",
    "| 74          | 5       |\n",
    "| 66          | 6        |\n",
    "| 81          | 8       |\n",
    "| 52          | 11        |\n",
    "| 73          | 12       |\n",
    "| 62          | 15        |\n",
    "| 52          | 16       |\n",
    "| 45          | 17        |\n",
    "| 62          | 18       |\n",
    "| 46          | 18        |\n",
    "| 60          | 19       |\n",
    "| 46          | 20        |\n",
    "| 38          | 20       |"
   ]
  },
  {
   "cell_type": "markdown",
   "metadata": {},
   "source": [
    "<h4 style=\"color:blue\">(a) Please plot the data with $X$ indicating “Percent returning” and $Y$ indicating “New adults”. Comment on the main features of the plot. Any possible outliers?</h4>"
   ]
  },
  {
   "cell_type": "markdown",
   "metadata": {},
   "source": [
    "<p style=\"color:red\">\n",
    "The main feature is that more old adults return, less new adults join. In other words, there is negative association between these two variables. And I think possible outliers are the three points labeled in the figure.\n",
    "</p>"
   ]
  },
  {
   "cell_type": "markdown",
   "metadata": {},
   "source": [
    "<img src=\"./hw1_images/q1_a.png\" alt=\"None\">"
   ]
  },
  {
   "cell_type": "markdown",
   "metadata": {},
   "source": [
    "<h4 style=\"color:blue\">(b) Compute $\\bar{X}$, $\\bar{Y}$, $S_{x}^2=\\frac{\\sum_{i=1}^{n}(X_i - \\bar{X})^2}{n-1}$ and $S_{y}^2=\\frac{\\sum_{i=1}^{n}(Y_i - \\bar{Y})^2}{n-1}$. Then apply the formula to compute Pearson’s correlation:\n",
    "\\begin{equation}\n",
    "    r = \\frac{\\sum_{i=1}^{n}(X_i - \\bar{X})(Y_i - \\bar{Y})}{\\sqrt{\\sum_{i=1}^{n}(X_i - \\bar{X})^2}\\sqrt{\\sum_{i=1}^{n}(Y_i - \\bar{Y})^2}}\n",
    "\\end{equation}\n",
    "</h4>"
   ]
  },
  {
   "cell_type": "markdown",
   "metadata": {},
   "source": [
    "<p style=\"color:red\">\n",
    "\\begin{align*}\n",
    "    \\bar{X} &= 58.2 \\\\\n",
    "    \\bar{Y} &= 14.2 \\\\\n",
    "     S_{x}^2 &= 169.9 \\\\\n",
    "     S_{y}^2 &= 28.0 \\\\\n",
    "     r &= -0.748\n",
    "\\end{align*}\n",
    "</p>"
   ]
  },
  {
   "cell_type": "markdown",
   "metadata": {},
   "source": [
    "<h4 style=\"color:blue\">(c) Use R to compute Pearson's correlation, Kendall's tau and Spearman's rho.\n",
    "</h4>"
   ]
  },
  {
   "cell_type": "markdown",
   "metadata": {},
   "source": [
    "<p style=\"color:red\">\n",
    "Pearson's correlation is -0.748. <br>\n",
    "Kendall's tau is -0.596 <br>\n",
    "Spearman's rho is -0.754\n",
    "</p>"
   ]
  },
  {
   "cell_type": "code",
   "execution_count": null,
   "metadata": {},
   "outputs": [],
   "source": []
  }
 ],
 "metadata": {
  "kernelspec": {
   "display_name": "Python 3",
   "language": "python",
   "name": "python3"
  },
  "language_info": {
   "codemirror_mode": {
    "name": "ipython",
    "version": 3
   },
   "file_extension": ".py",
   "mimetype": "text/x-python",
   "name": "python",
   "nbconvert_exporter": "python",
   "pygments_lexer": "ipython3",
   "version": "3.8.8"
  }
 },
 "nbformat": 4,
 "nbformat_minor": 4
}
