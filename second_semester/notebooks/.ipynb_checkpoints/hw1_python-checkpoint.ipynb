{
 "cells": [
  {
   "cell_type": "code",
   "execution_count": 1,
   "metadata": {},
   "outputs": [],
   "source": [
    "import matplotlib.pyplot as plt\n",
    "import numpy as np"
   ]
  },
  {
   "cell_type": "markdown",
   "metadata": {},
   "source": [
    "<h2 style=\"color:blue\">Q1</h2>"
   ]
  },
  {
   "cell_type": "markdown",
   "metadata": {},
   "source": [
    "| Percent returning | New adults |\n",
    "| ----------- | ----------- |\n",
    "| 74          | 5       |\n",
    "| 66          | 6        |\n",
    "| 81          | 8       |\n",
    "| 52          | 11        |\n",
    "| 73          | 12       |\n",
    "| 62          | 15        |\n",
    "| 52          | 16       |\n",
    "| 45          | 17        |\n",
    "| 62          | 18       |\n",
    "| 46          | 18        |\n",
    "| 60          | 19       |\n",
    "| 46          | 20        |\n",
    "| 38          | 20       |"
   ]
  },
  {
   "cell_type": "markdown",
   "metadata": {},
   "source": [
    "<h4 style=\"color:blue\">(a) Please plot the data with $X$ indicating “Percent returning” and $Y$ indicating “New adults”. Comment on the main features of the plot. Any possible outliers?</h4>"
   ]
  },
  {
   "cell_type": "code",
   "execution_count": 5,
   "metadata": {},
   "outputs": [],
   "source": [
    "p_return = [74, 66, 81, 52, 73, 62, 52, 45, 62, 46, 60, 46, 38]\n",
    "new_adults = [5, 6, 8, 11, 12, 15, 16, 17, 18, 18, 19, 20, 20]"
   ]
  },
  {
   "cell_type": "code",
   "execution_count": 18,
   "metadata": {},
   "outputs": [
    {
     "data": {
      "image/png": "[encoded data removed]",
      "text/plain": [
       "<Figure size 576x288 with 1 Axes>"
      ]
     },
     "metadata": {
      "needs_background": "light"
     },
     "output_type": "display_data"
    }
   ],
   "source": [
    "fig, ax = plt.subplots(figsize=(8,4))\n",
    "\n",
    "ax.scatter(p_return, new_adults)\n",
    "ax.set_xlabel(\"Percent returning(%)\", fontsize=12)\n",
    "ax.set_ylabel(\"New adults\", fontsize=12)\n",
    "for x, y in zip(p_return, new_adults):\n",
    "    text = f'{x},{y}'\n",
    "    ax.annotate(text,xy=(x,y))\n",
    "#ax.set_ylim(4, 25)\n",
    "#ax.set_xlim(20, 100)\n",
    "outlier_x = [52, 66, 74]\n",
    "outlier_y = [11, 6, 5]\n",
    "ax.scatter(outlier_x, outlier_y, s=50, marker='x', color='red', label='Possible outliers')\n",
    "ax.legend()\n",
    "\n",
    "plt.tight_layout()\n",
    "#plt.savefig('hw1_q1_a.png' ,dpi=200)\n",
    "plt.show()"
   ]
  },
  {
   "cell_type": "markdown",
   "metadata": {},
   "source": [
    "<h4 style=\"color:blue\">(b) Compute $\\bar{X}$, $\\bar{Y}$, $S_{x}^2=\\frac{\\sum_{i=1}^{n}(X_i - \\bar{X})^2}{n-1}$ and $S_{y}^2=\\frac{\\sum_{i=1}^{n}(Y_i - \\bar{Y})^2}{n-1}$. Then apply the formula to compute Pearson’s correlation:\n",
    "\\begin{equation}\n",
    "    r = \\frac{\\sum_{i=1}^{n}(X_i - \\bar{X})(Y_i - \\bar{Y})}{\\sqrt{\\sum_{i=1}^{n}(X_i - \\bar{X})^2}\\sqrt{\\sum_{i=1}^{n}(Y_i - \\bar{Y})^2}}\n",
    "\\end{equation}\n",
    "</h4>"
   ]
  },
  {
   "cell_type": "code",
   "execution_count": 25,
   "metadata": {},
   "outputs": [
    {
     "name": "stdout",
     "output_type": "stream",
     "text": [
      "Mean of X: 58.2\n",
      "Mean of Y: 14.2\n",
      "Var of X: 169.9\n",
      "Var of Y: 28.0\n",
      "Pearson's correlation: -0.748\n"
     ]
    }
   ],
   "source": [
    "x_mean = np.mean(p_return)\n",
    "y_mean = np.mean(new_adults)\n",
    "x_var = np.var(p_return, ddof=1)\n",
    "y_var = np.var(new_adults, ddof=1)\n",
    "r = np.corrcoef(x=p_return, y=new_adults)\n",
    "print(f'Mean of X: {x_mean:.1f}')\n",
    "print(f'Mean of Y: {y_mean:.1f}')\n",
    "print(f'Var of X: {x_var:.1f}')\n",
    "print(f'Var of Y: {y_var:.1f}')\n",
    "print(f'Pearson\\'s correlation: {r[0,1]:.3f}')"
   ]
  },
  {
   "cell_type": "code",
   "execution_count": null,
   "metadata": {},
   "outputs": [],
   "source": []
  }
 ],
 "metadata": {
  "kernelspec": {
   "display_name": "Python 3",
   "language": "python",
   "name": "python3"
  },
  "language_info": {
   "codemirror_mode": {
    "name": "ipython",
    "version": 3
   },
   "file_extension": ".py",
   "mimetype": "text/x-python",
   "name": "python",
   "nbconvert_exporter": "python",
   "pygments_lexer": "ipython3",
   "version": "3.8.5"
  }
 },
 "nbformat": 4,
 "nbformat_minor": 4
}
