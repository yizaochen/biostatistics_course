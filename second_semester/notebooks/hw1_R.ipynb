{
 "cells": [
  {
   "cell_type": "markdown",
   "metadata": {},
   "source": [
    "<h2 style=\"color:blue\">Q1</h2>"
   ]
  },
  {
   "cell_type": "markdown",
   "metadata": {},
   "source": [
    "| Percent returning | New adults |\n",
    "| ----------- | ----------- |\n",
    "| 74          | 5       |\n",
    "| 66          | 6        |\n",
    "| 81          | 8       |\n",
    "| 52          | 11        |\n",
    "| 73          | 12       |\n",
    "| 62          | 15        |\n",
    "| 52          | 16       |\n",
    "| 45          | 17        |\n",
    "| 62          | 18       |\n",
    "| 46          | 18        |\n",
    "| 60          | 19       |\n",
    "| 46          | 20        |\n",
    "| 38          | 20       |"
   ]
  },
  {
   "cell_type": "markdown",
   "metadata": {},
   "source": [
    "<h4 style=\"color:blue\">(c) Use R to compute Pearson's correlation, Kendall's tau and Spearman's rho.\n",
    "</h4>"
   ]
  },
  {
   "cell_type": "code",
   "execution_count": 1,
   "metadata": {},
   "outputs": [],
   "source": [
    "p_return <- c(74, 66, 81, 52, 73, 62, 52, 45, 62, 46, 60, 46, 38)\n",
    "new_adults <- c(5, 6, 8, 11, 12, 15, 16, 17, 18, 18, 19, 20, 20)"
   ]
  },
  {
   "cell_type": "code",
   "execution_count": 13,
   "metadata": {},
   "outputs": [
    {
     "data": {
      "text/html": [
       "-0.748467303358877"
      ],
      "text/latex": [
       "-0.748467303358877"
      ],
      "text/markdown": [
       "-0.748467303358877"
      ],
      "text/plain": [
       "[1] -0.7484673"
      ]
     },
     "metadata": {},
     "output_type": "display_data"
    }
   ],
   "source": [
    "pearson_corrleation <- cor(p_return, new_adults, method = \"pearson\")\n",
    "pearson_corrleation"
   ]
  },
  {
   "cell_type": "code",
   "execution_count": 14,
   "metadata": {},
   "outputs": [
    {
     "data": {
      "text/html": [
       "-0.59603956067927"
      ],
      "text/latex": [
       "-0.59603956067927"
      ],
      "text/markdown": [
       "-0.59603956067927"
      ],
      "text/plain": [
       "[1] -0.5960396"
      ]
     },
     "metadata": {},
     "output_type": "display_data"
    }
   ],
   "source": [
    "keandall_tau <- cor(p_return, new_adults, method = \"kendall\")\n",
    "keandall_tau"
   ]
  },
  {
   "cell_type": "code",
   "execution_count": 15,
   "metadata": {},
   "outputs": [
    {
     "data": {
      "text/html": [
       "-0.753804317155426"
      ],
      "text/latex": [
       "-0.753804317155426"
      ],
      "text/markdown": [
       "-0.753804317155426"
      ],
      "text/plain": [
       "[1] -0.7538043"
      ]
     },
     "metadata": {},
     "output_type": "display_data"
    }
   ],
   "source": [
    "spearman_rho <- cor(p_return, new_adults, method = \"spearman\")\n",
    "spearman_rho"
   ]
  },
  {
   "cell_type": "code",
   "execution_count": null,
   "metadata": {},
   "outputs": [],
   "source": []
  }
 ],
 "metadata": {
  "kernelspec": {
   "display_name": "R",
   "language": "R",
   "name": "ir"
  },
  "language_info": {
   "codemirror_mode": "r",
   "file_extension": ".r",
   "mimetype": "text/x-r-source",
   "name": "R",
   "pygments_lexer": "r",
   "version": "3.6.1"
  }
 },
 "nbformat": 4,
 "nbformat_minor": 4
}
