{
 "cells": [
  {
   "cell_type": "code",
   "execution_count": 1,
   "metadata": {},
   "outputs": [],
   "source": [
    "import matplotlib.pyplot as plt\n",
    "import numpy as np\n",
    "import pandas as pd"
   ]
  },
  {
   "cell_type": "markdown",
   "metadata": {},
   "source": [
    "##### Required functions"
   ]
  },
  {
   "cell_type": "code",
   "execution_count": 2,
   "metadata": {},
   "outputs": [],
   "source": [
    "def get_5_number_summary(data):\n",
    "    data = np.array(data)\n",
    "    quartiles = np.percentile(data, [25, 50, 75])\n",
    "    data_min, data_max = data.min(), data.max()\n",
    "    IQR = quartiles[2] - quartiles[0]\n",
    "    lower_w = quartiles[0] - 1.5 * IQR\n",
    "    upper_w = quartiles[2] + 1.5 * IQR\n",
    "    print(f'Min: {data_min:.3f}')\n",
    "    print(f'Q1-1.5IQR: {lower_w:.3f}')\n",
    "    print(f'Q1: {quartiles[0]:.3f}')\n",
    "    print(f'Median: {quartiles[1]:.3f}')\n",
    "    print(f'Q3: {quartiles[2]:.3f}')\n",
    "    print(f'Q3+1.5IQR: {upper_w:.3f}')\n",
    "    print(f'Max: {data_max:.3f}')\n",
    "    \n",
    "def get_mean_variance(data):\n",
    "    n_A = len(data)\n",
    "    print(f'There are {n_A} points.')\n",
    "    mean = np.mean(data)\n",
    "    print(f'mean of A set is {mean:.2f}')\n",
    "    summation = 0\n",
    "    for a in data:\n",
    "        summation += np.square(a - mean)\n",
    "        variance = summation / (n_A-1)\n",
    "    print(f's^2 of A set is {variance:.2f}')\n",
    "    variance_np = np.var(data, ddof=1)\n",
    "    print(f'By numpy, s^2 of A set is {variance:.2f}')\n",
    "    \n",
    "def get_CV(data):\n",
    "    mean = np.mean(data)\n",
    "    S = np.std(data, ddof=1)\n",
    "    CV = (S / mean) * 100\n",
    "    print(f'mean is {mean:.3f}.')\n",
    "    print(f'S is {S:.3f}.')\n",
    "    print(f'CV is {CV:.3f} %.')\n",
    "    \n",
    "def fahrenheit_to_celsius(f):\n",
    "    return (f - 32) * 5/9\n",
    "\n",
    "def celsius_to_kelvin(c):\n",
    "    return c + 273.15"
   ]
  },
  {
   "cell_type": "markdown",
   "metadata": {},
   "source": [
    "## Question 1: The one about drug therapy"
   ]
  },
  {
   "cell_type": "code",
   "execution_count": 6,
   "metadata": {},
   "outputs": [],
   "source": [
    "A_set = [105, 126, 120, 119, 133, 145, 200,\n",
    "         123, 108, 112, 132, 136, 156, \n",
    "         12.4, 134, 130, 130, 142, 170]\n",
    "R_set = [221, 261, 250, 230, 253, 256, \n",
    "         227, 264, 236, 246, 273, 271, \n",
    "         280, 238, 240, 283, 516]"
   ]
  },
  {
   "cell_type": "code",
   "execution_count": 4,
   "metadata": {},
   "outputs": [
    {
     "name": "stdout",
     "output_type": "stream",
     "text": [
      "Min: 12.400\n",
      "Q1-1.5IQR: 90.250\n",
      "Q1: 119.500\n",
      "Median: 130.000\n",
      "Q3: 139.000\n",
      "Q3+1.5IQR: 168.250\n",
      "Max: 200.000\n"
     ]
    }
   ],
   "source": [
    "get_5_number_summary(A_set)"
   ]
  },
  {
   "cell_type": "markdown",
   "metadata": {},
   "source": [
    "#### (a) Construct a side-by-side box plot and identify outliers.\n",
    "##### First, we need summaries for two sets(A and R), respectively.  \n",
    "|   |  Minimum |Q1-1.5IQR | Q1  | Median | Q3 | Q3+1.5IQR | Maximum |\n",
    "|---|---|-------|-------|---|----|----|---|\n",
    "| $T_{\\mathrm{max}}(A)$  | 12.4 | 90.25 | 119.5  | 130  | 139 | 168.25 | 200 |\n",
    "| $T_{\\mathrm{max}}(R)$  | 221  | 188.5 | 238  | 253 | 271 | 320.5 |516|"
   ]
  },
  {
   "cell_type": "markdown",
   "metadata": {},
   "source": [
    "##### Then, we can create boxplots for them."
   ]
  },
  {
   "cell_type": "code",
   "execution_count": 7,
   "metadata": {},
   "outputs": [],
   "source": [
    "xlist_A = [1] * len(A_set)\n",
    "xlist_R = [2] * len(R_set)"
   ]
  },
  {
   "cell_type": "code",
   "execution_count": 30,
   "metadata": {},
   "outputs": [
    {
     "data": {
      "image/png": "[encoded data removed]",
      "text/plain": [
       "<Figure size 576x288 with 1 Axes>"
      ]
     },
     "metadata": {
      "needs_background": "light"
     },
     "output_type": "display_data"
    }
   ],
   "source": [
    "lbfz = 16\n",
    "\n",
    "fig, ax = plt.subplots(nrows=1, ncols=1, figsize=(8,4))\n",
    "\n",
    "combines = [A_set, R_set]\n",
    "\n",
    "d_box = ax.boxplot(combines, whis=(0,100))\n",
    "\n",
    "ax.set_ylabel('$T_{\\mathrm{max}}$', fontsize=lbfz)\n",
    "ax.set_xticklabels(['A', 'R'])\n",
    "ax.tick_params(axis='both', labelsize=lbfz)\n",
    "#ax.axhline(516, color='red', alpha=0.4)\n",
    "\n",
    "ax.scatter(xlist_A, A_set, s=10, color='black')\n",
    "ax.scatter([1], [12.4], s=14, marker='o', color='red')\n",
    "\n",
    "ax.scatter(xlist_R, R_set, s=10, color='black')\n",
    "ax.scatter([2], [516], s=14, color='red')\n",
    "#plt.savefig('q1_boxplots_v1.png', dpi=200)\n",
    "plt.show()"
   ]
  },
  {
   "cell_type": "markdown",
   "metadata": {},
   "source": [
    "<h4 style=\"color:blue\">(b) Calculate $\\overline{x}$ and $s^2$ for the data of set A.</h4> "
   ]
  },
  {
   "cell_type": "code",
   "execution_count": 15,
   "metadata": {},
   "outputs": [
    {
     "name": "stdout",
     "output_type": "stream",
     "text": [
      "There are 19 points.\n",
      "mean of A set is 128.07\n",
      "s^2 of A set is 1282.68\n",
      "By numpy, s^2 of A set is 1282.68\n"
     ]
    }
   ],
   "source": [
    "get_mean_variance(A_set)"
   ]
  },
  {
   "cell_type": "markdown",
   "metadata": {},
   "source": [
    "<h4 style=\"color:blue\">(c) Assume that the outlier of set A is the result of a misplaced decimal point. Correct the error by deleting the decimal and see what changes this makes in your box plot. Recompute $\\overline{x}$ and $s^2$ , using the correct data point, and compare your results to those of part b.</h4> "
   ]
  },
  {
   "cell_type": "code",
   "execution_count": 2,
   "metadata": {},
   "outputs": [],
   "source": [
    "A_set_refine = [105, 126, 120, 119, 133, 145, 200,\n",
    "                123, 108, 112, 132, 136, 156, \n",
    "                124, 134, 130, 130, 142, 170]"
   ]
  },
  {
   "cell_type": "code",
   "execution_count": 8,
   "metadata": {},
   "outputs": [],
   "source": [
    "xlist_A = [1] * len(A_set)\n",
    "xlist_A_refine = [2] * len(A_set_refine)"
   ]
  },
  {
   "cell_type": "code",
   "execution_count": 11,
   "metadata": {},
   "outputs": [
    {
     "data": {
      "image/png": "[encoded data removed]",
      "text/plain": [
       "<Figure size 576x288 with 1 Axes>"
      ]
     },
     "metadata": {
      "needs_background": "light"
     },
     "output_type": "display_data"
    }
   ],
   "source": [
    "lbfz = 16\n",
    "\n",
    "fig, ax = plt.subplots(nrows=1, ncols=1, figsize=(8,4))\n",
    "\n",
    "combines = [A_set, A_set_refine]\n",
    "\n",
    "d_box = ax.boxplot(combines, whis=(0,100))\n",
    "\n",
    "ax.set_ylabel('$T_{\\mathrm{max}}$', fontsize=lbfz)\n",
    "ax.set_xticklabels(['A$_{\\mathrm{old}}$', 'A$_{\\mathrm{new}}$'])\n",
    "ax.tick_params(axis='both', labelsize=lbfz)\n",
    "#ax.axhline(516, color='red', alpha=0.4)\n",
    "\n",
    "ax.scatter(xlist_A, A_set, s=10, color='black')\n",
    "ax.scatter([1], [12.4], s=14, marker='o', color='red')\n",
    "\n",
    "ax.scatter(xlist_A_refine, A_set_refine, s=10, color='black')\n",
    "ax.scatter([2], [124], s=14, color='red')\n",
    "#plt.savefig('q1_boxplots_v2.png', dpi=200)\n",
    "plt.show()"
   ]
  },
  {
   "cell_type": "code",
   "execution_count": 16,
   "metadata": {},
   "outputs": [
    {
     "name": "stdout",
     "output_type": "stream",
     "text": [
      "There are 19 points.\n",
      "mean of A set is 133.95\n",
      "s^2 of A set is 503.83\n",
      "By numpy, s^2 of A set is 503.83\n"
     ]
    }
   ],
   "source": [
    "get_mean_variance(A_set_refine)"
   ]
  },
  {
   "cell_type": "markdown",
   "metadata": {},
   "source": [
    "<h2 style=\"color:blue\">Question 2: The data sets below are temperature readings from two different sensors (a Celsius sensor and a Fahrenheit sensor). Which sensor is better by picking the one with the least variance.</h2>"
   ]
  },
  {
   "cell_type": "code",
   "execution_count": 14,
   "metadata": {},
   "outputs": [],
   "source": [
    "celsius = [0, 10, 20, 30, 40] # unit: celsius\n",
    "fahrenheit = [32, 50, 68, 86, 104] # unit: fahrenheit"
   ]
  },
  {
   "cell_type": "code",
   "execution_count": 4,
   "metadata": {},
   "outputs": [
    {
     "name": "stdout",
     "output_type": "stream",
     "text": [
      "mean is 20.000.\n",
      "S is 15.811.\n",
      "CV is 79.057 %.\n"
     ]
    }
   ],
   "source": [
    "get_CV(celsius)"
   ]
  },
  {
   "cell_type": "code",
   "execution_count": 12,
   "metadata": {},
   "outputs": [
    {
     "name": "stdout",
     "output_type": "stream",
     "text": [
      "mean is 68.000.\n",
      "S is 28.460.\n",
      "CV is 41.854 %.\n"
     ]
    }
   ],
   "source": [
    "get_CV(fahrenheit)"
   ]
  },
  {
   "cell_type": "code",
   "execution_count": 15,
   "metadata": {},
   "outputs": [],
   "source": [
    "f_by_c = [fahrenheit_to_celsius(f) for f in fahrenheit]\n",
    "c_by_k = [celsius_to_kelvin(c) for c in celsius]\n",
    "f_by_k = [celsius_to_kelvin(f) for f in f_by_c]"
   ]
  },
  {
   "cell_type": "code",
   "execution_count": 17,
   "metadata": {},
   "outputs": [
    {
     "data": {
      "text/plain": [
       "[273.15, 283.15, 293.15, 303.15, 313.15]"
      ]
     },
     "execution_count": 17,
     "metadata": {},
     "output_type": "execute_result"
    }
   ],
   "source": [
    "c_by_k"
   ]
  },
  {
   "cell_type": "code",
   "execution_count": 16,
   "metadata": {},
   "outputs": [
    {
     "data": {
      "text/plain": [
       "[273.15, 283.15, 293.15, 303.15, 313.15]"
      ]
     },
     "execution_count": 16,
     "metadata": {},
     "output_type": "execute_result"
    }
   ],
   "source": [
    "f_by_k"
   ]
  },
  {
   "cell_type": "code",
   "execution_count": 18,
   "metadata": {},
   "outputs": [
    {
     "name": "stdout",
     "output_type": "stream",
     "text": [
      "mean is 293.150.\n",
      "S is 15.811.\n",
      "CV is 5.394 %.\n"
     ]
    }
   ],
   "source": [
    "get_CV(c_by_k)"
   ]
  },
  {
   "cell_type": "markdown",
   "metadata": {},
   "source": [
    "<h2 style=\"color:blue\">Question 3: Coevolution</h2>"
   ]
  },
  {
   "cell_type": "code",
   "execution_count": 21,
   "metadata": {},
   "outputs": [],
   "source": [
    "def process_data(data):\n",
    "    original = f'{data:.2f}'\n",
    "    round_one = f'{data:.1f}'\n",
    "    stem = round_one[:2]\n",
    "    leaf = round_one[-1]\n",
    "    return original, round_one, stem, leaf\n",
    "\n",
    "def make_dataframe(data_list):\n",
    "    columns = ['Original', 'Round', 'Stem', 'Leaf']\n",
    "    d_result = {'Original': list(), 'Round': list(), 'Stem': list(), 'Leaf': list()}\n",
    "    for data in data_list:\n",
    "        original, round_one, stem, leaf = process_data(data)\n",
    "        d_result['Original'].append(original)\n",
    "        d_result['Round'].append(round_one)\n",
    "        d_result['Stem'].append(stem)\n",
    "        d_result['Leaf'].append(leaf)\n",
    "    df = pd.DataFrame(d_result)\n",
    "    df = df.sort_values(by=['Original'])\n",
    "    s = pd.Series(list(range(1, len(data_list)+1)))\n",
    "    df = df.set_index(s)\n",
    "    return df[columns]"
   ]
  },
  {
   "cell_type": "code",
   "execution_count": 22,
   "metadata": {},
   "outputs": [],
   "source": [
    "H_red = [41.90, 42.01, 41.93, 43.09, 41.47, 41.69, 39.78, 40.57,\n",
    "         39.63, 42.18, 40.66, 37.87, 39.16, 37.40, 38.20, 38.07, \n",
    "         38.10, 37.97, 38.79, 38.23, 38.87, 37.78, 38.01]\n",
    "H_yellow = [36.78, 37.02, 36.52, 36.11, 36.03, 35.45, 38.13, 37.1,\n",
    "            35.17, 36.82, 36.66, 35.68, 36.03, 34.57, 34.63]"
   ]
  },
  {
   "cell_type": "code",
   "execution_count": 23,
   "metadata": {},
   "outputs": [],
   "source": [
    "df_red = make_dataframe(H_red)\n",
    "df_yellow = make_dataframe(H_yellow)"
   ]
  },
  {
   "cell_type": "code",
   "execution_count": 24,
   "metadata": {},
   "outputs": [
    {
     "data": {
      "text/html": [
       "<div>\n",
       "<style scoped>\n",
       "    .dataframe tbody tr th:only-of-type {\n",
       "        vertical-align: middle;\n",
       "    }\n",
       "\n",
       "    .dataframe tbody tr th {\n",
       "        vertical-align: top;\n",
       "    }\n",
       "\n",
       "    .dataframe thead th {\n",
       "        text-align: right;\n",
       "    }\n",
       "</style>\n",
       "<table border=\"1\" class=\"dataframe\">\n",
       "  <thead>\n",
       "    <tr style=\"text-align: right;\">\n",
       "      <th></th>\n",
       "      <th>Original</th>\n",
       "      <th>Round</th>\n",
       "      <th>Stem</th>\n",
       "      <th>Leaf</th>\n",
       "    </tr>\n",
       "  </thead>\n",
       "  <tbody>\n",
       "    <tr>\n",
       "      <th>1</th>\n",
       "      <td>37.40</td>\n",
       "      <td>37.4</td>\n",
       "      <td>37</td>\n",
       "      <td>4</td>\n",
       "    </tr>\n",
       "    <tr>\n",
       "      <th>2</th>\n",
       "      <td>37.78</td>\n",
       "      <td>37.8</td>\n",
       "      <td>37</td>\n",
       "      <td>8</td>\n",
       "    </tr>\n",
       "    <tr>\n",
       "      <th>3</th>\n",
       "      <td>37.87</td>\n",
       "      <td>37.9</td>\n",
       "      <td>37</td>\n",
       "      <td>9</td>\n",
       "    </tr>\n",
       "    <tr>\n",
       "      <th>4</th>\n",
       "      <td>37.97</td>\n",
       "      <td>38.0</td>\n",
       "      <td>38</td>\n",
       "      <td>0</td>\n",
       "    </tr>\n",
       "    <tr>\n",
       "      <th>5</th>\n",
       "      <td>38.01</td>\n",
       "      <td>38.0</td>\n",
       "      <td>38</td>\n",
       "      <td>0</td>\n",
       "    </tr>\n",
       "    <tr>\n",
       "      <th>6</th>\n",
       "      <td>38.07</td>\n",
       "      <td>38.1</td>\n",
       "      <td>38</td>\n",
       "      <td>1</td>\n",
       "    </tr>\n",
       "    <tr>\n",
       "      <th>7</th>\n",
       "      <td>38.10</td>\n",
       "      <td>38.1</td>\n",
       "      <td>38</td>\n",
       "      <td>1</td>\n",
       "    </tr>\n",
       "    <tr>\n",
       "      <th>8</th>\n",
       "      <td>38.20</td>\n",
       "      <td>38.2</td>\n",
       "      <td>38</td>\n",
       "      <td>2</td>\n",
       "    </tr>\n",
       "    <tr>\n",
       "      <th>9</th>\n",
       "      <td>38.23</td>\n",
       "      <td>38.2</td>\n",
       "      <td>38</td>\n",
       "      <td>2</td>\n",
       "    </tr>\n",
       "    <tr>\n",
       "      <th>10</th>\n",
       "      <td>38.79</td>\n",
       "      <td>38.8</td>\n",
       "      <td>38</td>\n",
       "      <td>8</td>\n",
       "    </tr>\n",
       "    <tr>\n",
       "      <th>11</th>\n",
       "      <td>38.87</td>\n",
       "      <td>38.9</td>\n",
       "      <td>38</td>\n",
       "      <td>9</td>\n",
       "    </tr>\n",
       "    <tr>\n",
       "      <th>12</th>\n",
       "      <td>39.16</td>\n",
       "      <td>39.2</td>\n",
       "      <td>39</td>\n",
       "      <td>2</td>\n",
       "    </tr>\n",
       "    <tr>\n",
       "      <th>13</th>\n",
       "      <td>39.63</td>\n",
       "      <td>39.6</td>\n",
       "      <td>39</td>\n",
       "      <td>6</td>\n",
       "    </tr>\n",
       "    <tr>\n",
       "      <th>14</th>\n",
       "      <td>39.78</td>\n",
       "      <td>39.8</td>\n",
       "      <td>39</td>\n",
       "      <td>8</td>\n",
       "    </tr>\n",
       "    <tr>\n",
       "      <th>15</th>\n",
       "      <td>40.57</td>\n",
       "      <td>40.6</td>\n",
       "      <td>40</td>\n",
       "      <td>6</td>\n",
       "    </tr>\n",
       "    <tr>\n",
       "      <th>16</th>\n",
       "      <td>40.66</td>\n",
       "      <td>40.7</td>\n",
       "      <td>40</td>\n",
       "      <td>7</td>\n",
       "    </tr>\n",
       "    <tr>\n",
       "      <th>17</th>\n",
       "      <td>41.47</td>\n",
       "      <td>41.5</td>\n",
       "      <td>41</td>\n",
       "      <td>5</td>\n",
       "    </tr>\n",
       "    <tr>\n",
       "      <th>18</th>\n",
       "      <td>41.69</td>\n",
       "      <td>41.7</td>\n",
       "      <td>41</td>\n",
       "      <td>7</td>\n",
       "    </tr>\n",
       "    <tr>\n",
       "      <th>19</th>\n",
       "      <td>41.90</td>\n",
       "      <td>41.9</td>\n",
       "      <td>41</td>\n",
       "      <td>9</td>\n",
       "    </tr>\n",
       "    <tr>\n",
       "      <th>20</th>\n",
       "      <td>41.93</td>\n",
       "      <td>41.9</td>\n",
       "      <td>41</td>\n",
       "      <td>9</td>\n",
       "    </tr>\n",
       "    <tr>\n",
       "      <th>21</th>\n",
       "      <td>42.01</td>\n",
       "      <td>42.0</td>\n",
       "      <td>42</td>\n",
       "      <td>0</td>\n",
       "    </tr>\n",
       "    <tr>\n",
       "      <th>22</th>\n",
       "      <td>42.18</td>\n",
       "      <td>42.2</td>\n",
       "      <td>42</td>\n",
       "      <td>2</td>\n",
       "    </tr>\n",
       "    <tr>\n",
       "      <th>23</th>\n",
       "      <td>43.09</td>\n",
       "      <td>43.1</td>\n",
       "      <td>43</td>\n",
       "      <td>1</td>\n",
       "    </tr>\n",
       "  </tbody>\n",
       "</table>\n",
       "</div>"
      ],
      "text/plain": [
       "   Original Round Stem Leaf\n",
       "1     37.40  37.4   37    4\n",
       "2     37.78  37.8   37    8\n",
       "3     37.87  37.9   37    9\n",
       "4     37.97  38.0   38    0\n",
       "5     38.01  38.0   38    0\n",
       "6     38.07  38.1   38    1\n",
       "7     38.10  38.1   38    1\n",
       "8     38.20  38.2   38    2\n",
       "9     38.23  38.2   38    2\n",
       "10    38.79  38.8   38    8\n",
       "11    38.87  38.9   38    9\n",
       "12    39.16  39.2   39    2\n",
       "13    39.63  39.6   39    6\n",
       "14    39.78  39.8   39    8\n",
       "15    40.57  40.6   40    6\n",
       "16    40.66  40.7   40    7\n",
       "17    41.47  41.5   41    5\n",
       "18    41.69  41.7   41    7\n",
       "19    41.90  41.9   41    9\n",
       "20    41.93  41.9   41    9\n",
       "21    42.01  42.0   42    0\n",
       "22    42.18  42.2   42    2\n",
       "23    43.09  43.1   43    1"
      ]
     },
     "execution_count": 24,
     "metadata": {},
     "output_type": "execute_result"
    }
   ],
   "source": [
    "df_red"
   ]
  },
  {
   "cell_type": "code",
   "execution_count": 25,
   "metadata": {},
   "outputs": [
    {
     "data": {
      "text/html": [
       "<div>\n",
       "<style scoped>\n",
       "    .dataframe tbody tr th:only-of-type {\n",
       "        vertical-align: middle;\n",
       "    }\n",
       "\n",
       "    .dataframe tbody tr th {\n",
       "        vertical-align: top;\n",
       "    }\n",
       "\n",
       "    .dataframe thead th {\n",
       "        text-align: right;\n",
       "    }\n",
       "</style>\n",
       "<table border=\"1\" class=\"dataframe\">\n",
       "  <thead>\n",
       "    <tr style=\"text-align: right;\">\n",
       "      <th></th>\n",
       "      <th>Original</th>\n",
       "      <th>Round</th>\n",
       "      <th>Stem</th>\n",
       "      <th>Leaf</th>\n",
       "    </tr>\n",
       "  </thead>\n",
       "  <tbody>\n",
       "    <tr>\n",
       "      <th>1</th>\n",
       "      <td>34.57</td>\n",
       "      <td>34.6</td>\n",
       "      <td>34</td>\n",
       "      <td>6</td>\n",
       "    </tr>\n",
       "    <tr>\n",
       "      <th>2</th>\n",
       "      <td>34.63</td>\n",
       "      <td>34.6</td>\n",
       "      <td>34</td>\n",
       "      <td>6</td>\n",
       "    </tr>\n",
       "    <tr>\n",
       "      <th>3</th>\n",
       "      <td>35.17</td>\n",
       "      <td>35.2</td>\n",
       "      <td>35</td>\n",
       "      <td>2</td>\n",
       "    </tr>\n",
       "    <tr>\n",
       "      <th>4</th>\n",
       "      <td>35.45</td>\n",
       "      <td>35.5</td>\n",
       "      <td>35</td>\n",
       "      <td>5</td>\n",
       "    </tr>\n",
       "    <tr>\n",
       "      <th>5</th>\n",
       "      <td>35.68</td>\n",
       "      <td>35.7</td>\n",
       "      <td>35</td>\n",
       "      <td>7</td>\n",
       "    </tr>\n",
       "    <tr>\n",
       "      <th>6</th>\n",
       "      <td>36.03</td>\n",
       "      <td>36.0</td>\n",
       "      <td>36</td>\n",
       "      <td>0</td>\n",
       "    </tr>\n",
       "    <tr>\n",
       "      <th>7</th>\n",
       "      <td>36.03</td>\n",
       "      <td>36.0</td>\n",
       "      <td>36</td>\n",
       "      <td>0</td>\n",
       "    </tr>\n",
       "    <tr>\n",
       "      <th>8</th>\n",
       "      <td>36.11</td>\n",
       "      <td>36.1</td>\n",
       "      <td>36</td>\n",
       "      <td>1</td>\n",
       "    </tr>\n",
       "    <tr>\n",
       "      <th>9</th>\n",
       "      <td>36.52</td>\n",
       "      <td>36.5</td>\n",
       "      <td>36</td>\n",
       "      <td>5</td>\n",
       "    </tr>\n",
       "    <tr>\n",
       "      <th>10</th>\n",
       "      <td>36.66</td>\n",
       "      <td>36.7</td>\n",
       "      <td>36</td>\n",
       "      <td>7</td>\n",
       "    </tr>\n",
       "    <tr>\n",
       "      <th>11</th>\n",
       "      <td>36.78</td>\n",
       "      <td>36.8</td>\n",
       "      <td>36</td>\n",
       "      <td>8</td>\n",
       "    </tr>\n",
       "    <tr>\n",
       "      <th>12</th>\n",
       "      <td>36.82</td>\n",
       "      <td>36.8</td>\n",
       "      <td>36</td>\n",
       "      <td>8</td>\n",
       "    </tr>\n",
       "    <tr>\n",
       "      <th>13</th>\n",
       "      <td>37.02</td>\n",
       "      <td>37.0</td>\n",
       "      <td>37</td>\n",
       "      <td>0</td>\n",
       "    </tr>\n",
       "    <tr>\n",
       "      <th>14</th>\n",
       "      <td>37.10</td>\n",
       "      <td>37.1</td>\n",
       "      <td>37</td>\n",
       "      <td>1</td>\n",
       "    </tr>\n",
       "    <tr>\n",
       "      <th>15</th>\n",
       "      <td>38.13</td>\n",
       "      <td>38.1</td>\n",
       "      <td>38</td>\n",
       "      <td>1</td>\n",
       "    </tr>\n",
       "  </tbody>\n",
       "</table>\n",
       "</div>"
      ],
      "text/plain": [
       "   Original Round Stem Leaf\n",
       "1     34.57  34.6   34    6\n",
       "2     34.63  34.6   34    6\n",
       "3     35.17  35.2   35    2\n",
       "4     35.45  35.5   35    5\n",
       "5     35.68  35.7   35    7\n",
       "6     36.03  36.0   36    0\n",
       "7     36.03  36.0   36    0\n",
       "8     36.11  36.1   36    1\n",
       "9     36.52  36.5   36    5\n",
       "10    36.66  36.7   36    7\n",
       "11    36.78  36.8   36    8\n",
       "12    36.82  36.8   36    8\n",
       "13    37.02  37.0   37    0\n",
       "14    37.10  37.1   37    1\n",
       "15    38.13  38.1   38    1"
      ]
     },
     "execution_count": 25,
     "metadata": {},
     "output_type": "execute_result"
    }
   ],
   "source": [
    "df_yellow"
   ]
  },
  {
   "cell_type": "markdown",
   "metadata": {},
   "source": [
    "Reference: https://www.ck12.org/statistics/two-sided-stem-and-leaf-plots/lesson/Two-Sided-Stem-and-Leaf-Plots-BSC-PST/"
   ]
  },
  {
   "cell_type": "code",
   "execution_count": 20,
   "metadata": {},
   "outputs": [],
   "source": [
    "# Round and to string\n",
    "H_red_round_str = [f'{data:.1f}' for data in H_red]\n",
    "H_red_round = [float(data) for data in H_red_round_str]\n",
    "\n",
    "# Get smallest\n",
    "minimum = np.min(H_red)\n",
    "minimum_str = f'{minimum}'\n",
    "minimum_int = int(minimum_str[:2])\n",
    "\n",
    "# Get largest\n",
    "maximum = np.max(H_red)\n",
    "maximum_str = f'{maximum}'\n",
    "maximum_int = int(maximum_str[:2])\n",
    "\n",
    "# Initialize data container\n",
    "d_result_red = dict()\n",
    "\n",
    "# Start Process\n",
    "for lower_bound in range(minimum_int, maximum_int+1):\n",
    "    upper_bound = lower_bound + 1\n",
    "    # lower_bound <= i < upper_bound\n",
    "    d_result_red[lower_bound] = [f'{data:.1f}' for data in H_red_round if ((data >= lower_bound) & (data < upper_bound))]"
   ]
  },
  {
   "cell_type": "code",
   "execution_count": 21,
   "metadata": {},
   "outputs": [
    {
     "data": {
      "text/plain": [
       "{37: ['37.9', '37.4', '37.8'],\n",
       " 38: ['38.2', '38.1', '38.1', '38.0', '38.8', '38.2', '38.9', '38.0'],\n",
       " 39: ['39.8', '39.6', '39.2'],\n",
       " 40: ['40.6', '40.7'],\n",
       " 41: ['41.9', '41.9', '41.5', '41.7'],\n",
       " 42: ['42.0', '42.2'],\n",
       " 43: ['43.1']}"
      ]
     },
     "execution_count": 21,
     "metadata": {},
     "output_type": "execute_result"
    }
   ],
   "source": [
    "d_result_red"
   ]
  },
  {
   "cell_type": "code",
   "execution_count": 22,
   "metadata": {},
   "outputs": [],
   "source": [
    "# Round and to string\n",
    "H_yellow_round_str = [f'{data:.1f}' for data in H_yellow]\n",
    "H_yellow_round = [float(data) for data in H_yellow_round_str]\n",
    "\n",
    "# Get smallest\n",
    "minimum = np.min(H_yellow)\n",
    "minimum_str = f'{minimum}'\n",
    "minimum_int = int(minimum_str[:2])\n",
    "\n",
    "# Get largest\n",
    "maximum = np.max(H_yellow)\n",
    "maximum_str = f'{maximum}'\n",
    "maximum_int = int(maximum_str[:2])\n",
    "\n",
    "# Initialize data container\n",
    "d_result_yellow = dict()\n",
    "\n",
    "# Start Process\n",
    "for lower_bound in range(minimum_int, maximum_int+1):\n",
    "    upper_bound = lower_bound + 1\n",
    "    # lower_bound <= i < upper_bound\n",
    "    d_result_yellow[lower_bound] = [f'{data:.1f}' for data in H_yellow_round if ((data >= lower_bound) & (data < upper_bound))]"
   ]
  },
  {
   "cell_type": "code",
   "execution_count": 23,
   "metadata": {},
   "outputs": [
    {
     "data": {
      "text/plain": [
       "{34: ['34.6', '34.6'],\n",
       " 35: ['35.5', '35.2', '35.7'],\n",
       " 36: ['36.8', '36.5', '36.1', '36.0', '36.8', '36.7', '36.0'],\n",
       " 37: ['37.0', '37.1'],\n",
       " 38: ['38.1']}"
      ]
     },
     "execution_count": 23,
     "metadata": {},
     "output_type": "execute_result"
    }
   ],
   "source": [
    "d_result_yellow"
   ]
  },
  {
   "cell_type": "code",
   "execution_count": 14,
   "metadata": {},
   "outputs": [
    {
     "name": "stdout",
     "output_type": "stream",
     "text": [
      "Min: 34.570\n",
      "Q1-1.5IQR: 33.712\n",
      "Q1: 35.565\n",
      "Median: 36.110\n",
      "Q3: 36.800\n",
      "Q3+1.5IQR: 38.652\n",
      "Max: 38.130\n"
     ]
    }
   ],
   "source": [
    "get_5_number_summary(H_yellow)"
   ]
  },
  {
   "cell_type": "code",
   "execution_count": 6,
   "metadata": {},
   "outputs": [
    {
     "data": {
      "text/plain": [
       "23"
      ]
     },
     "execution_count": 6,
     "metadata": {},
     "output_type": "execute_result"
    }
   ],
   "source": [
    "len(H_red)"
   ]
  },
  {
   "cell_type": "code",
   "execution_count": null,
   "metadata": {},
   "outputs": [],
   "source": []
  }
 ],
 "metadata": {
  "kernelspec": {
   "display_name": "Python 3",
   "language": "python",
   "name": "python3"
  },
  "language_info": {
   "codemirror_mode": {
    "name": "ipython",
    "version": 3
   },
   "file_extension": ".py",
   "mimetype": "text/x-python",
   "name": "python",
   "nbconvert_exporter": "python",
   "pygments_lexer": "ipython3",
   "version": "3.8.5"
  }
 },
 "nbformat": 4,
 "nbformat_minor": 4
}
