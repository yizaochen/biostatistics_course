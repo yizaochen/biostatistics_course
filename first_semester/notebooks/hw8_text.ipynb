{
 "cells": [
  {
   "cell_type": "markdown",
   "metadata": {},
   "source": [
    "<h2 style=\"color:blue\">Q1</h2>"
   ]
  },
  {
   "cell_type": "markdown",
   "metadata": {},
   "source": [
    "<h4 style=\"color:blue\">\n",
    "Bags of a certain brand of tortilla chips claim to have a net weight of 14 ounces. The net weights actually vary slightly from bag to bag and are normally distributed with mean $\\mu$. A representative of a consumer advocacy group wishes to see if there is any evidence that the mean net weight is less than advertised. For this, the representative randomly selects 16 bags of this brand and determines the net weight of each. He finds the sample mean to be $\\bar{X}$ = 13.82 and the sample standard deviation to be S = 0.24. Use these data to perform an appropriate test of hypothesis at 5% significance level. \n",
    "</h4>"
   ]
  },
  {
   "cell_type": "markdown",
   "metadata": {},
   "source": [
    "#### Step 1: Write down the two hypotheses:\n",
    "\\begin{align*}\n",
    "H_0: \\mu &= 14 \\\\\n",
    "H_a: \\mu &< 14\n",
    "\\end{align*}"
   ]
  },
  {
   "cell_type": "markdown",
   "metadata": {},
   "source": [
    "#### Step 2: From the direction of $H_a$ , decide the rule of rejecting $H_0$:\n",
    "\\begin{align*}\n",
    "\\text{Reject }H_0\\text{ if }\\bar{X}<\\mu-t^{*}_{\\alpha}\\frac{s}{\\sqrt{n}}\n",
    "\\end{align*}"
   ]
  },
  {
   "cell_type": "markdown",
   "metadata": {},
   "source": [
    "##### The degrees of freedom\n",
    "\\begin{align*}\n",
    "n-1 = 16 - 1 = 15\n",
    "\\end{align*}"
   ]
  },
  {
   "cell_type": "markdown",
   "metadata": {},
   "source": [
    "From the t-table\n",
    "\\begin{align*}\n",
    "\\alpha &= 0.05 \\\\\n",
    "t^{*}_{\\alpha} &= 1.753\n",
    "\\end{align*}"
   ]
  },
  {
   "cell_type": "markdown",
   "metadata": {},
   "source": [
    "so\n",
    "\\begin{align*}\n",
    "\\mu-t^{*}_{\\alpha}\\frac{s}{\\sqrt{n}}=14-1.753\\frac{0.24}{\\sqrt{16}}=13.895\n",
    "\\end{align*}"
   ]
  },
  {
   "cell_type": "markdown",
   "metadata": {},
   "source": [
    "#### Step 3: Apply the formula and check whether $\\bar{X} = 13.82$ is located in the rejection region:\n",
    "\n",
    "\\begin{align*}\n",
    "\\bar{X}&<\\mu-t^{*}_{\\alpha}\\frac{s}{\\sqrt{n}}\\\\\n",
    "13.82 &< 13.895\n",
    "\\end{align*}"
   ]
  },
  {
   "cell_type": "markdown",
   "metadata": {},
   "source": [
    "<p style=\"color:red\">\n",
    "Since $13.82 < 13.895$, we reject\n",
    "\\begin{align*}\n",
    "    H_0 : \\mu=14\n",
    "\\end{align*}\n",
    "which implies that there is significant evidence to support\n",
    "\\begin{align*}\n",
    " H_a :\\mu < 14\n",
    "\\end{align*}\n",
    "</p>"
   ]
  },
  {
   "cell_type": "markdown",
   "metadata": {},
   "source": [
    "<img src=\"./hw8_images/HW8_Q1.png\" width=\"500\" alt=\"None\">"
   ]
  },
  {
   "cell_type": "markdown",
   "metadata": {},
   "source": [
    "<h2 style=\"color:blue\">Q2</h2>"
   ]
  },
  {
   "cell_type": "markdown",
   "metadata": {},
   "source": [
    "<h4 style=\"color:blue\">\n",
    "    The time needed for college students to complete a certain maze follows a normal\n",
    "distribution with a mean of 45 seconds. To see if the mean time $\\mu$ (in seconds) is changed by\n",
    "vigorous exercise, we have a group of nine college students exercise vigorously for 30 minutes\n",
    "and then complete the maze. The sample mean and standard deviation of the collected data is 49.2\n",
    "seconds and 3.5 seconds respectively. Use these data to perform an appropriate test of hypothesis\n",
    "at 5% level of significance.\n",
    "</h4>"
   ]
  },
  {
   "cell_type": "markdown",
   "metadata": {},
   "source": [
    "#### Step 1: Write down the two hypotheses:\n",
    "\\begin{align*}\n",
    "H_0: \\mu &= 45 \\\\\n",
    "H_a: \\mu &\\neq 45\n",
    "\\end{align*}"
   ]
  },
  {
   "cell_type": "markdown",
   "metadata": {},
   "source": [
    "#### Step 2: From the direction of $H_a$ , decide the rule of rejecting $H_0$:\n",
    "\\begin{align*}\n",
    "\\text{Reject }H_0\\text{ if  } t_{obs} =\\lvert \\frac{\\bar{X}_{obs}-\\mu}{s/\\sqrt{n}} \\rvert > t^{*}_{\\alpha/2}\n",
    "\\end{align*}"
   ]
  },
  {
   "cell_type": "markdown",
   "metadata": {},
   "source": [
    "##### The degrees of freedom\n",
    "\\begin{align*}\n",
    "n-1 = 9 - 1 = 8\n",
    "\\end{align*}"
   ]
  },
  {
   "cell_type": "markdown",
   "metadata": {},
   "source": [
    "From the t-table\n",
    "\\begin{align*}\n",
    "\\alpha &= 0.05 \\\\\n",
    "t^{*}_{\\alpha/2} &= 2.306\n",
    "\\end{align*}"
   ]
  },
  {
   "cell_type": "markdown",
   "metadata": {},
   "source": [
    "so\n",
    "\\begin{align*}\n",
    " t_{obs} =\\lvert \\frac{\\bar{X}_{obs}-\\mu}{s/\\sqrt{n}} \\rvert = \\lvert  \\frac{49.2-45}{3.5/\\sqrt{9}} \\rvert = 3.6\n",
    "\\end{align*}"
   ]
  },
  {
   "cell_type": "markdown",
   "metadata": {},
   "source": [
    "#### Step 3: Apply the formula and check whether $t_{obs} = 3.6$ is located in the rejection region:\n",
    "\\begin{align*}\n",
    "t_{obs}&>t^{*}_{\\alpha/2}\\\\\n",
    "3.6 &> 2.306\n",
    "\\end{align*}"
   ]
  },
  {
   "cell_type": "markdown",
   "metadata": {},
   "source": [
    "<p style=\"color:red\">\n",
    "Since $3.6 > 2.306$, we reject\n",
    "\\begin{align*}\n",
    "    H_0 : \\mu=45\n",
    "\\end{align*}\n",
    "which implies that there is significant evidence to support\n",
    "\\begin{align*}\n",
    " H_a :\\mu \\neq 45\n",
    "\\end{align*}\n",
    "</p>"
   ]
  },
  {
   "cell_type": "markdown",
   "metadata": {},
   "source": [
    "<img src=\"./hw8_images/HW8_Q2.png\" width=\"500\" alt=\"None\">"
   ]
  },
  {
   "cell_type": "markdown",
   "metadata": {},
   "source": [
    "<h2 style=\"color:blue\">Q3</h2>"
   ]
  },
  {
   "cell_type": "markdown",
   "metadata": {},
   "source": [
    "<h4 style=\"color:blue\">\n",
    "To assess the accuracy of a laboratory scale, a standard weight that is known to weigh 1 gram is repeatedly weighed 4 times. The resulting measurements (in grams) are: 0.95, 1.02, 1.01, 0.98. Assume that the weighings by the scale when the true weight is 1 gram are normally distributed with mean $\\mu$. \n",
    "   \n",
    "**a)** Use these data to compute a 95% confidence interval for $\\mu$.  \n",
    "</h4>"
   ]
  },
  {
   "cell_type": "markdown",
   "metadata": {},
   "source": [
    "The sample mean is\n",
    "\\begin{align*}\n",
    "\\bar{x} = 0.99\n",
    "\\end{align*}"
   ]
  },
  {
   "cell_type": "markdown",
   "metadata": {},
   "source": [
    "The standard deviation is\n",
    "\\begin{align*}\n",
    "s = \\sqrt{\\frac{\\sum_{i=1}^{n}(x_i-\\bar{x})^2}{n-1}}=0.0316\n",
    "\\end{align*}"
   ]
  },
  {
   "cell_type": "markdown",
   "metadata": {},
   "source": [
    "##### The degrees of freedom\n",
    "\\begin{align*}\n",
    "n-1 = 4 - 1 = 3\n",
    "\\end{align*}"
   ]
  },
  {
   "cell_type": "markdown",
   "metadata": {},
   "source": [
    "A 95% confidence interval for $\\mu$ is\n",
    "\\begin{align*}\n",
    "\\bar{x} &\\pm t^* \\frac{s}{\\sqrt{n}} \\\\\n",
    "t^* &= 3.182\n",
    "\\end{align*}\n",
    "Therefore, it becomes\n",
    "\\begin{align*}\n",
    "0.99 \\pm 3.182 \\frac{0.0316}{\\sqrt{4}}\n",
    "\\end{align*}"
   ]
  },
  {
   "cell_type": "markdown",
   "metadata": {},
   "source": [
    "<p style=\"color:red\">\n",
    "The 95% confidence interval for $\\mu$ is\n",
    "\\begin{align*}\n",
    "    0.9397 \\text{ to } 1.0403\n",
    "\\end{align*}\n",
    "</p>"
   ]
  },
  {
   "cell_type": "markdown",
   "metadata": {},
   "source": [
    "<h4 style=\"color:blue\">\n",
    "    \n",
    "**b)** Do these data give evidence at 5% significance level that the scale is not accurate? Answer this question by performing an appropriate test of hypothesis.\n",
    "</h4>"
   ]
  },
  {
   "cell_type": "markdown",
   "metadata": {},
   "source": [
    "#### Step 1: Write down the two hypotheses:\n",
    "\\begin{align*}\n",
    "H_0: \\mu &= 1 \\\\\n",
    "H_a: \\mu &\\neq 1\n",
    "\\end{align*}"
   ]
  },
  {
   "cell_type": "markdown",
   "metadata": {},
   "source": [
    "#### Step 2: From the direction of $H_a$ , decide the rule of rejecting $H_0$:\n",
    "\\begin{align*}\n",
    "\\text{Reject }H_0\\text{ if  } t_{obs} =\\lvert \\frac{\\bar{x}_{obs}-\\mu}{s/\\sqrt{n}} \\rvert > t^{*}_{\\alpha/2}\n",
    "\\end{align*}"
   ]
  },
  {
   "cell_type": "markdown",
   "metadata": {},
   "source": [
    "From the t-table\n",
    "\\begin{align*}\n",
    "\\alpha &= 0.05 \\\\\n",
    "t^{*}_{\\alpha/2} &= 3.182\n",
    "\\end{align*}"
   ]
  },
  {
   "cell_type": "markdown",
   "metadata": {},
   "source": [
    "so\n",
    "\\begin{align*}\n",
    " t_{obs} =\\lvert \\frac{\\bar{x}_{obs}-\\mu}{s/\\sqrt{n}} \\rvert = \\lvert  \\frac{0.99-1}{0.0316/\\sqrt{4}} \\rvert = 0.6325\n",
    "\\end{align*}"
   ]
  },
  {
   "cell_type": "markdown",
   "metadata": {},
   "source": [
    "#### Step 3: Apply the formula and check whether $t_{obs} = 0.6325$ is located in the rejection region:\n",
    "\\begin{align*}\n",
    "t_{obs}&>t^{*}_{\\alpha/2}\\\\\n",
    "0.6325 &\\ngtr 3.182\n",
    "\\end{align*}"
   ]
  },
  {
   "cell_type": "markdown",
   "metadata": {},
   "source": [
    "<p style=\"color:red\">\n",
    "Since $0.6325 \\ngtr 3.182$, we fail to reject\n",
    "\\begin{align*}\n",
    "    H_0 : \\mu= 1\n",
    "\\end{align*}\n",
    "and we can not say the scale is not accurate at 5% significance level.\n",
    "</p>"
   ]
  },
  {
   "cell_type": "markdown",
   "metadata": {},
   "source": [
    "<img src=\"./hw8_images/HW8_Q3.png\" width=\"500\" alt=\"None\">"
   ]
  },
  {
   "cell_type": "markdown",
   "metadata": {},
   "source": [
    "<h2 style=\"color:blue\">Q4</h2>"
   ]
  },
  {
   "cell_type": "markdown",
   "metadata": {},
   "source": [
    "<h4 style=\"color:blue\">\n",
    "Example : Given the following GPA for 6 students : 2.80, 3.20, 3.75, 3.10, 2.95, 3.40\n",
    "</h4>"
   ]
  },
  {
   "cell_type": "markdown",
   "metadata": {},
   "source": [
    "First, we need to calculate the sample mean $\\bar{x}_{obs}$ and the sample standard deviation $s$\n",
    "\\begin{align*}\n",
    "\\bar{x}_{obs} &= 3.2 \\\\\n",
    "s &= 0.34\n",
    "\\end{align*}"
   ]
  },
  {
   "cell_type": "markdown",
   "metadata": {},
   "source": [
    "##### The degrees of freedom\n",
    "\\begin{align*}\n",
    "n-1 = 6 - 1 = 5\n",
    "\\end{align*}"
   ]
  },
  {
   "cell_type": "markdown",
   "metadata": {},
   "source": [
    "<h4 style=\"color:blue\">\n",
    "(a) Calculate a 95% confidence interval for the population mean GPA .? \n",
    "</h4>"
   ]
  },
  {
   "cell_type": "markdown",
   "metadata": {},
   "source": [
    "A 95% confidence interval will be the form\n",
    "\\begin{align*}\n",
    "\\bar{x}_{obs} \\pm t^* \\frac{s}{\\sqrt{n}}\n",
    "\\end{align*}"
   ]
  },
  {
   "cell_type": "markdown",
   "metadata": {},
   "source": [
    "From t-table, we get\n",
    "\\begin{align*}\n",
    "t^* = 2.571\n",
    "\\end{align*}"
   ]
  },
  {
   "cell_type": "markdown",
   "metadata": {},
   "source": [
    "Therefore, it becomes\n",
    "\\begin{align*}\n",
    "3.2 \\pm 2.571 \\frac{0.34}{\\sqrt{6}}\n",
    "\\end{align*}"
   ]
  },
  {
   "cell_type": "markdown",
   "metadata": {},
   "source": [
    "<p style=\"color:red\">\n",
    "The 95% confidence interval for $\\mu$ is\n",
    "\\begin{align*}\n",
    "    2.84 \\text{ to } 3.56\n",
    "\\end{align*}\n",
    "</p>"
   ]
  },
  {
   "cell_type": "markdown",
   "metadata": {},
   "source": [
    "<h4 style=\"color:blue\">\n",
    "(b) If the confidence level is increased from 95% to 99% , will the length of the confidence interval increase , decrease , or remain the same ?\n",
    "</h4>"
   ]
  },
  {
   "cell_type": "markdown",
   "metadata": {},
   "source": [
    "A 99% confidence interval will be the form\n",
    "\\begin{align*}\n",
    "\\bar{x}_{obs} \\pm t^* \\frac{s}{\\sqrt{n}}\n",
    "\\end{align*}"
   ]
  },
  {
   "cell_type": "markdown",
   "metadata": {},
   "source": [
    "From t-table, we get\n",
    "\\begin{align*}\n",
    "t^* = 4.032\n",
    "\\end{align*}"
   ]
  },
  {
   "cell_type": "markdown",
   "metadata": {},
   "source": [
    "Therefore, it becomes\n",
    "\\begin{align*}\n",
    "3.2 \\pm 4.032 \\frac{0.34}{\\sqrt{6}}\n",
    "\\end{align*}"
   ]
  },
  {
   "cell_type": "markdown",
   "metadata": {},
   "source": [
    "<p style=\"color:red\">\n",
    "The 99% confidence interval for $\\mu$ is\n",
    "\\begin{align*}\n",
    "    2.64 \\text{ to } 3.76\n",
    "\\end{align*}\n",
    "Compared to 95% confidence interval, the length of the 99% confidence interval increases.\n",
    "</p>"
   ]
  },
  {
   "cell_type": "markdown",
   "metadata": {},
   "source": [
    "<h4 style=\"color:blue\">\n",
    "(c) If the confidence level is kept at 95% but the sample size is quadrupled to n = 24?\n",
    "</h4>"
   ]
  },
  {
   "cell_type": "markdown",
   "metadata": {},
   "source": [
    "We assume the sample mean and the sample standard deviation keep the same when we increase the sample size."
   ]
  },
  {
   "cell_type": "markdown",
   "metadata": {},
   "source": [
    "##### The degrees of freedom will change\n",
    "\\begin{align*}\n",
    "n-1 = 24 - 1 = 23\n",
    "\\end{align*}"
   ]
  },
  {
   "cell_type": "markdown",
   "metadata": {},
   "source": [
    "A 95% confidence interval will be the form\n",
    "\\begin{align*}\n",
    "\\bar{x}_{obs} \\pm t^* \\frac{s}{\\sqrt{n}}\n",
    "\\end{align*}"
   ]
  },
  {
   "cell_type": "markdown",
   "metadata": {},
   "source": [
    "From t-table, we get\n",
    "\\begin{align*}\n",
    "t^* = 2.069\n",
    "\\end{align*}"
   ]
  },
  {
   "cell_type": "markdown",
   "metadata": {},
   "source": [
    "Therefore, it becomes\n",
    "\\begin{align*}\n",
    "3.2 \\pm 2.069 \\frac{0.34}{\\sqrt{24}}\n",
    "\\end{align*}"
   ]
  },
  {
   "cell_type": "markdown",
   "metadata": {},
   "source": [
    "<p style=\"color:red\">\n",
    "The 95% confidence interval for $\\mu$ is\n",
    "\\begin{align*}\n",
    "    3.06 \\text{ to } 3.34\n",
    "\\end{align*}\n",
    "As you can see, when we increase the sample size, the confidence interval becomes shorter.\n",
    "</p>"
   ]
  },
  {
   "cell_type": "markdown",
   "metadata": {},
   "source": [
    "<h2 style=\"color:blue\">Q5</h2>"
   ]
  },
  {
   "cell_type": "markdown",
   "metadata": {},
   "source": [
    "<h4 style=\"color:blue\">\n",
    "The hypothesis $H_0: \\mu_0=15$ is to be tested against $H_a: \\mu_a \\neq 15$ with $\\alpha=0.05$\n",
    "</h4>"
   ]
  },
  {
   "cell_type": "markdown",
   "metadata": {},
   "source": [
    "<h4 style=\"color:blue\">\n",
    "A random sample results in : $n = 20$, $\\bar{x}=17.5$, $s=5.9$\n",
    "</h4>"
   ]
  },
  {
   "cell_type": "markdown",
   "metadata": {},
   "source": [
    "<h4 style=\"color:blue\">\n",
    "(a) Which distribution should be used ? why ?\n",
    "</h4>"
   ]
  },
  {
   "cell_type": "markdown",
   "metadata": {},
   "source": [
    "Because we don't know $\\sigma$, so we estimate $\\frac{\\sigma}{\\sqrt{n}}$ by $\\frac{s}{\\sqrt{n}}$. The statistic that results does not have a Normal distribution. Instead, it has a t-distribution with $n-1$ degrees of freedom."
   ]
  },
  {
   "cell_type": "markdown",
   "metadata": {},
   "source": [
    "<p style=\"color:red\">\n",
    "The distribution we will use is $t(19)$\n",
    "</p>"
   ]
  },
  {
   "cell_type": "markdown",
   "metadata": {},
   "source": [
    "<img src=\"./hw8_images/HW8_Q5_1.png\" width=\"500\" alt=\"None\">"
   ]
  },
  {
   "cell_type": "markdown",
   "metadata": {},
   "source": [
    "<h4 style=\"color:blue\">\n",
    "(b) What is the P-value?\n",
    "</h4>"
   ]
  },
  {
   "cell_type": "markdown",
   "metadata": {},
   "source": [
    "The alternative is two-sided, the P-value is the probability of getting an $\\bar{x}$ at least as far from $\\mu_0=15$ in either direction as the observed $\\bar{x}=17.5$"
   ]
  },
  {
   "cell_type": "markdown",
   "metadata": {},
   "source": [
    "We first do standardization\n",
    "\\begin{align*}\n",
    "t_{obs} = \\frac{\\bar{x}-\\mu_0}{s/\\sqrt{n}}=\\frac{17.5-15}{5.9/\\sqrt{20}} = 1.895\n",
    "\\end{align*}"
   ]
  },
  {
   "cell_type": "markdown",
   "metadata": {},
   "source": [
    "P-value is \n",
    "\\begin{align*}\n",
    "P(T_{19}>1.895)+P(T_{19}<-1.895)\n",
    "\\end{align*}"
   ]
  },
  {
   "cell_type": "markdown",
   "metadata": {},
   "source": [
    "From t-table, we know\n",
    "\\begin{align*}\n",
    "P(T_{19}>1.895) \\in (0.025, 0.05)\n",
    "\\end{align*}"
   ]
  },
  {
   "cell_type": "markdown",
   "metadata": {},
   "source": [
    "<p style=\"color:red\">\n",
    "so the p-value is\n",
    "\\begin{align*}\n",
    "P(T_{19}>1.895)+P(T_{19}<-1.895) \\in (0.05, 0.10)\n",
    "\\end{align*}\n",
    "</p>"
   ]
  },
  {
   "cell_type": "markdown",
   "metadata": {},
   "source": [
    "<img src=\"./hw8_images/HW8_Q5_2.png\" width=\"500\" alt=\"None\">"
   ]
  },
  {
   "cell_type": "markdown",
   "metadata": {},
   "source": [
    "<h4 style=\"color:blue\">\n",
    "(c) What's your conclusion regarding the null hypothesis?\n",
    "</h4>"
   ]
  },
  {
   "cell_type": "markdown",
   "metadata": {},
   "source": [
    "<p style=\"color:red\">\n",
    "Since the P-value$\\in (0.05,0.1)>\\alpha=0.05$, we fail to reject $H_0$.\n",
    "</p>"
   ]
  },
  {
   "cell_type": "markdown",
   "metadata": {},
   "source": [
    "<h4 style=\"color:blue\">\n",
    "(d) If $H_a: \\mu_a \\geq 15$\n",
    "</h4>"
   ]
  },
  {
   "cell_type": "markdown",
   "metadata": {},
   "source": [
    "P-value becomes \n",
    "\\begin{align*}\n",
    "P(T_{19}>1.895)\n",
    "\\end{align*}"
   ]
  },
  {
   "cell_type": "markdown",
   "metadata": {},
   "source": [
    "From t-table, we know\n",
    "\\begin{align*}\n",
    "P(T_{19}>1.895) \\in (0.025, 0.05)\n",
    "\\end{align*}"
   ]
  },
  {
   "cell_type": "markdown",
   "metadata": {},
   "source": [
    "<p style=\"color:red\">\n",
    "Since the P-value$\\in (0.0025,0.05)<\\alpha=0.05$, we reject $H_0$.\n",
    "</p>"
   ]
  },
  {
   "cell_type": "markdown",
   "metadata": {},
   "source": [
    "<img src=\"./hw8_images/HW8_Q5_4.png\" width=\"500\" alt=\"None\">"
   ]
  },
  {
   "cell_type": "markdown",
   "metadata": {},
   "source": [
    "<h4 style=\"color:blue\">\n",
    "(e) If $H_a: \\mu_a \\leq 15$\n",
    "</h4>"
   ]
  },
  {
   "cell_type": "markdown",
   "metadata": {},
   "source": [
    "P-value becomes \n",
    "\\begin{align*}\n",
    "P(T_{19}<-1.895)\n",
    "\\end{align*}"
   ]
  },
  {
   "cell_type": "markdown",
   "metadata": {},
   "source": [
    "From t-table, we know\n",
    "\\begin{align*}\n",
    "P(T_{19}<-1.895) \\in (0.025, 0.05)\n",
    "\\end{align*}"
   ]
  },
  {
   "cell_type": "markdown",
   "metadata": {},
   "source": [
    "<p style=\"color:red\">\n",
    "Since the P-value$\\in (0.0025,0.05)<\\alpha=0.05$, we reject $H_0$.\n",
    "</p>"
   ]
  },
  {
   "cell_type": "markdown",
   "metadata": {},
   "source": [
    "<img src=\"./hw8_images/HW8_Q5_5.png\" width=\"500\" alt=\"None\">"
   ]
  },
  {
   "cell_type": "code",
   "execution_count": null,
   "metadata": {},
   "outputs": [],
   "source": []
  }
 ],
 "metadata": {
  "kernelspec": {
   "display_name": "Python 3",
   "language": "python",
   "name": "python3"
  },
  "language_info": {
   "codemirror_mode": {
    "name": "ipython",
    "version": 3
   },
   "file_extension": ".py",
   "mimetype": "text/x-python",
   "name": "python",
   "nbconvert_exporter": "python",
   "pygments_lexer": "ipython3",
   "version": "3.8.5"
  }
 },
 "nbformat": 4,
 "nbformat_minor": 4
}
