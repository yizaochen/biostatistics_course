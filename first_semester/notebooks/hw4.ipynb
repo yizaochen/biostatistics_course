{
 "cells": [
  {
   "cell_type": "code",
   "execution_count": 1,
   "metadata": {},
   "outputs": [],
   "source": [
    "from matplotlib import pyplot as plt\n",
    "from scipy.stats import binom\n",
    "import numpy as np\n",
    "from biostat.tree_diagram import TreeModify, scatter_xy"
   ]
  },
  {
   "cell_type": "markdown",
   "metadata": {},
   "source": [
    "### Case 1"
   ]
  },
  {
   "cell_type": "code",
   "execution_count": 9,
   "metadata": {},
   "outputs": [
    {
     "name": "stdout",
     "output_type": "stream",
     "text": [
      "Set result container.\n"
     ]
    }
   ],
   "source": [
    "tagent = TreeModify()\n",
    "\n",
    "level_list = [0, 1, 2, 3, 4, 5]\n",
    "tagent.create_container(level_list)"
   ]
  },
  {
   "cell_type": "code",
   "execution_count": 10,
   "metadata": {},
   "outputs": [],
   "source": [
    "tagent.make_data_by_npoints(1, 5)\n",
    "tagent.make_data_by_npoints(1, 4)\n",
    "tagent.make_data_by_npoints(1, 3)\n",
    "tagent.make_data_by_npoints(1, 2)\n",
    "tagent.make_data_by_npoints(1, 1)\n",
    "tagent.make_data_by_npoints(1, 0)"
   ]
  },
  {
   "cell_type": "code",
   "execution_count": 11,
   "metadata": {},
   "outputs": [
    {
     "data": {
      "image/png": "[encoded data removed]",
      "text/plain": [
       "<Figure size 432x144 with 1 Axes>"
      ]
     },
     "metadata": {
      "needs_background": "light"
     },
     "output_type": "display_data"
    }
   ],
   "source": [
    "fig, ax = plt.subplots(ncols=1, nrows=1, figsize=(6, 2))\n",
    "\n",
    "for level in range(0, 6):\n",
    "    xlist, ylist = tagent.get_xlist_ylist_for_level(level)\n",
    "    scatter_xy(ax, xlist, ylist)\n",
    "    \n",
    "ax.axis('off')\n",
    "#plt.savefig('hw4_q1_1.svg')\n",
    "plt.show()"
   ]
  },
  {
   "cell_type": "markdown",
   "metadata": {},
   "source": [
    "### Case 2"
   ]
  },
  {
   "cell_type": "code",
   "execution_count": 19,
   "metadata": {},
   "outputs": [
    {
     "name": "stdout",
     "output_type": "stream",
     "text": [
      "Set result container.\n"
     ]
    }
   ],
   "source": [
    "tagent = TreeModify()\n",
    "\n",
    "level_list = [0, 1, 2, 3, 4, 5]\n",
    "tagent.create_container(level_list)"
   ]
  },
  {
   "cell_type": "code",
   "execution_count": 20,
   "metadata": {},
   "outputs": [],
   "source": [
    "tagent.make_data_by_npoints(2, 5)\n",
    "tagent.make_data_by_npoints(2, 4)\n",
    "tagent.make_data_by_npoints(2, 3)\n",
    "\n",
    "tagent.make_data_by_prev_level(2)\n",
    "tagent.make_data_by_ylist([0.5], 1)\n",
    "tagent.make_data_by_ylist([0.5], 0)"
   ]
  },
  {
   "cell_type": "code",
   "execution_count": 23,
   "metadata": {},
   "outputs": [
    {
     "data": {
      "image/png": "[encoded data removed]",
      "text/plain": [
       "<Figure size 432x144 with 1 Axes>"
      ]
     },
     "metadata": {
      "needs_background": "light"
     },
     "output_type": "display_data"
    }
   ],
   "source": [
    "fig, ax = plt.subplots(ncols=1, nrows=1, figsize=(6, 2))\n",
    "\n",
    "for level in range(0, 6):\n",
    "    xlist, ylist = tagent.get_xlist_ylist_for_level(level)\n",
    "    scatter_xy(ax, xlist, ylist)\n",
    "    \n",
    "ax.axis('off')\n",
    "#plt.savefig('hw4_q1_2.svg')\n",
    "plt.show()"
   ]
  },
  {
   "cell_type": "markdown",
   "metadata": {},
   "source": [
    "### Case 3"
   ]
  },
  {
   "cell_type": "code",
   "execution_count": 24,
   "metadata": {},
   "outputs": [
    {
     "name": "stdout",
     "output_type": "stream",
     "text": [
      "Set result container.\n"
     ]
    }
   ],
   "source": [
    "tagent = TreeModify()\n",
    "\n",
    "level_list = [0, 1, 2, 3, 4, 5]\n",
    "tagent.create_container(level_list)"
   ]
  },
  {
   "cell_type": "code",
   "execution_count": 25,
   "metadata": {},
   "outputs": [],
   "source": [
    "tagent.make_data_by_npoints(2, 5)\n",
    "tagent.make_data_by_npoints(2, 4)\n",
    "tagent.make_data_by_npoints(2, 3)\n",
    "tagent.make_data_by_npoints(2, 2)\n",
    "tagent.make_data_by_npoints(2, 1)\n",
    "tagent.make_data_by_prev_level(0)"
   ]
  },
  {
   "cell_type": "code",
   "execution_count": 26,
   "metadata": {},
   "outputs": [
    {
     "data": {
      "image/png": "[encoded data removed]",
      "text/plain": [
       "<Figure size 432x144 with 1 Axes>"
      ]
     },
     "metadata": {
      "needs_background": "light"
     },
     "output_type": "display_data"
    }
   ],
   "source": [
    "fig, ax = plt.subplots(ncols=1, nrows=1, figsize=(6, 2))\n",
    "\n",
    "for level in range(0, 6):\n",
    "    xlist, ylist = tagent.get_xlist_ylist_for_level(level)\n",
    "    scatter_xy(ax, xlist, ylist)\n",
    "    \n",
    "ax.axis('off')\n",
    "#plt.savefig('hw4_q1_3.svg')\n",
    "plt.show()"
   ]
  },
  {
   "cell_type": "markdown",
   "metadata": {},
   "source": [
    "### Case 4"
   ]
  },
  {
   "cell_type": "code",
   "execution_count": 32,
   "metadata": {},
   "outputs": [
    {
     "name": "stdout",
     "output_type": "stream",
     "text": [
      "Set result container.\n"
     ]
    }
   ],
   "source": [
    "tagent = TreeModify()\n",
    "\n",
    "level_list = [0, 1, 2, 3, 4, 5]\n",
    "tagent.create_container(level_list)"
   ]
  },
  {
   "cell_type": "code",
   "execution_count": 33,
   "metadata": {},
   "outputs": [],
   "source": [
    "tagent.make_data_by_npoints(4, 5)\n",
    "tagent.make_data_by_npoints(4, 4)\n",
    "tagent.make_data_by_npoints(4, 3)\n",
    "tagent.make_data_by_prev_level(2)\n",
    "tagent.make_data_by_ylist([0.5, 2.5], 1)\n",
    "tagent.make_data_by_prev_level(0)"
   ]
  },
  {
   "cell_type": "code",
   "execution_count": 35,
   "metadata": {},
   "outputs": [
    {
     "data": {
      "image/png": "[encoded data removed]",
      "text/plain": [
       "<Figure size 432x144 with 1 Axes>"
      ]
     },
     "metadata": {
      "needs_background": "light"
     },
     "output_type": "display_data"
    }
   ],
   "source": [
    "fig, ax = plt.subplots(ncols=1, nrows=1, figsize=(6, 2))\n",
    "\n",
    "for level in range(0, 6):\n",
    "    xlist, ylist = tagent.get_xlist_ylist_for_level(level)\n",
    "    scatter_xy(ax, xlist, ylist)\n",
    "    \n",
    "ax.axis('off')\n",
    "plt.savefig('hw4_q1_4.svg')\n",
    "plt.show()"
   ]
  },
  {
   "cell_type": "markdown",
   "metadata": {},
   "source": [
    "<h2 style=\"color:blue\">Q3: Binomial and Poisson</h2>"
   ]
  },
  {
   "cell_type": "code",
   "execution_count": 14,
   "metadata": {},
   "outputs": [
    {
     "name": "stdout",
     "output_type": "stream",
     "text": [
      "The probability is 0.816\n"
     ]
    }
   ],
   "source": [
    "# a\n",
    "n = 200000\n",
    "p = 4e-5\n",
    "mu = n * p\n",
    "prefix_term = np.exp(-mu)\n",
    "p_total = 0.\n",
    "for i in range(0, 11):\n",
    "    p_total += prefix_term * (np.power(mu, i) / np.math.factorial(i))\n",
    "print(f'The probability is {p_total:.3f}')"
   ]
  },
  {
   "cell_type": "code",
   "execution_count": 15,
   "metadata": {},
   "outputs": [
    {
     "name": "stdout",
     "output_type": "stream",
     "text": [
      "The probability is 0.625\n"
     ]
    }
   ],
   "source": [
    "# a\n",
    "n = 200000\n",
    "p = 4e-5\n",
    "mu = n * p\n",
    "prefix_term = np.exp(-mu)\n",
    "p_total = 0.\n",
    "for i in range(6, 11):\n",
    "    p_total += prefix_term * (np.power(mu, i) / np.math.factorial(i))\n",
    "print(f'The probability is {p_total:.3f}')"
   ]
  },
  {
   "cell_type": "code",
   "execution_count": 19,
   "metadata": {},
   "outputs": [
    {
     "name": "stdout",
     "output_type": "stream",
     "text": [
      "The probability is 0.99995\n"
     ]
    }
   ],
   "source": [
    "# b\n",
    "p_total = 1 - np.exp(-10)\n",
    "print(f'The probability is {p_total:.5f}')"
   ]
  },
  {
   "cell_type": "code",
   "execution_count": 27,
   "metadata": {},
   "outputs": [
    {
     "name": "stdout",
     "output_type": "stream",
     "text": [
      "The probability is 0.176\n"
     ]
    }
   ],
   "source": [
    "# c-2\n",
    "n = 700\n",
    "p = 0.02\n",
    "mu = n * p\n",
    "prefix_term = np.exp(-mu)\n",
    "p_total = 0.\n",
    "for i in range(0, 11):\n",
    "    p_total += prefix_term * (np.power(mu, i) / np.math.factorial(i))\n",
    "print(f'The probability is {p_total:.3f}')"
   ]
  },
  {
   "cell_type": "code",
   "execution_count": 28,
   "metadata": {},
   "outputs": [
    {
     "name": "stdout",
     "output_type": "stream",
     "text": [
      "The probability is 0.000\n"
     ]
    }
   ],
   "source": [
    "# c-3\n",
    "n = 2100\n",
    "p = 0.02\n",
    "mu = n * p\n",
    "prefix_term = np.exp(-mu)\n",
    "p_total = 0.\n",
    "for i in range(0, 11):\n",
    "    p_total += prefix_term * (np.power(mu, i) / np.math.factorial(i))\n",
    "print(f'The probability is {p_total:.3f}')"
   ]
  },
  {
   "cell_type": "code",
   "execution_count": 34,
   "metadata": {},
   "outputs": [
    {
     "data": {
      "text/plain": [
       "2.7062108514972355e-09"
      ]
     },
     "execution_count": 34,
     "metadata": {},
     "output_type": "execute_result"
    }
   ],
   "source": [
    "4706844720.48 * prefix_term"
   ]
  },
  {
   "cell_type": "markdown",
   "metadata": {},
   "source": [
    "<h2 style=\"color:blue\">Q4</h2>"
   ]
  },
  {
   "cell_type": "code",
   "execution_count": 1,
   "metadata": {},
   "outputs": [],
   "source": [
    "x_array = [1,2,3,4,5]\n",
    "f_x_array = [0.1, 0.15, 0.5, 0.15, 0.1]"
   ]
  },
  {
   "cell_type": "code",
   "execution_count": 2,
   "metadata": {},
   "outputs": [
    {
     "name": "stdout",
     "output_type": "stream",
     "text": [
      "3.0\n"
     ]
    }
   ],
   "source": [
    "mu = 0\n",
    "for x, p in zip(x_array, f_x_array):\n",
    "    mu += x * p\n",
    "print(mu)"
   ]
  },
  {
   "cell_type": "code",
   "execution_count": 3,
   "metadata": {},
   "outputs": [
    {
     "name": "stdout",
     "output_type": "stream",
     "text": [
      "1.1\n"
     ]
    }
   ],
   "source": [
    "var = 0\n",
    "for x, p in zip(x_array, f_x_array):\n",
    "    var += (x-mu)**2 * p\n",
    "print(var)"
   ]
  },
  {
   "cell_type": "code",
   "execution_count": 7,
   "metadata": {},
   "outputs": [
    {
     "name": "stdout",
     "output_type": "stream",
     "text": [
      "34.454\n"
     ]
    }
   ],
   "source": [
    "ex = 0\n",
    "for x, p in zip(x_array, f_x_array):\n",
    "    ex += np.exp(x) * p\n",
    "print(f'{ex:.3f}')"
   ]
  },
  {
   "cell_type": "code",
   "execution_count": 8,
   "metadata": {},
   "outputs": [
    {
     "name": "stdout",
     "output_type": "stream",
     "text": [
      "1.702\n"
     ]
    }
   ],
   "source": [
    "sqrtx = 0\n",
    "for x, p in zip(x_array, f_x_array):\n",
    "    sqrtx += np.sqrt(x) * p\n",
    "print(f'{sqrtx:.3f}')"
   ]
  },
  {
   "cell_type": "markdown",
   "metadata": {},
   "source": [
    "<h2 style=\"color:blue\">Q5: Nuclear power plant and Albino rats</h2>"
   ]
  },
  {
   "cell_type": "code",
   "execution_count": 15,
   "metadata": {},
   "outputs": [],
   "source": [
    "def get_xy_bino(n, p):\n",
    "    x1 = range(0, 10)\n",
    "    y1 = binom.pmf(x1, n, p)\n",
    "    y1_total = sum(y1)\n",
    "    x2 = range(10, 21)\n",
    "    y2 = binom.pmf(x2, n, p)\n",
    "    return x1, y1, y1_total, x2, y2\n",
    "\n",
    "def draw_binom(ax, n, p):\n",
    "    x1, y1, y1_total, x2, y2 = get_xy_bino(n, p)\n",
    "    x = range(0, n+1)\n",
    "    label = r'$P(X \\leq 9)=$' + f'{y1_total:.3f}'\n",
    "    ax.plot(x1, y1, 'ro', ms=8, label=label)\n",
    "    ax.plot(x2, y2, 'bo', ms=8)\n",
    "    ax.vlines(x1, 0, y1, colors='r', lw=5, alpha=0.5)\n",
    "    ax.vlines(x2, 0, y2, colors='b', lw=5, alpha=0.5)\n",
    "    ax.set_xticks(x)\n",
    "    ax.set_ylabel(\"P(X=x)\")\n",
    "    ax.set_xlabel(\"x\")\n",
    "    ax.set_title(f'p={p:.1f}')\n",
    "    ax.legend()"
   ]
  },
  {
   "cell_type": "code",
   "execution_count": 18,
   "metadata": {},
   "outputs": [
    {
     "data": {
      "image/png": "[encoded data removed]",
      "text/plain": [
       "<Figure size 1440x1080 with 9 Axes>"
      ]
     },
     "metadata": {
      "needs_background": "light"
     },
     "output_type": "display_data"
    }
   ],
   "source": [
    "n = 20\n",
    "p_array = [0.1, 0.2, 0.3, 0.4, 0.5, 0.6, 0.7, 0.8, 0.9]\n",
    "nrows = 3\n",
    "ncols = 3\n",
    "\n",
    "fig, axes = plt.subplots(nrows=nrows, ncols=ncols, figsize=(20,15))\n",
    "\n",
    "idx = 0\n",
    "for row_id in range(nrows):\n",
    "    for col_id in range(ncols):\n",
    "        ax = axes[row_id, col_id]\n",
    "        p = p_array[idx]\n",
    "        draw_binom(ax, n, p)\n",
    "        idx += 1\n",
    "\n",
    "plt.tight_layout()\n",
    "#plt.savefig(\"nuclear_power_plant.svg\")\n",
    "plt.show()"
   ]
  },
  {
   "cell_type": "code",
   "execution_count": 20,
   "metadata": {},
   "outputs": [
    {
     "name": "stdout",
     "output_type": "stream",
     "text": [
      "0.107\n",
      "0.268\n",
      "0.302\n",
      "0.678\n"
     ]
    }
   ],
   "source": [
    "n = 10\n",
    "p = 0.2\n",
    "x = [0,1,2]\n",
    "y = binom.pmf(x, n, p)\n",
    "y_sum = sum(y)\n",
    "\n",
    "for sub_y in y:\n",
    "    print(f'{sub_y:.3f}')\n",
    "print(f'{y_sum:.3f}')"
   ]
  },
  {
   "cell_type": "code",
   "execution_count": null,
   "metadata": {},
   "outputs": [],
   "source": []
  }
 ],
 "metadata": {
  "kernelspec": {
   "display_name": "Python 3",
   "language": "python",
   "name": "python3"
  },
  "language_info": {
   "codemirror_mode": {
    "name": "ipython",
    "version": 3
   },
   "file_extension": ".py",
   "mimetype": "text/x-python",
   "name": "python",
   "nbconvert_exporter": "python",
   "pygments_lexer": "ipython3",
   "version": "3.8.5"
  }
 },
 "nbformat": 4,
 "nbformat_minor": 4
}
