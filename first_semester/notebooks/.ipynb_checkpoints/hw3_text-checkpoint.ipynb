{
 "cells": [
  {
   "cell_type": "markdown",
   "metadata": {},
   "source": [
    "<h2 style=\"color:blue\">Q1: Prosperity and education</h2>"
   ]
  },
  {
   "cell_type": "markdown",
   "metadata": {},
   "source": [
    "<ul>\n",
    "    <li>$P(A)=0.138$</li>\n",
    "    <li>$P(B)=0.261$</li>\n",
    "    <li>$P(A \\cap B)=0.082$</li>\n",
    "</ul>"
   ]
  },
  {
   "cell_type": "markdown",
   "metadata": {},
   "source": [
    "<h4 style=\"color:blue\">(a) Find the conditional probability that a household is educated, given that it is prosperous.</h4>"
   ]
  },
  {
   "cell_type": "markdown",
   "metadata": {},
   "source": [
    "This question is asking about $P(B|A)$\n",
    "<ul>\n",
    "    <li style=\"color:red\">$P(B|A) = \\frac{P(A \\cap B)}{P(A)} = 0.594 $</li>\n",
    "</ul>"
   ]
  },
  {
   "cell_type": "markdown",
   "metadata": {},
   "source": [
    "<h4 style=\"color:blue\">(b) Find the conditional probability that a household is prosperous, given that it is educated.</h4>"
   ]
  },
  {
   "cell_type": "markdown",
   "metadata": {},
   "source": [
    "This question is asking about $P(A|B)$\n",
    "<ul>\n",
    "    <li style=\"color:red\">$P(A|B) = \\frac{P(A \\cap B)}{P(B)} = 0.314 $</li>\n",
    "</ul>"
   ]
  },
  {
   "cell_type": "markdown",
   "metadata": {},
   "source": [
    "<h4 style=\"color:blue\">(c) Are events A and B independent? How do you know?</h4>"
   ]
  },
  {
   "cell_type": "markdown",
   "metadata": {},
   "source": [
    "Independence implies the following:\n",
    "<ol>\n",
    "    <li>$P(A \\cap B)=P(A)P(B)$</li>\n",
    "    <li>$P(A|B)=P(A)$</li>\n",
    "    <li>$P(B|A)=P(B)$</li>\n",
    "</ol>"
   ]
  },
  {
   "cell_type": "markdown",
   "metadata": {},
   "source": [
    "As you can see, $P(A)P(B)=0.138 \\times 0.261 = 0.036 \\neq P(A \\cap B)$.\n",
    "Therefore,\n",
    "<ul>\n",
    "    <li style=\"color:red\">Events A and B are not independent.</li>\n",
    "</ul>"
   ]
  },
  {
   "cell_type": "markdown",
   "metadata": {},
   "source": [
    "<h2 style=\"color:blue\">Q2: Case-control and breast cancer</h2>"
   ]
  },
  {
   "cell_type": "markdown",
   "metadata": {},
   "source": [
    "<img src=\"./hw3_images/table1.svg\" alt=\"None\">"
   ]
  },
  {
   "cell_type": "markdown",
   "metadata": {},
   "source": [
    "<h4 style=\"color:blue\">(a) In this case, is it possible to approximate RR? Explain.</h4>"
   ]
  },
  {
   "cell_type": "markdown",
   "metadata": {},
   "source": [
    "<ul>\n",
    "    <li>The definition of RR is: $\\mathrm{RR}=\\frac{a/(a+c)}{b/(b+d)}=\\frac{\\mathrm{Risk~for~E}}{\\mathrm{Risk~for~E'}}$ </li>\n",
    "    <li style=\"color:red\">As you can see, it is not approprate to compute $(a+c)$ and $(b+d)$, since they are sampled from different sources.</li>\n",
    "</ul>"
   ]
  },
  {
   "cell_type": "markdown",
   "metadata": {},
   "source": [
    "<h4 style=\"color:blue\">(b) Some idea of the impact of exposure can be obtained by $\\frac{P(E|D)}{P(E|D')}$...</h4>"
   ]
  },
  {
   "cell_type": "markdown",
   "metadata": {},
   "source": [
    "<ul>\n",
    "    <li>$\\frac{P(E|D)}{P(E|D')}=\\frac{a/(a+b)}{c/(c+d)}=\\frac{273/989}{2641/9901}=\\frac{0.276}{0.267}=1.034$ </li>\n",
    "    <li style=\"color:red\">The above ratio is estimable because it is reasonable to calculate $(a+b)$ and $(c+d)$</li>\n",
    "</ul>"
   ]
  },
  {
   "cell_type": "markdown",
   "metadata": {},
   "source": [
    "To interpret the ratio, let us see the probability first\n",
    "<ul>\n",
    "    <li>$P(E|D)$: Given the person has breast cancer, the probability of exposure in the past</li>\n",
    "    <li>$P(E|D')$: Given the person doesn't have breast cancer, the probability of exposure in the past</li>\n",
    "    <li style=\"color:red\">The ratio is greater than 1, which indicates that it is more likely for a diseased person to take oral contraceptives in the past than a healthy person. However, the ratio is very close to 1, so we only can say the oral contraceptives have a little effect on causing breast cancer.</li>\n",
    "</ul>"
   ]
  },
  {
   "cell_type": "markdown",
   "metadata": {},
   "source": [
    "<h2 style=\"color:blue\">Q3: DVT</h2>"
   ]
  },
  {
   "cell_type": "markdown",
   "metadata": {},
   "source": [
    "<h4 style=\"color:blue\">(a) 求因使用Fragmin 而 Outcome為 Complication之Relative Risk and Odds Ratio.</h4>"
   ]
  },
  {
   "cell_type": "markdown",
   "metadata": {},
   "source": [
    "Relative Risk\n",
    "<ul>\n",
    "    <li>$\\mathrm{risk}_{\\mathrm{Fragmin}}=P_{\\mathrm{Fragmin}}(\\mathrm{Complication})=\\frac{42}{1518}=0.0277$</li>\n",
    "    <li>$\\mathrm{risk}_{\\mathrm{Placebo}}=P_{\\mathrm{Placebo}}(\\mathrm{Complication})=\\frac{73}{1473}=0.0496$</li>\n",
    "    <li style=\"color:red\">$\\mathrm{RR}=\\frac{0.0277}{0.0496}=0.558$</li>\n",
    "</ul>"
   ]
  },
  {
   "cell_type": "markdown",
   "metadata": {},
   "source": [
    "Odds Ratio\n",
    "<ul>\n",
    "    <li>$\\mathrm{odds}_{\\mathrm{Fragmin}}=\\frac{P_{\\mathrm{Fragmin}}(\\mathrm{Complication})}{P_{\\mathrm{Fragmin}}(\\mathrm{No ~Complication})}=\\frac{42}{1476}=0.0285$</li>\n",
    "    <li>$\\mathrm{odds}_{\\mathrm{Placebo}}=\\frac{P_{\\mathrm{Placebo}}(\\mathrm{Complication})}{P_{\\mathrm{Placebo}}(\\mathrm{No ~Complication})}=\\frac{73}{1400}=0.0521$</li>\n",
    "    <li style=\"color:red\">$\\mathrm{OR}=\\frac{0.0285}{0.0521}=0.547$</li>\n",
    "</ul>"
   ]
  },
  {
   "cell_type": "markdown",
   "metadata": {},
   "source": [
    "<h4 style=\"color:blue\">(b) 兩者是否有相關性?</h4>"
   ]
  },
  {
   "cell_type": "markdown",
   "metadata": {},
   "source": [
    "<ul>\n",
    "    <li style=\"color:red\">As you can see, both RR and OD are less than 1. That is, patients receiving the drug are less likely to develop complications than those without the drug. Therefore, there is a correlation between complication and receiving Fragmin.</li>\n",
    "</ul>"
   ]
  },
  {
   "cell_type": "markdown",
   "metadata": {},
   "source": [
    "<h2 style=\"color:blue\">Q4: Wing beats of large moth</h2>"
   ]
  },
  {
   "cell_type": "markdown",
   "metadata": {},
   "source": [
    "<h4 style=\"color:blue\">(a) Find $f(10)$</h4>"
   ]
  },
  {
   "cell_type": "markdown",
   "metadata": {},
   "source": [
    "Because $\\sum_{\\forall x} Pr(X=x)=1$\n",
    "<ul>\n",
    "    <li> $f(6)+f(7)+f(8)+f(9)+f(10)= 0.05+0.1+0.6+0.15+f(10) = 1$  </li>\n",
    "    <li style=\"color:red\">$f(10)=0.1$</li>\n",
    "</ul>"
   ]
  },
  {
   "cell_type": "markdown",
   "metadata": {},
   "source": [
    "<h4 style=\"color:blue\">(b) Find $P[X \\leq 8]$.</h4>"
   ]
  },
  {
   "cell_type": "markdown",
   "metadata": {},
   "source": [
    "<ul>\n",
    "    <li style=\"color:red\">$P[X \\leq 8]$ is the probability that the number of wing beats less than 9 times per second for large moth.</li>\n",
    "    <li style=\"color:red\">$P[X \\leq 8]=f(6)+f(7)+f(8) = 0.05+0.1+0.6=0.75$</li>\n",
    "</ul>"
   ]
  },
  {
   "cell_type": "markdown",
   "metadata": {},
   "source": [
    "<h4 style=\"color:blue\">(c) Find $P[X < 8]$.</h4>"
   ]
  },
  {
   "cell_type": "markdown",
   "metadata": {},
   "source": [
    "<ul>\n",
    "    <li style=\"color:red\">$P[X < 8]=f(6)+f(7) = 0.05+0.1=0.15$</li>\n",
    "</ul>"
   ]
  },
  {
   "cell_type": "markdown",
   "metadata": {},
   "source": [
    "<h4 style=\"color:blue\">(d) Find $P[X \\geq 7]$.</h4>"
   ]
  },
  {
   "cell_type": "markdown",
   "metadata": {},
   "source": [
    "<ul>\n",
    "    <li style=\"color:red\">$P[X \\geq 7]=f(7)+f(8)+f(9)+f(10) = 0.1+0.6+0.15+0.1=0.95$</li>\n",
    "</ul>"
   ]
  },
  {
   "cell_type": "markdown",
   "metadata": {},
   "source": [
    "<h4 style=\"color:blue\">(e) Find $P[X > 7]$.</h4>"
   ]
  },
  {
   "cell_type": "markdown",
   "metadata": {},
   "source": [
    "<ul>\n",
    "    <li style=\"color:red\">$P[X > 7]=f(8)+f(9)+f(10) = 0.6+0.15+0.1=0.85$</li>\n",
    "</ul>"
   ]
  },
  {
   "cell_type": "markdown",
   "metadata": {},
   "source": [
    "<h2 style=\"color:blue\">Q5: Desk Lamp </h2>"
   ]
  },
  {
   "cell_type": "markdown",
   "metadata": {},
   "source": [
    "This question is trying to find $P(C|D)$"
   ]
  },
  {
   "cell_type": "markdown",
   "metadata": {},
   "source": [
    "According to Bayes's theorem:\n",
    "<ul>\n",
    "    <li>$P(C|D)=\\frac{P(D|C)P(C)}{P(D|A)P(A)+P(D|B)P(B)+P(D|C)P(C)}$</li>\n",
    "    <li style=\"color:red\">$P(C|D)=\\frac{0.3 \\times 0.012}{0.4 \\times 0.025 + 0.3 \\times 0.015 + 0.3 \\times 0.012}=0.199$</li>\n",
    "    <li style=\"color:red\">If a randomly selected lamp is defective, the probability that the lamp was manufactured in factory C is 0.199</li>\n",
    "</ul>"
   ]
  }
 ],
 "metadata": {
  "kernelspec": {
   "display_name": "Python 3",
   "language": "python",
   "name": "python3"
  },
  "language_info": {
   "codemirror_mode": {
    "name": "ipython",
    "version": 3
   },
   "file_extension": ".py",
   "mimetype": "text/x-python",
   "name": "python",
   "nbconvert_exporter": "python",
   "pygments_lexer": "ipython3",
   "version": "3.8.5"
  }
 },
 "nbformat": 4,
 "nbformat_minor": 4
}
