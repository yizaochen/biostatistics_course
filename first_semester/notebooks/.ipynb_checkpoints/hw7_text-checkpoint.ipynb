{
 "cells": [
  {
   "cell_type": "markdown",
   "metadata": {},
   "source": [
    "<h2 style=\"color:blue\">Q1: Use Z table and find the values of $p=\\text{Pr}(Z>k)$</h2>"
   ]
  },
  {
   "cell_type": "markdown",
   "metadata": {},
   "source": [
    "<h4 style=\"color:blue\">(1) If $\\text{Pr}(Z>k)=0.2$, $k=$?</h4>"
   ]
  },
  {
   "cell_type": "markdown",
   "metadata": {},
   "source": [
    "From Z table, we get\n",
    "\\begin{align*}\n",
    "\\text{Pr}(Z \\leq 0.84)&=0.7995 \\\\\n",
    "\\text{Pr}(Z \\leq 0.85)&=0.8023\n",
    "\\end{align*}\n",
    "so, it is reasonable to assume\n",
    "\\begin{equation}\n",
    "\\text{Pr}(Z \\leq 0.845)\\approx 0.80\n",
    "\\end{equation}\n",
    "and\n",
    "\\begin{equation}\n",
    "\\text{Pr}(Z>0.845) = 1 - \\text{Pr}(Z \\leq 0.845)\\approx 1 - 0.80 = 0.2\n",
    "\\end{equation}\n",
    "Therefore\n",
    "<p style=\"color:red\">\n",
    "\\begin{equation}\n",
    "k=0.845\n",
    "\\end{equation}\n",
    "</p>"
   ]
  },
  {
   "cell_type": "markdown",
   "metadata": {},
   "source": [
    "<h4 style=\"color:blue\">(2) If $\\text{Pr}(Z>k)=0.1$, $k=$?</h4>"
   ]
  },
  {
   "cell_type": "markdown",
   "metadata": {},
   "source": [
    "From Z table, we get\n",
    "\\begin{align*}\n",
    "\\text{Pr}(Z \\leq 1.28)&=0.8997 \\\\\n",
    "\\text{Pr}(Z \\leq 1.29)&=0.9015\n",
    "\\end{align*}\n",
    "so, it is reasonable to assume\n",
    "\\begin{equation}\n",
    "\\text{Pr}(Z \\leq 1.285)\\approx 0.9\n",
    "\\end{equation}\n",
    "and\n",
    "\\begin{equation}\n",
    "\\text{Pr}(Z>1.285) = 1 - \\text{Pr}(Z \\leq 1.285)\\approx 1 - 0.90 = 0.1\n",
    "\\end{equation}\n",
    "Therefore\n",
    "<p style=\"color:red\">\n",
    "\\begin{equation}\n",
    "k=1.285\n",
    "\\end{equation}\n",
    "</p>"
   ]
  },
  {
   "cell_type": "markdown",
   "metadata": {},
   "source": [
    "<h4 style=\"color:blue\">(3) If $\\text{Pr}(Z>k)=0.05$, $k=$?</h4>"
   ]
  },
  {
   "cell_type": "markdown",
   "metadata": {},
   "source": [
    "From Z table, we get\n",
    "\\begin{align*}\n",
    "\\text{Pr}(Z \\leq 1.64)&=0.9495 \\\\\n",
    "\\text{Pr}(Z \\leq 1.65)&=0.9505\n",
    "\\end{align*}\n",
    "so, it is reasonable to assume\n",
    "\\begin{equation}\n",
    "\\text{Pr}(Z \\leq 1.645)\\approx 0.95\n",
    "\\end{equation}\n",
    "and\n",
    "\\begin{equation}\n",
    "\\text{Pr}(Z>1.645) = 1 - \\text{Pr}(Z \\leq 1.645)\\approx 1 - 0.95 = 0.1\n",
    "\\end{equation}\n",
    "Therefore\n",
    "<p style=\"color:red\">\n",
    "\\begin{equation}\n",
    "k=1.645\n",
    "\\end{equation}\n",
    "</p>"
   ]
  },
  {
   "cell_type": "markdown",
   "metadata": {},
   "source": [
    "<h4 style=\"color:blue\">(4) If $\\text{Pr}(Z \\leq k)=0.2$, $k=$?</h4>"
   ]
  },
  {
   "cell_type": "markdown",
   "metadata": {},
   "source": [
    "We have already known\n",
    "\\begin{equation}\n",
    "\\text{Pr}(Z \\leq 0.845)\\approx 0.80\n",
    "\\end{equation}\n",
    "\n",
    "Because of the symmetry of Normal distribution\n",
    "\\begin{align*}\n",
    "\\text{Pr}(Z \\leq k) = 1 - \\text{Pr}(Z \\leq 0.845) = 0.2 \n",
    "\\end{align*}\n",
    "\n",
    "Therefore\n",
    "<p style=\"color:red\">\n",
    "\\begin{equation}\n",
    "k = -0.845\n",
    "\\end{equation}\n",
    "</p>"
   ]
  },
  {
   "cell_type": "markdown",
   "metadata": {},
   "source": [
    "<h4 style=\"color:blue\">(5) If $\\text{Pr}(Z \\leq k)=0.1$, $k=$?</h4>"
   ]
  },
  {
   "cell_type": "markdown",
   "metadata": {},
   "source": [
    "We have already known\n",
    "\\begin{equation}\n",
    "\\text{Pr}(Z \\leq 1.285)\\approx 0.9\n",
    "\\end{equation}\n",
    "\n",
    "Because of the symmetry of Normal distribution\n",
    "\\begin{align*}\n",
    "\\text{Pr}(Z \\leq k) = 1 - \\text{Pr}(Z \\leq 1.285) = 0.1\n",
    "\\end{align*}\n",
    "\n",
    "Therefore\n",
    "<p style=\"color:red\">\n",
    "\\begin{equation}\n",
    "k = -1.285\n",
    "\\end{equation}\n",
    "</p>"
   ]
  },
  {
   "cell_type": "markdown",
   "metadata": {},
   "source": [
    "<h4 style=\"color:blue\">(6) If $\\text{Pr}(Z \\leq k)=0.05$, $k=$?</h4>"
   ]
  },
  {
   "cell_type": "markdown",
   "metadata": {},
   "source": [
    "We have already known\n",
    "\\begin{equation}\n",
    "\\text{Pr}(Z \\leq 1.645)\\approx 0.95\n",
    "\\end{equation}\n",
    "\n",
    "Because of the symmetry of Normal distribution\n",
    "\\begin{align*}\n",
    "\\text{Pr}(Z \\leq k) = 1 - \\text{Pr}(Z \\leq 1.645) = 0.05\n",
    "\\end{align*}\n",
    "\n",
    "Therefore\n",
    "<p style=\"color:red\">\n",
    "\\begin{equation}\n",
    "k = -1.645\n",
    "\\end{equation}\n",
    "</p>"
   ]
  },
  {
   "cell_type": "markdown",
   "metadata": {},
   "source": [
    "<img src=\"./hw7_images/Q1.png\" alt=\"None\">"
   ]
  },
  {
   "cell_type": "markdown",
   "metadata": {},
   "source": [
    "<h2 style=\"color:blue\">Q2</h2>"
   ]
  },
  {
   "cell_type": "markdown",
   "metadata": {},
   "source": [
    "<h4 style=\"color:blue\">\n",
    "Deer mice are small rodents native to North America. Their body lengths (excluding tail) are known to vary approximately\n",
    "Normally with mean $\\mu=86$ mm and standard deviation $\\sigma=8$ mm. Deer mice are found in diverse habitats and exhibit\n",
    "different adaptations to their environment. A random sample of 14 deer mice in a rich forest habitat gives an average body\n",
    "length of $\\bar{x}=91.1$ mm. Assume that the standard deviation $\\sigma$ of all deer mice in this area is also 8 mm.\n",
    "</h4>"
   ]
  },
  {
   "cell_type": "markdown",
   "metadata": {},
   "source": [
    "The population distribution is \n",
    "\\begin{equation}\n",
    "N(\\mu=86, \\sigma=8)\n",
    "\\end{equation}"
   ]
  },
  {
   "cell_type": "markdown",
   "metadata": {},
   "source": [
    "<h4 style=\"color:blue\">(a) What is the standard deviation of the mean length of $\\bar{x}$</h4>"
   ]
  },
  {
   "cell_type": "markdown",
   "metadata": {},
   "source": [
    "If individual observations have the $N(\\mu, \\sigma)$ dsitribution, then the sample mean $\\bar{x}$ of an SRS of size $n$ has the $N(\\mu, \\frac{\\sigma}{\\sqrt{n}})$ distribution."
   ]
  },
  {
   "cell_type": "markdown",
   "metadata": {},
   "source": [
    "Therefore, the standard deviation of the mean length of $\\bar{x}$</h4> is\n",
    "<p style=\"color:red\">\n",
    "\\begin{equation}\n",
    "\\frac{\\sigma}{\\sqrt{n}}=\\frac{8}{\\sqrt{14}} = 2.138\n",
    "\\end{equation}\n",
    "</p>"
   ]
  },
  {
   "cell_type": "markdown",
   "metadata": {},
   "source": [
    "<h4 style=\"color:blue\">(b) What critical value do you need to use in order to compute a\n",
    "95% confidence interval for the mean $\\mu$?</h4>"
   ]
  },
  {
   "cell_type": "markdown",
   "metadata": {},
   "source": [
    "<p style=\"color:red\">\n",
    "The critical value is\n",
    "\\begin{equation}\n",
    "1.96 \\times 2.138 = 4.19\n",
    "\\end{equation}\n",
    "</p>"
   ]
  },
  {
   "cell_type": "markdown",
   "metadata": {},
   "source": [
    "<h4 style=\"color:blue\">(c) Give a 95% confidence interval for the mean body length of\n",
    "all deer mice in the forest habitat.</h4>"
   ]
  },
  {
   "cell_type": "markdown",
   "metadata": {},
   "source": [
    "95% confidence interval for $\\mu$ is\n",
    "<p style=\"color:red\">\n",
    "\\begin{equation}\n",
    "    91.1 \\pm 4.19\n",
    "\\end{equation}\n",
    "</p>"
   ]
  },
  {
   "cell_type": "markdown",
   "metadata": {},
   "source": [
    "<h2 style=\"color:blue\">Q3</h2>"
   ]
  },
  {
   "cell_type": "markdown",
   "metadata": {},
   "source": [
    "<h4 style=\"color:blue\">The 14 deer mice described in the previous exercise had\n",
    "average body length of $\\bar{x}$=91.1 mm. Assume that the standard\n",
    "deviation of body length in the population of all deer mice in\n",
    "the forest habitat is the same as the $\\sigma=8$ mm for the general\n",
    "deer mouse population.</h4>"
   ]
  },
  {
   "cell_type": "markdown",
   "metadata": {},
   "source": [
    "<h4 style=\"color:blue\">\n",
    "(a) Following your approach in the previous exercise, now give a\n",
    "90% confidence interval for the mean body length of all deer\n",
    "mice in the forest habitat.\n",
    "</h4>"
   ]
  },
  {
   "cell_type": "markdown",
   "metadata": {},
   "source": [
    "The critical value is\n",
    "\\begin{equation}\n",
    "1.645 \\times 2.138 = 3.52\n",
    "\\end{equation}\n",
    "95% confidence interval for $\\mu$ is\n",
    "<p style=\"color:red\">\n",
    "\\begin{equation}\n",
    "    91.1 \\pm 3.52\n",
    "\\end{equation}\n",
    "</p>"
   ]
  },
  {
   "cell_type": "markdown",
   "metadata": {},
   "source": [
    "<h4 style=\"color:blue\">\n",
    "(b) This confidence interval is shorter than your interval in the\n",
    "previous exercise, even though the intervals come from the\n",
    "same sample. Why does the second interval have a smaller\n",
    "margin of error?\n",
    "</h4>"
   ]
  },
  {
   "cell_type": "markdown",
   "metadata": {},
   "source": [
    "The confidence is the probability that the interval will capture $\\mu$. \n",
    "When we decrease the confidence, it means that the probability that the confidence interval will capture $\\mu$ decreases.\n",
    "The case happens when the interval becomes shorter."
   ]
  },
  {
   "cell_type": "markdown",
   "metadata": {},
   "source": [
    "As you can see in the following figure, the green line(95% C-interval) has higher chance to capture $\\mu$ than the magenta line(90% C-interval)."
   ]
  },
  {
   "cell_type": "markdown",
   "metadata": {},
   "source": [
    "<img src=\"./hw7_images/HW7_Q3.png\" width=\"500\" alt=\"None\">"
   ]
  },
  {
   "cell_type": "code",
   "execution_count": null,
   "metadata": {},
   "outputs": [],
   "source": []
  }
 ],
 "metadata": {
  "kernelspec": {
   "display_name": "Python 3",
   "language": "python",
   "name": "python3"
  },
  "language_info": {
   "codemirror_mode": {
    "name": "ipython",
    "version": 3
   },
   "file_extension": ".py",
   "mimetype": "text/x-python",
   "name": "python",
   "nbconvert_exporter": "python",
   "pygments_lexer": "ipython3",
   "version": "3.8.5"
  }
 },
 "nbformat": 4,
 "nbformat_minor": 4
}
