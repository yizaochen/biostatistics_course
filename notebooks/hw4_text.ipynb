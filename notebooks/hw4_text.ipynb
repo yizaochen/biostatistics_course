{
 "cells": [
  {
   "cell_type": "markdown",
   "metadata": {},
   "source": [
    "<h2 style=\"color:blue\">Q1: Guinea pigs</h2>"
   ]
  },
  {
   "cell_type": "markdown",
   "metadata": {},
   "source": [
    "<h4 style=\"color:blue\">(a) What are the possible genotypes for the female? What are the possible genotypes for the male?</h4>"
   ]
  },
  {
   "cell_type": "markdown",
   "metadata": {},
   "source": [
    "<ul>\n",
    "    <li style=\"color:red\">Female: $(BB/Bb)$ x $(LL/Ll)$ = $(BBLL)$, $(BBLl)$, $(BbLL)$, $(BbLl)$</li>\n",
    "    <li style=\"color:red\">Male: $(bb)$ x $(ll)$ = $(bbll)$</li>\n",
    "</ul>"
   ]
  },
  {
   "cell_type": "markdown",
   "metadata": {},
   "source": [
    "<h4 style=\"color:blue\">(b) For each possible genotype for the female construct a tree to represent the possible outcomes for the offspring.</h4>"
   ]
  },
  {
   "cell_type": "markdown",
   "metadata": {},
   "source": [
    "<img src=\"./hw4_images/hw4_q1_all.svg\" alt=\"None\">"
   ]
  },
  {
   "cell_type": "markdown",
   "metadata": {},
   "source": [
    "<h4 style=\"color:blue\">(c) Find the probability of obtaining an albino with short hair in each case.</h4>"
   ]
  },
  {
   "cell_type": "markdown",
   "metadata": {},
   "source": [
    "The possible genotype for an albino with short hair is: $bbLL$ and $bbLl$. According to the above trees, we get\n",
    "<ul>\n",
    "    <li style=\"color:red\">Case 1: $(BBLL)$ x $(bbll)$, P(albino, short)=0</li>\n",
    "    <li style=\"color:red\">Case 2: $(BBLl)$ x $(bbll)$, P(albino, short)=0</li>\n",
    "    <li style=\"color:red\">Case 3: $(BbLL)$ x $(bbll)$, P(albino, short)=0.5</li>\n",
    "    <li style=\"color:red\">Case 4: $(BbLl)$ x $(bbll)$, P(albino, short)=0.25</li>\n",
    "</ul>"
   ]
  },
  {
   "cell_type": "code",
   "execution_count": null,
   "metadata": {},
   "outputs": [],
   "source": []
  }
 ],
 "metadata": {
  "kernelspec": {
   "display_name": "Python 3",
   "language": "python",
   "name": "python3"
  },
  "language_info": {
   "codemirror_mode": {
    "name": "ipython",
    "version": 3
   },
   "file_extension": ".py",
   "mimetype": "text/x-python",
   "name": "python",
   "nbconvert_exporter": "python",
   "pygments_lexer": "ipython3",
   "version": "3.8.5"
  }
 },
 "nbformat": 4,
 "nbformat_minor": 4
}
