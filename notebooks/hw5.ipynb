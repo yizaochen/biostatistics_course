{
 "cells": [
  {
   "cell_type": "code",
   "execution_count": 1,
   "metadata": {},
   "outputs": [],
   "source": [
    "import numpy as np\n",
    "import matplotlib.pyplot as plt\n",
    "from scipy import integrate"
   ]
  },
  {
   "cell_type": "markdown",
   "metadata": {},
   "source": [
    "<h2 style=\"color:blue\">Q1</h2>"
   ]
  },
  {
   "cell_type": "code",
   "execution_count": 23,
   "metadata": {},
   "outputs": [],
   "source": [
    "def f(x):\n",
    "    c = 3. / 7.\n",
    "    return c * (x**2)"
   ]
  },
  {
   "cell_type": "code",
   "execution_count": 24,
   "metadata": {},
   "outputs": [],
   "source": [
    "x1 = np.linspace(-5, 1, 50)\n",
    "y1 = np.zeros(x1.shape)\n",
    "x2 = np.linspace(1, 2, 50)\n",
    "y2 = np.array([f(x) for x in x2])\n",
    "x3 = np.linspace(2, 5, 50)\n",
    "y3 = np.zeros(x3.shape)\n",
    "\n",
    "x4 = list(x1) + list(x2) + list(x3)\n",
    "y4 = list(y1) + list(y2) + list(y3)"
   ]
  },
  {
   "cell_type": "code",
   "execution_count": 37,
   "metadata": {},
   "outputs": [
    {
     "data": {
      "image/png": "[encoded data removed]",
      "text/plain": [
       "<Figure size 576x288 with 1 Axes>"
      ]
     },
     "metadata": {
      "needs_background": "light"
     },
     "output_type": "display_data"
    }
   ],
   "source": [
    "fig, ax = plt.subplots(figsize=(8,4))\n",
    "\n",
    "ax.plot(x1, y1, color='r', lw=3, alpha=0.6)\n",
    "ax.plot(x2, y2, color='b', lw=3, alpha=0.6, label=r'$\\frac{3}{7} x^2$')\n",
    "ax.plot(x3, y3, color='r', lw=3, alpha=0.6)\n",
    "\n",
    "ax.scatter(1, 0, s=60, facecolors='none', edgecolors='r')\n",
    "ax.scatter(1, y2[0], s=60, facecolors='b', edgecolors='b')\n",
    "ax.scatter(2, 0, s=60, facecolors='none', edgecolors='r')\n",
    "ax.scatter(2, y2[-1], s=60, facecolors='b', edgecolors='b')\n",
    "\n",
    "ax.legend(fontsize=12)\n",
    "ax.set_xlim(-2, 4)\n",
    "ax.set_xlabel('$x$')\n",
    "ax.set_ylabel('$f(x)$')\n",
    "#plt.savefig('q1.png', dpi=200)\n",
    "plt.show()"
   ]
  },
  {
   "cell_type": "code",
   "execution_count": 38,
   "metadata": {},
   "outputs": [
    {
     "data": {
      "text/plain": [
       "(0.6607142857142856, 1.1102230246251565e-16)"
      ]
     },
     "execution_count": 38,
     "metadata": {},
     "output_type": "execute_result"
    }
   ],
   "source": [
    "# Check\n",
    "integrate.quadrature(f, 3/2, 2)"
   ]
  },
  {
   "cell_type": "markdown",
   "metadata": {},
   "source": [
    "<h2 style=\"color:blue\">Q2</h2>"
   ]
  },
  {
   "cell_type": "code",
   "execution_count": 11,
   "metadata": {},
   "outputs": [],
   "source": [
    "def f(x):\n",
    "    c = 1. / 8.\n",
    "    return c * x"
   ]
  },
  {
   "cell_type": "code",
   "execution_count": 5,
   "metadata": {},
   "outputs": [],
   "source": [
    "x1 = np.linspace(-5, 0, 50)\n",
    "y1 = np.zeros(x1.shape)\n",
    "x2 = np.linspace(0, 4, 50)\n",
    "y2 = np.array([f(x) for x in x2])\n",
    "x3 = np.linspace(4, 5, 50)\n",
    "y3 = np.zeros(x3.shape)\n",
    "\n",
    "x4 = list(x1) + list(x2) + list(x3)\n",
    "y4 = list(y1) + list(y2) + list(y3)"
   ]
  },
  {
   "cell_type": "code",
   "execution_count": 38,
   "metadata": {},
   "outputs": [
    {
     "data": {
      "image/png": "[encoded data removed]",
      "text/plain": [
       "<Figure size 576x288 with 1 Axes>"
      ]
     },
     "metadata": {
      "needs_background": "light"
     },
     "output_type": "display_data"
    }
   ],
   "source": [
    "fig, ax = plt.subplots(figsize=(8,4))\n",
    "\n",
    "ax.plot(x1, y1, color='r', lw=3, alpha=0.6)\n",
    "ax.plot(x2, y2, color='b', lw=3, alpha=0.6, label=r'$\\frac{1}{8} x$')\n",
    "ax.plot(x3, y3, color='r', lw=3, alpha=0.6)\n",
    "\n",
    "ax.scatter(0, 0, s=60, facecolors='none', edgecolors='r')\n",
    "ax.scatter(0, y2[0], s=60, facecolors='b', edgecolors='b')\n",
    "ax.scatter(4, 0, s=60, facecolors='none', edgecolors='r')\n",
    "ax.scatter(4, y2[-1], s=60, facecolors='b', edgecolors='b')\n",
    "\n",
    "x = 2\n",
    "y = f(x)\n",
    "ax.vlines(x, 0, y, colors='green', lw=2, alpha=0.5)\n",
    "ax.plot(x, y, 'o', color='green', markersize=10)\n",
    "ax.text(x-0.2, 0, r'$t_1$')\n",
    "ax.text(x-0.5, y+0.02, r'$f(t_1)$')\n",
    "\n",
    "x = 2. * np.sqrt(2)\n",
    "y = f(x)\n",
    "ax.vlines(x, 0, y, colors='green', lw=2, alpha=0.5)\n",
    "ax.plot(x, y, 'o', color='green', markersize=10)\n",
    "ax.text(x-0.2, 0, r'$t_2$')\n",
    "ax.text(x-0.5, y+0.02, r'$f(t_2)$')\n",
    "\n",
    "ax.set_xticks([-4, -2, 0, 2, 2.*np.sqrt(2), 4])\n",
    "ax.set_xticklabels(['-4', '-2', '0', '2', r'$2\\sqrt{2}$', '4'])\n",
    "ax.legend(fontsize=12)\n",
    "ax.set_xlim(-5, 5)\n",
    "ax.set_xlabel('$x$')\n",
    "ax.set_ylabel('$f(x)$')\n",
    "#plt.savefig('q2.png', dpi=200)\n",
    "plt.show()"
   ]
  },
  {
   "cell_type": "code",
   "execution_count": 14,
   "metadata": {},
   "outputs": [
    {
     "data": {
      "text/plain": [
       "(0.25, 0.0)"
      ]
     },
     "execution_count": 14,
     "metadata": {},
     "output_type": "execute_result"
    }
   ],
   "source": [
    "# Check\n",
    "integrate.quadrature(f, 0, 2)"
   ]
  },
  {
   "cell_type": "markdown",
   "metadata": {},
   "source": [
    "<h2 style=\"color:blue\">Q3</h2>"
   ]
  },
  {
   "cell_type": "code",
   "execution_count": 6,
   "metadata": {},
   "outputs": [],
   "source": [
    "def f(x):\n",
    "    c = 1\n",
    "    return c * (1. / x)"
   ]
  },
  {
   "cell_type": "code",
   "execution_count": 8,
   "metadata": {},
   "outputs": [],
   "source": [
    "x1 = np.linspace(-5, 0, 50)\n",
    "y1 = np.zeros(x1.shape)\n",
    "x2 = np.linspace(0.0001, 1, 50)\n",
    "y2 = np.array([f(x) for x in x2])\n",
    "x3 = np.linspace(1, 5, 50)\n",
    "y3 = np.zeros(x3.shape)\n",
    "\n",
    "x4 = list(x1) + list(x2) + list(x3)\n",
    "y4 = list(y1) + list(y2) + list(y3)"
   ]
  },
  {
   "cell_type": "code",
   "execution_count": 14,
   "metadata": {},
   "outputs": [
    {
     "data": {
      "image/png": "[encoded data removed]",
      "text/plain": [
       "<Figure size 576x288 with 1 Axes>"
      ]
     },
     "metadata": {
      "needs_background": "light"
     },
     "output_type": "display_data"
    }
   ],
   "source": [
    "fig, ax = plt.subplots(figsize=(8,4))\n",
    "\n",
    "ax.plot(x1, y1, color='r', lw=3, alpha=0.6)\n",
    "ax.plot(x2, y2, color='b', lw=3, alpha=0.6, label=r'$\\frac{1}{x}$')\n",
    "ax.plot(x3, y3, color='r', lw=3, alpha=0.6)\n",
    "\n",
    "ax.scatter(0, 0, s=60, facecolors='r', edgecolors='r')\n",
    "ax.scatter(0, y2[0], s=60, facecolors='none', edgecolors='b')\n",
    "ax.scatter(1, 0, s=60, facecolors='r', edgecolors='r')\n",
    "ax.scatter(1, y2[-1], s=60, facecolors='none', edgecolors='b')\n",
    "\n",
    "ax.set_xticks([-4, -2, 0, 1, 2, 4])\n",
    "ax.set_xticklabels(['-4', '-2', '0', '2', r'$2\\sqrt{2}$', '4'])\n",
    "ax.legend(fontsize=12)\n",
    "ax.set_xlim(-0.01, 2)\n",
    "ax.set_xlabel('$x$')\n",
    "ax.set_ylabel('$f(x)$')\n",
    "#plt.savefig('q2.png', dpi=200)\n",
    "plt.show()"
   ]
  },
  {
   "cell_type": "code",
   "execution_count": null,
   "metadata": {},
   "outputs": [],
   "source": []
  }
 ],
 "metadata": {
  "kernelspec": {
   "display_name": "Python 3",
   "language": "python",
   "name": "python3"
  },
  "language_info": {
   "codemirror_mode": {
    "name": "ipython",
    "version": 3
   },
   "file_extension": ".py",
   "mimetype": "text/x-python",
   "name": "python",
   "nbconvert_exporter": "python",
   "pygments_lexer": "ipython3",
   "version": "3.7.4"
  }
 },
 "nbformat": 4,
 "nbformat_minor": 4
}
