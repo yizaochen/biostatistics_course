{
 "cells": [
  {
   "cell_type": "code",
   "execution_count": 1,
   "metadata": {},
   "outputs": [],
   "source": [
    "import matplotlib.pyplot as plt\n",
    "import numpy as np"
   ]
  },
  {
   "cell_type": "markdown",
   "metadata": {},
   "source": [
    "##### Required functions"
   ]
  },
  {
   "cell_type": "code",
   "execution_count": 2,
   "metadata": {},
   "outputs": [],
   "source": [
    "def get_5_number_summary(data):\n",
    "    data = np.array(data)\n",
    "    quartiles = np.percentile(data, [25, 50, 75])\n",
    "    data_min, data_max = data.min(), data.max()\n",
    "    IQR = quartiles[2] - quartiles[0]\n",
    "    lower_w = quartiles[0] - 1.5 * IQR\n",
    "    upper_w = quartiles[2] + 1.5 * IQR\n",
    "    print(f'Min: {data_min:.3f}')\n",
    "    print(f'Q1-1.5IQR: {lower_w:.3f}')\n",
    "    print(f'Q1: {quartiles[0]:.3f}')\n",
    "    print(f'Median: {quartiles[1]:.3f}')\n",
    "    print(f'Q3: {quartiles[2]:.3f}')\n",
    "    print(f'Q3+1.5IQR: {upper_w:.3f}')\n",
    "    print(f'Max: {data_max:.3f}')"
   ]
  },
  {
   "cell_type": "markdown",
   "metadata": {},
   "source": [
    "## Question 1: The one about drug therapy"
   ]
  },
  {
   "cell_type": "code",
   "execution_count": 3,
   "metadata": {},
   "outputs": [],
   "source": [
    "A_set = [105, 126, 120, 119, 133, 145, 200,\n",
    "         123, 108, 112, 132, 136, 156, \n",
    "         12.4, 134, 130, 130, 142, 170]\n",
    "R_set = [221, 261, 250, 230, 253, 256, \n",
    "         227, 264, 236, 246, 273, 271, \n",
    "         280, 238, 240, 283, 516]"
   ]
  },
  {
   "cell_type": "code",
   "execution_count": 4,
   "metadata": {},
   "outputs": [
    {
     "name": "stdout",
     "output_type": "stream",
     "text": [
      "Min: 12.400\n",
      "Q1-1.5IQR: 90.250\n",
      "Q1: 119.500\n",
      "Median: 130.000\n",
      "Q3: 139.000\n",
      "Q3+1.5IQR: 168.250\n",
      "Max: 200.000\n"
     ]
    }
   ],
   "source": [
    "get_5_number_summary(A_set)"
   ]
  },
  {
   "cell_type": "markdown",
   "metadata": {},
   "source": [
    "#### (a) Construct a side-by-side box plot and identify outliers.\n",
    "##### First, we need summaries for two sets(A and R), respectively.  \n",
    "|   |  Minimum |Q1-1.5IQR | Q1  | Median | Q3 | Q3+1.5IQR | Maximum |\n",
    "|---|---|-------|-------|---|----|----|---|\n",
    "| $T_{\\mathrm{max}}(A)$  | 12.4 | 90.25 | 119.5  | 130  | 139 | 168.25 | 200 |\n",
    "| $T_{\\mathrm{max}}(R)$  | 221  | 188.5 | 238  | 253 | 271 | 320.5 |516|"
   ]
  },
  {
   "cell_type": "markdown",
   "metadata": {},
   "source": [
    "##### Then, we can create boxplots for them."
   ]
  },
  {
   "cell_type": "code",
   "execution_count": 22,
   "metadata": {},
   "outputs": [],
   "source": [
    "xlist_A = [1] * len(A_set)\n",
    "xlist_R = [2] * len(R_set)"
   ]
  },
  {
   "cell_type": "code",
   "execution_count": 30,
   "metadata": {},
   "outputs": [
    {
     "data": {
      "image/png": "[encoded data removed]",
      "text/plain": [
       "<Figure size 576x288 with 1 Axes>"
      ]
     },
     "metadata": {
      "needs_background": "light"
     },
     "output_type": "display_data"
    }
   ],
   "source": [
    "lbfz = 16\n",
    "\n",
    "fig, ax = plt.subplots(nrows=1, ncols=1, figsize=(8,4))\n",
    "\n",
    "combines = [A_set, R_set]\n",
    "\n",
    "d_box = ax.boxplot(combines, whis=(0,100))\n",
    "\n",
    "ax.set_ylabel('$T_{\\mathrm{max}}$', fontsize=lbfz)\n",
    "ax.set_xticklabels(['A', 'R'])\n",
    "ax.tick_params(axis='both', labelsize=lbfz)\n",
    "#ax.axhline(516, color='red', alpha=0.4)\n",
    "\n",
    "ax.scatter(xlist_A, A_set, s=10, color='black')\n",
    "ax.scatter([1], [12.4], s=14, marker='o', color='red')\n",
    "\n",
    "ax.scatter(xlist_R, R_set, s=10, color='black')\n",
    "ax.scatter([2], [516], s=14, color='red')\n",
    "#plt.savefig('q1_boxplots_v1.png', dpi=200)\n",
    "plt.show()"
   ]
  },
  {
   "cell_type": "markdown",
   "metadata": {},
   "source": [
    "<h4 style=\"color:blue\">(b) Calculate $\\overline{x}$ and $s^2$ for the data of set A.</h4> "
   ]
  },
  {
   "cell_type": "code",
   "execution_count": 42,
   "metadata": {},
   "outputs": [
    {
     "name": "stdout",
     "output_type": "stream",
     "text": [
      "There are 19 points.\n"
     ]
    }
   ],
   "source": [
    "n_A = len(A_set)\n",
    "print(f'There are {n_A} points.')"
   ]
  },
  {
   "cell_type": "code",
   "execution_count": 43,
   "metadata": {},
   "outputs": [
    {
     "name": "stdout",
     "output_type": "stream",
     "text": [
      "mean of A set is 128.07\n"
     ]
    }
   ],
   "source": [
    "mean = np.mean(A_set)\n",
    "print(f'mean of A set is {mean:.2f}')"
   ]
  },
  {
   "cell_type": "code",
   "execution_count": 47,
   "metadata": {},
   "outputs": [
    {
     "name": "stdout",
     "output_type": "stream",
     "text": [
      "s^2 of A set is 1282.68\n"
     ]
    }
   ],
   "source": [
    "summation = 0\n",
    "for a in A_set:\n",
    "    summation += np.square(a - mean)\n",
    "variance = summation / (n_A-1)\n",
    "print(f's^2 of A set is {variance:.2f}')"
   ]
  },
  {
   "cell_type": "code",
   "execution_count": 48,
   "metadata": {},
   "outputs": [
    {
     "data": {
      "text/plain": [
       "1282.6809356725144"
      ]
     },
     "execution_count": 48,
     "metadata": {},
     "output_type": "execute_result"
    }
   ],
   "source": [
    "np.var(A_set, ddof=1)"
   ]
  },
  {
   "cell_type": "code",
   "execution_count": null,
   "metadata": {},
   "outputs": [],
   "source": []
  }
 ],
 "metadata": {
  "kernelspec": {
   "display_name": "Python 3",
   "language": "python",
   "name": "python3"
  },
  "language_info": {
   "codemirror_mode": {
    "name": "ipython",
    "version": 3
   },
   "file_extension": ".py",
   "mimetype": "text/x-python",
   "name": "python",
   "nbconvert_exporter": "python",
   "pygments_lexer": "ipython3",
   "version": "3.8.5"
  }
 },
 "nbformat": 4,
 "nbformat_minor": 4
}
