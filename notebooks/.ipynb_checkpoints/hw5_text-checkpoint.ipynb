{
 "cells": [
  {
   "cell_type": "markdown",
   "metadata": {},
   "source": [
    "<h2 style=\"color:blue\">Q1</h2>"
   ]
  },
  {
   "cell_type": "markdown",
   "metadata": {},
   "source": [
    "<h4 style=\"color:blue\">\n",
    "$f(x)=\n",
    "\\begin{cases}\n",
    "  cx^2,& \\text{for } 1 \\leq x \\leq 2\\\\\n",
    "  0,              & \\text{otherwise}\n",
    "\\end{cases}$\n",
    "</h4>"
   ]
  },
  {
   "cell_type": "markdown",
   "metadata": {},
   "source": [
    "<h4 style=\"color:blue\">(a) Find the value of constant c and sketch the p.d.f</h4>"
   ]
  },
  {
   "cell_type": "markdown",
   "metadata": {},
   "source": [
    "Because \n",
    "\\begin{equation}\n",
    "\\int_{-\\infty}^{\\infty}f(x)dx=1\n",
    "\\end{equation}\n",
    "Subtitute $f(x)$ into that, we get\n",
    "\\begin{eqnarray*}\n",
    "\\int_{-\\infty}^{\\infty}f(x)dx &=& \\int_{1}^{2} cx^2 dx \\\\\n",
    "&=& F(2)-F(1) = 1\n",
    "\\end{eqnarray*}\n",
    "where\n",
    "\\begin{equation}\n",
    "F(x) = \\frac{1}{3}cx^3\n",
    "\\end{equation}\n",
    "Therefore,\n",
    "\\begin{equation}\n",
    "\\frac{1}{3}c (2^3-1^3) = \\frac{7}{3}c= 1\n",
    "\\end{equation}\n",
    "Finally, we get\n",
    "<p style=\"color:red\">\n",
    "\\begin{equation}\n",
    "c = \\frac{3}{7}\n",
    "\\end{equation}\n",
    "</p>\n"
   ]
  },
  {
   "cell_type": "markdown",
   "metadata": {},
   "source": [
    "<img src=\"./hw5_images/q1.png\" alt=\"None\">"
   ]
  },
  {
   "cell_type": "markdown",
   "metadata": {},
   "source": [
    "<h4 style=\"color:blue\">(b) Find the value of $Pr(X > \\frac{3}{2})$</h4>"
   ]
  },
  {
   "cell_type": "markdown",
   "metadata": {},
   "source": [
    "This question is to ask\n",
    "\\begin{equation}\n",
    "\\int_{\\frac{3}{2}}^{\\infty}f(x)dx\n",
    "\\end{equation}\n",
    "And we can simplify that as \n",
    "\\begin{eqnarray*}\n",
    "\\int_{\\frac{3}{2}}^{\\infty}f(x)dx &=& \\int_{\\frac{3}{2}}^{2}f(x)dx \\\\\n",
    "&=& F(2) - F(\\frac{3}{2}) \\\\\n",
    "&=& \\frac{1}{7}[2^3 - (\\frac{3}{2})^3] = \\frac{37}{56} = 0.661\n",
    "\\end{eqnarray*}\n",
    "\n",
    "where we used\n",
    "\\begin{equation}\n",
    "F(x) = \\frac{1}{3}cx^3 = \\frac{1}{7}x^3\n",
    "\\end{equation}\n",
    "\n",
    "Finally, we get\n",
    "<p style=\"color:red\">\n",
    "\\begin{equation}\n",
    "Pr(X > \\frac{3}{2}) = 0.661\n",
    "\\end{equation}\n",
    "</p>"
   ]
  },
  {
   "cell_type": "code",
   "execution_count": null,
   "metadata": {},
   "outputs": [],
   "source": []
  }
 ],
 "metadata": {
  "kernelspec": {
   "display_name": "Python 3",
   "language": "python",
   "name": "python3"
  },
  "language_info": {
   "codemirror_mode": {
    "name": "ipython",
    "version": 3
   },
   "file_extension": ".py",
   "mimetype": "text/x-python",
   "name": "python",
   "nbconvert_exporter": "python",
   "pygments_lexer": "ipython3",
   "version": "3.8.5"
  }
 },
 "nbformat": 4,
 "nbformat_minor": 4
}
