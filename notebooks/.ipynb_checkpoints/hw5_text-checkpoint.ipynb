{
 "cells": [
  {
   "cell_type": "markdown",
   "metadata": {},
   "source": [
    "<h2 style=\"color:blue\">Q1</h2>"
   ]
  },
  {
   "cell_type": "markdown",
   "metadata": {},
   "source": [
    "<h4 style=\"color:blue\">\n",
    "$f(x)=\n",
    "\\begin{cases}\n",
    "  cx^2,& \\text{for } 1 \\leq x \\leq 2\\\\\n",
    "  0,              & \\text{otherwise}\n",
    "\\end{cases}$\n",
    "</h4>"
   ]
  },
  {
   "cell_type": "markdown",
   "metadata": {},
   "source": [
    "<h4 style=\"color:blue\">(a) Find the value of constant c and sketch the p.d.f</h4>"
   ]
  },
  {
   "cell_type": "markdown",
   "metadata": {},
   "source": [
    "Because \n",
    "\\begin{equation}\n",
    "\\int_{-\\infty}^{\\infty}f(x)dx=1\n",
    "\\end{equation}\n",
    "Subtitute $f(x)$ into that, we get\n",
    "\\begin{eqnarray*}\n",
    "\\int_{-\\infty}^{\\infty}f(x)dx &=& \\int_{1}^{2} cx^2 dx \\\\\n",
    "&=& F(2)-F(1) = 1\n",
    "\\end{eqnarray*}\n",
    "where\n",
    "\\begin{equation}\n",
    "F(x) = \\frac{1}{3}cx^3\n",
    "\\end{equation}\n",
    "Therefore,\n",
    "\\begin{equation}\n",
    "\\frac{1}{3}c (2^3-1^3) = \\frac{7}{3}c= 1\n",
    "\\end{equation}\n",
    "Finally, we get\n",
    "<p style=\"color:red\">\n",
    "\\begin{equation}\n",
    "c = \\frac{3}{7}\n",
    "\\end{equation}\n",
    "</p>\n"
   ]
  },
  {
   "cell_type": "markdown",
   "metadata": {},
   "source": [
    "<img src=\"./hw5_images/q1.png\" alt=\"None\">"
   ]
  },
  {
   "cell_type": "markdown",
   "metadata": {},
   "source": [
    "<h4 style=\"color:blue\">(b) Find the value of $Pr(X > \\frac{3}{2})$</h4>"
   ]
  },
  {
   "cell_type": "markdown",
   "metadata": {},
   "source": [
    "This question is to ask\n",
    "\\begin{equation}\n",
    "\\int_{\\frac{3}{2}}^{\\infty}f(x)dx\n",
    "\\end{equation}\n",
    "And we can simplify that as \n",
    "\\begin{eqnarray*}\n",
    "\\int_{\\frac{3}{2}}^{\\infty}f(x)dx &=& \\int_{\\frac{3}{2}}^{2}f(x)dx \\\\\n",
    "&=& F(2) - F(\\frac{3}{2}) \\\\\n",
    "&=& \\frac{1}{7}[2^3 - (\\frac{3}{2})^3] = \\frac{37}{56} = 0.661\n",
    "\\end{eqnarray*}\n",
    "\n",
    "where we used\n",
    "\\begin{equation}\n",
    "F(x) = \\frac{1}{3}cx^3 = \\frac{1}{7}x^3\n",
    "\\end{equation}\n",
    "\n",
    "Finally, we get\n",
    "<p style=\"color:red\">\n",
    "\\begin{equation}\n",
    "Pr(X > \\frac{3}{2}) = 0.661\n",
    "\\end{equation}\n",
    "</p>"
   ]
  },
  {
   "cell_type": "markdown",
   "metadata": {},
   "source": [
    "<h2 style=\"color:blue\">Q2</h2>"
   ]
  },
  {
   "cell_type": "markdown",
   "metadata": {},
   "source": [
    "<h4 style=\"color:blue\">\n",
    "$f(x)=\n",
    "\\begin{cases}\n",
    "  \\frac{1}{8}x,& \\text{for } 0 \\leq x \\leq 4\\\\\n",
    "  0,              & \\text{otherwise}\n",
    "\\end{cases}$\n",
    "</h4>"
   ]
  },
  {
   "cell_type": "markdown",
   "metadata": {},
   "source": [
    "<img src=\"./hw5_images/q2.png\" alt=\"None\">"
   ]
  },
  {
   "cell_type": "markdown",
   "metadata": {},
   "source": [
    "As you can see in the plot, we can use the formula of triangle's area to calculate probability.\n",
    "\\begin{equation}\n",
    "\\mathrm{Area}=Pr(X \\leq t)=\\frac{t \\times f(t)}{2}=\\frac{t^2}{16}\n",
    "\\end{equation}"
   ]
  },
  {
   "cell_type": "markdown",
   "metadata": {},
   "source": [
    "<h4 style=\"color:blue\">(a) Find the value of $t$ such that $Pr(X  \\leq t)=\\frac{1}{4}$</h4>"
   ]
  },
  {
   "cell_type": "markdown",
   "metadata": {},
   "source": [
    "\\begin{equation}\n",
    "Pr(X \\geq t) = \\frac{t^2}{16} = \\frac{1}{4}\n",
    "\\end{equation}\n",
    "and\n",
    "\n",
    "\\begin{equation}\n",
    "t^2 = 4\n",
    "\\end{equation}\n",
    "so\n",
    "<p style=\"color:red\">\n",
    "\\begin{equation}\n",
    "t= 2\n",
    "\\end{equation}\n"
   ]
  },
  {
   "cell_type": "markdown",
   "metadata": {},
   "source": [
    "<h4 style=\"color:blue\">(b) Find the value of $t$ such that $Pr(X  \\geq t)=\\frac{1}{2}$</h4>"
   ]
  },
  {
   "cell_type": "markdown",
   "metadata": {},
   "source": [
    "Here, let us change the target by\n",
    "\\begin{equation}\n",
    "Pr(X \\leq t) = 1 - Pr(X \\geq t) = 1 - \\frac{1}{2} = \\frac{1}{2}\n",
    "\\end{equation}\n",
    "Therefore, as the general formula I mentioned above, we just try to find\n",
    "\\begin{equation}\n",
    "\\frac{t^2}{16} = \\frac{1}{2}\n",
    "\\end{equation}\n",
    "so\n",
    "<p style=\"color:red\">\n",
    "\\begin{equation}\n",
    "t= 2\\sqrt{2}\n",
    "\\end{equation}"
   ]
  },
  {
   "cell_type": "code",
   "execution_count": null,
   "metadata": {},
   "outputs": [],
   "source": []
  }
 ],
 "metadata": {
  "kernelspec": {
   "display_name": "Python 3",
   "language": "python",
   "name": "python3"
  },
  "language_info": {
   "codemirror_mode": {
    "name": "ipython",
    "version": 3
   },
   "file_extension": ".py",
   "mimetype": "text/x-python",
   "name": "python",
   "nbconvert_exporter": "python",
   "pygments_lexer": "ipython3",
   "version": "3.8.5"
  }
 },
 "nbformat": 4,
 "nbformat_minor": 4
}
