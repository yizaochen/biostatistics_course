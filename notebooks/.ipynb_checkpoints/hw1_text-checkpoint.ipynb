{
 "cells": [
  {
   "cell_type": "markdown",
   "metadata": {},
   "source": [
    "## Question 1: The one about drug therapy"
   ]
  },
  {
   "cell_type": "markdown",
   "metadata": {},
   "source": [
    "<h4 style=\"color:blue\">(a) Construct a side-by-side box plot and identify outliers.</h4>\n",
    "\n",
    "##### First, we need summaries for two sets(A and R), respectively.   \n",
    "|   |  Minimum  | Q1  | Median | Q3  | Maximum |\n",
    "|---|---|-------|---|----|---|\n",
    "| $T_{\\mathrm{max}}(A)$  | 12.4  | 119.5  | 130  | 139  | 200 |\n",
    "| $T_{\\mathrm{max}}(R)$  | 221   | 238  | 253 | 271  |516|  \n",
    "\n",
    "Then, we can create boxplots for them. Here, the maximum and minimum are used as the ends of the whiskers.  \n",
    "<img src=\"./hw1_images/q1_boxplots_v1_annotation_bg.png\" alt=\"None\">\n",
    "\n",
    "As you can see, the outlier in A set is 12.4, and the outlier in R set is 516."
   ]
  },
  {
   "cell_type": "markdown",
   "metadata": {},
   "source": [
    "<h4 style=\"color:blue\">(b) Calculate $\\overline{x}$ and $s^2$ for the data of set A.</h4> \n",
    "<ul>\n",
    "    <li>$\\overline{x}=\\frac{x_1+x_2+\\cdots+x_n}{n}=\\frac{105+126+120+\\cdots+170}{19}=128.07$</li>\n",
    "    <li>$s^2=\\frac{(x_1-\\overline{x})^2+(x_2-\\overline{x})^2+\\cdots+(x_n-\\overline{x})^2}{n-1}= \\frac{(105-128.07)^2+(126-128.07)^2+\\cdots+(170-128.07)^2}{18}=1282.68$</li>\n",
    "</ul>"
   ]
  }
 ],
 "metadata": {
  "kernelspec": {
   "display_name": "Python 3",
   "language": "python",
   "name": "python3"
  },
  "language_info": {
   "codemirror_mode": {
    "name": "ipython",
    "version": 3
   },
   "file_extension": ".py",
   "mimetype": "text/x-python",
   "name": "python",
   "nbconvert_exporter": "python",
   "pygments_lexer": "ipython3",
   "version": "3.8.5"
  }
 },
 "nbformat": 4,
 "nbformat_minor": 4
}
