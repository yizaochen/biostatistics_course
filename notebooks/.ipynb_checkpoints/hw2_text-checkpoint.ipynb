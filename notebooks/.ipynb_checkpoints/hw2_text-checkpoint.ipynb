{
 "cells": [
  {
   "cell_type": "markdown",
   "metadata": {},
   "source": [
    "<h2 style=\"color:blue\">Question 1: Getting into college</h2>\n",
    "\n",
    "We define two events A and B\n",
    "<ul>\n",
    "    <li>A = admitted by Princeton</li>\n",
    "    <li>B = admitted by Stanford</li>\n",
    "</ul>\n",
    "Therefore\n",
    "<ul>\n",
    "    <li>$P(\\mathrm{A})=0.4$</li>\n",
    "    <li>$P(\\mathrm{B})=0.5$</li>\n",
    "    <li>$P(\\mathrm{A}\\cap \\mathrm{B})=0.2$</li>\n",
    "</ul>"
   ]
  },
  {
   "cell_type": "markdown",
   "metadata": {},
   "source": [
    "<h4 style=\"color:blue\">(a) Make a Venn diagram with the probabilities given marked</h4>"
   ]
  },
  {
   "cell_type": "markdown",
   "metadata": {},
   "source": [
    "<img src=\"./hw2_images/hw2_q1_drawing.svg\" alt=\"None\">"
   ]
  },
  {
   "cell_type": "markdown",
   "metadata": {},
   "source": [
    "<h4 style=\"color:blue\">(b) What is the probability that neither university admits Ramon?</h4>"
   ]
  },
  {
   "cell_type": "markdown",
   "metadata": {},
   "source": [
    "From the Venn diagram, we know  \n",
    "<ul>\n",
    "    <li>$\\mathrm{A}\\cup \\mathrm{B}$ = At least one of university accepts him</li>\n",
    "    <li>$P(\\mathrm{A}\\cup \\mathrm{B})=P(\\mathrm{A})+P(\\mathrm{B})-P(\\mathrm{A}\\cap \\mathrm{B})=0.4+0.5-0.2=0.7$</li>\n",
    "</ul>  \n",
    "Therefore, the probability that neither university admits him is\n",
    "<ul>\n",
    "    <li style=\"color:red\">$1 - P(\\mathrm{A}\\cup \\mathrm{B}) = 1 - 0.7 = 0.3$</li>\n",
    "</ul>"
   ]
  },
  {
   "cell_type": "markdown",
   "metadata": {},
   "source": [
    "<h4 style=\"color:blue\">(c) What is the probability that he gets into Stanford but not Princeton?</h4>\n",
    "The answer is\n",
    "<ul>\n",
    "    <li style=\"color:red\">$P(\\mathrm{B}) - P(\\mathrm{A}\\cap \\mathrm{B}) = 0.5 - 0.2 = 0.3$</li>\n",
    "</ul>"
   ]
  },
  {
   "cell_type": "markdown",
   "metadata": {},
   "source": [
    "<h2 style=\"color:blue\">Question 2: Skin and Earlobes</h2>"
   ]
  },
  {
   "cell_type": "markdown",
   "metadata": {},
   "source": [
    "<h4 style=\"color:blue\">(a) Draw the tree to represent the possible outcomes for the offspring.</h4>"
   ]
  },
  {
   "cell_type": "markdown",
   "metadata": {},
   "source": [
    "<img src=\"./hw2_images/hw2_q2_tree.svg\" alt=\"None\">"
   ]
  },
  {
   "cell_type": "code",
   "execution_count": null,
   "metadata": {},
   "outputs": [],
   "source": [
    "hw2_q2_tree.svg"
   ]
  }
 ],
 "metadata": {
  "kernelspec": {
   "display_name": "Python 3",
   "language": "python",
   "name": "python3"
  },
  "language_info": {
   "codemirror_mode": {
    "name": "ipython",
    "version": 3
   },
   "file_extension": ".py",
   "mimetype": "text/x-python",
   "name": "python",
   "nbconvert_exporter": "python",
   "pygments_lexer": "ipython3",
   "version": "3.8.5"
  }
 },
 "nbformat": 4,
 "nbformat_minor": 4
}
