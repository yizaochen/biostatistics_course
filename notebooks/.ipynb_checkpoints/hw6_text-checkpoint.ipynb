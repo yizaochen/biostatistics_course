{
 "cells": [
  {
   "cell_type": "markdown",
   "metadata": {},
   "source": [
    "<h2 style=\"color:blue\">Q1:  Making auto parts</h2>"
   ]
  },
  {
   "cell_type": "markdown",
   "metadata": {},
   "source": [
    "The population distribution:\n",
    "<ul>\n",
    "    <li>$\\mu=40.125$</li>\n",
    "    <li>$\\sigma=0.002$</li>\n",
    "</ul>  \n",
    "\n",
    "We are trying to find the mean and standard deviation of the sample mean, $\\bar{X}$(size $n=4$). And we know the properties of the sample mean\n",
    "<ul>\n",
    "    <li>$E(\\bar{X})=\\mu=40.125$</li>\n",
    "    <li>$Var(\\bar{X})=\\frac{\\sigma^2}{n}=\\frac{0.002^2}{4}=10^{-6}$</li>\n",
    "</ul>\n",
    "Therefore\n",
    "<ul>\n",
    "    <li style=\"color:red\">The mean of the numbers recorded is 40.125</li>\n",
    "    <li style=\"color:red\">The standard deviation of the numbers recorded is 0.001</li>\n",
    "</ul>"
   ]
  },
  {
   "cell_type": "markdown",
   "metadata": {},
   "source": [
    "<h2 style=\"color:blue\">Q2: Dust in coal mines</h2>"
   ]
  },
  {
   "cell_type": "markdown",
   "metadata": {},
   "source": [
    "The population distribution is\n",
    "\\begin{equation}\n",
    "N(\\mu=123, \\sigma=0.08)\n",
    "\\end{equation}"
   ]
  },
  {
   "cell_type": "markdown",
   "metadata": {},
   "source": [
    "<h4 style=\"color:blue\">(a) The laboratory reports the mean of 3 weighings. What is the distribution of this mean?</h4>"
   ]
  },
  {
   "cell_type": "markdown",
   "metadata": {},
   "source": [
    "If individual observations have the $N(\\mu, \\sigma)$ dsitribution, then the sample mean $\\bar{x}$ of an SRS of size $n$ has the $N(\\mu, \\frac{\\sigma}{\\sqrt{n}})$ distribution."
   ]
  },
  {
   "cell_type": "markdown",
   "metadata": {},
   "source": [
    "<p style=\"color:red\">\n",
    "Therefore, the distribution of this mean is $N(123, \\frac{0.08}{\\sqrt{3}})$\n",
    "</p>\n",
    "<img src=\"./hw6_images/Q2_a.png\" width=\"500\" alt=\"None\">"
   ]
  },
  {
   "cell_type": "markdown",
   "metadata": {},
   "source": [
    "<h4 style=\"color:blue\">(b) What is the probability that the laboratory reports a weight of 124 mg or higher for this filter?</h4>"
   ]
  },
  {
   "cell_type": "markdown",
   "metadata": {},
   "source": [
    "We need to standardize first\n",
    "\\begin{equation}\n",
    "\\bar{x} = 124\n",
    "\\end{equation}\n",
    "\n",
    "\\begin{equation}\n",
    "z = \\frac{\\bar{x}-\\mu}{\\sigma} = \\frac{124-123}{0.08/\\sqrt{3}} = 21.65\n",
    "\\end{equation}\n",
    "\n",
    "As you can see, $z$ value is sky high!! So\n",
    "\\begin{equation}\n",
    "P(Z \\geq 21.65)\\approx 0 \n",
    "\\end{equation}\n",
    "\n",
    "<p style=\"color:red\">\n",
    "Therefore, the probability that the laboratory reports a weight of 124 mg or higher for this filter is 0.\n",
    "</p>"
   ]
  },
  {
   "cell_type": "markdown",
   "metadata": {},
   "source": [
    "<h2 style=\"color:blue\">Q3: Pollutants in auto exhausts.</h2>"
   ]
  },
  {
   "cell_type": "markdown",
   "metadata": {},
   "source": [
    "The population distribution with\n",
    "\\begin{equation}\n",
    "\\mu=0.9~ ~ \\sigma=0.15\n",
    "\\end{equation}"
   ]
  },
  {
   "cell_type": "markdown",
   "metadata": {},
   "source": [
    "<h4 style=\"color:blue\">(a) What is the approximate distribution of the mean NOX emission level $\\bar{x}$ for these cars?</h4>"
   ]
  },
  {
   "cell_type": "markdown",
   "metadata": {},
   "source": [
    "#### The central limit theorem:\n",
    "Draw an SRS of size $n$ from any population with mean $\\mu$ and finite standard deviation $\\sigma$. When $n$ is large, the sampling distribution of the sample mean $\\bar{x}$ is approximately Normal:\n",
    "\\begin{equation}\n",
    "\\bar{x}\\mathrm{~ ~is~ ~approximately~ ~}N(\\mu,\\frac{\\sigma}{\\sqrt{n}})\n",
    "\\end{equation}"
   ]
  },
  {
   "cell_type": "markdown",
   "metadata": {},
   "source": [
    "Now\n",
    "\\begin{equation}\n",
    "n=125\n",
    "\\end{equation}\n",
    "and it is large enough to apply the central limit theorem"
   ]
  },
  {
   "cell_type": "markdown",
   "metadata": {},
   "source": [
    "<p style=\"color:red\">\n",
    "Therefore, the approximate distribution of the mean NOX emission level $\\bar{x}$ for these cars is\n",
    "\\begin{equation}\n",
    "    N(\\mu=0.9, \\sigma=\\frac{0.15}{\\sqrt{125}}) = N(\\mu=0.9, \\sigma=0.0134)\n",
    "\\end{equation}\n",
    "</p>\n",
    "<img src=\"./hw6_images/Q3_a.png\" width=\"500\" alt=\"None\">"
   ]
  },
  {
   "cell_type": "markdown",
   "metadata": {},
   "source": [
    "<h4 style=\"color:blue\">(b) What is the level $L$ such that the probability that $\\bar{x}$ is greater than $L$ is only 0.01?</h4>"
   ]
  },
  {
   "cell_type": "markdown",
   "metadata": {},
   "source": [
    "We start from the standard Normal, and trying to find $z'$\n",
    "\\begin{equation}\n",
    "P(z \\leq z') = 1 - 0.01 = 0.99\n",
    "\\end{equation}"
   ]
  },
  {
   "cell_type": "markdown",
   "metadata": {},
   "source": [
    "From the Z-table, we get\n",
    "\\begin{equation}\n",
    "P(z \\leq 2.33) = 0.9901\n",
    "\\end{equation}\n",
    "So, we can say\n",
    "\\begin{equation}\n",
    "z' \\approx 2.33\n",
    "\\end{equation}"
   ]
  },
  {
   "cell_type": "markdown",
   "metadata": {},
   "source": [
    "Then, we need to unstandardize\n",
    "\\begin{equation}\n",
    "\\frac{L-0.9}{0.0134} = 2.33\n",
    "\\end{equation}"
   ]
  },
  {
   "cell_type": "markdown",
   "metadata": {},
   "source": [
    "<p style=\"color:red\">\n",
    "\\begin{equation}\n",
    "    L = 0.9312\n",
    "\\end{equation}\n",
    "</p>"
   ]
  },
  {
   "cell_type": "markdown",
   "metadata": {},
   "source": [
    "<h2 style=\"color:blue\">Q4: How many people in a car?</h2>"
   ]
  },
  {
   "cell_type": "markdown",
   "metadata": {},
   "source": [
    "The population distribution with\n",
    "\\begin{equation}\n",
    "\\mu=1.5~ ~ \\sigma=0.75\n",
    "\\end{equation}"
   ]
  },
  {
   "cell_type": "markdown",
   "metadata": {},
   "source": [
    "<h4 style=\"color:blue\">(a) Could the exact distribution of the count be Normal? Why or why not?</h4>"
   ]
  },
  {
   "cell_type": "markdown",
   "metadata": {},
   "source": [
    "<p style=\"color:red\">\n",
    "The exact distribution could be Normal or \"any\" distribution. We do not have the information about the population distribution except the mean and standard deviation.\n",
    "</p>"
   ]
  },
  {
   "cell_type": "markdown",
   "metadata": {},
   "source": [
    "<h4 style=\"color:blue\">(b) Traffic engineers estimate that the capacity of the interchange is 700 cars per hour. According to the central limit theorem, what is the approximate distribution of the mean number of persons $\\bar{x}$ in 700 randomly selected cars at this interchagne?</h4>"
   ]
  },
  {
   "cell_type": "markdown",
   "metadata": {},
   "source": [
    "#### The central limit theorem:\n",
    "Draw an SRS of size $n$ from any population with mean $\\mu$ and finite standard deviation $\\sigma$. When $n$ is large, the sampling distribution of the sample mean $\\bar{x}$ is approximately Normal:\n",
    "\\begin{equation}\n",
    "\\bar{x}\\mathrm{~ ~is~ ~approximately~ ~}N(\\mu,\\frac{\\sigma}{\\sqrt{n}})\n",
    "\\end{equation}"
   ]
  },
  {
   "cell_type": "markdown",
   "metadata": {},
   "source": [
    "Now\n",
    "\\begin{equation}\n",
    "n=700\n",
    "\\end{equation}\n",
    "and it is large enough to apply the central limit theorem"
   ]
  },
  {
   "cell_type": "markdown",
   "metadata": {},
   "source": [
    "<p style=\"color:red\">\n",
    "Therefore, the approximate distribution of the mean number of persons $\\bar{x}$ in 700 randomly selected cars at this interchagne is\n",
    "\\begin{equation}\n",
    "    N(\\mu=1.5, \\sigma=\\frac{0.75}{\\sqrt{700}}) = N(\\mu=1.5, \\sigma=0.0283)\n",
    "\\end{equation}\n",
    "</p>\n",
    "<img src=\"./hw6_images/Q4_a.png\" width=\"500\" alt=\"None\">"
   ]
  },
  {
   "cell_type": "markdown",
   "metadata": {},
   "source": [
    "<h4 style=\"color:blue\">(c) What is the probability that 700 cars will carry more than 1075 people?</h4>"
   ]
  },
  {
   "cell_type": "markdown",
   "metadata": {},
   "source": [
    "700 cars carry more than 1075 people, it is equivalent to\n",
    "\\begin{equation}\n",
    "\\bar{x} = \\frac{1075}{700} = 1.536\n",
    "\\end{equation}"
   ]
  },
  {
   "cell_type": "markdown",
   "metadata": {},
   "source": [
    "Therefore, this question is to ask\n",
    "\\begin{equation}\n",
    "P(\\bar{x}>1.536)\n",
    "\\end{equation}"
   ]
  },
  {
   "cell_type": "markdown",
   "metadata": {},
   "source": [
    "In order to use the Z-table, we need to standardize\n",
    "\\begin{equation}\n",
    "z' = \\frac{1.536 - 1.5}{0.0283} = 1.27\n",
    "\\end{equation}"
   ]
  },
  {
   "cell_type": "markdown",
   "metadata": {},
   "source": [
    "From the Z-table, we get\n",
    "\\begin{equation}\n",
    "P(z>1.27) = 1 - P(z \\leq 1.27) = 1 - 0.8980 =  0.102\n",
    "\\end{equation}"
   ]
  },
  {
   "cell_type": "markdown",
   "metadata": {},
   "source": [
    "<p style=\"color:red\">\n",
    "Therefore, the probability that 700 cars will carry more than 1075 people is 0.102\n",
    "</p>"
   ]
  },
  {
   "cell_type": "markdown",
   "metadata": {},
   "source": [
    "<h2 style=\"color:blue\">Q5: Random-digit dialing</h2>"
   ]
  },
  {
   "cell_type": "markdown",
   "metadata": {},
   "source": [
    "\\begin{equation}\n",
    "X \\sim Binomial(n=15,p=0.2)\n",
    "\\end{equation}"
   ]
  },
  {
   "cell_type": "markdown",
   "metadata": {},
   "source": [
    "<h4 style=\"color:blue\">(a) What is the probability that exactly 3 calls reach a person?</h4>"
   ]
  },
  {
   "cell_type": "markdown",
   "metadata": {},
   "source": [
    "This question is trying to find\n",
    "\\begin{align*}\n",
    "P(X=3)&={15 \\choose 3} 0.2^{3}(1-0.2)^{15-3}\\\\\n",
    "&= \\frac{15!}{3!12!}(8\\times 10^{-3})(0.0687)\\\\\n",
    "&=455\\times 0.5496 \\times 10^{-3} \\\\\n",
    "&=0.25\n",
    "\\end{align*}"
   ]
  },
  {
   "cell_type": "markdown",
   "metadata": {},
   "source": [
    "<p style=\"color:red\">\n",
    "Therefore, the probability that exactly 3 calls reach a person is 0.25\n",
    "</p>"
   ]
  },
  {
   "cell_type": "markdown",
   "metadata": {},
   "source": [
    "<h4 style=\"color:blue\">(b) What is the probability that 3 or fewer calls reach a person?</h4>"
   ]
  },
  {
   "cell_type": "markdown",
   "metadata": {},
   "source": [
    "This question is trying to find\n",
    "\\begin{align*}\n",
    "P(X \\leq 3) &= P(0)+P(1)+P(2)+P(3) \\\\\n",
    "&= {15 \\choose 0} 0.2^{0}(1-0.2)^{15} + {15 \\choose 1} 0.2^{1}(1-0.2)^{15-1} \\\\\n",
    "&+ {15 \\choose 2} 0.2^{2}(1-0.2)^{15-2} + 0.25 \\\\\n",
    "&=0.035+0.132+0.23+0.25=0.647\n",
    "\\end{align*}"
   ]
  },
  {
   "cell_type": "markdown",
   "metadata": {},
   "source": [
    "<p style=\"color:red\">\n",
    "Therefore, the probability that 3 or fewer calls reach a person is 0.647\n",
    "</p>"
   ]
  },
  {
   "cell_type": "markdown",
   "metadata": {},
   "source": [
    "<h2 style=\"color:blue\">Q6: Multiple-choice tests</h2>"
   ]
  },
  {
   "cell_type": "markdown",
   "metadata": {},
   "source": [
    "<h4 style=\"color:blue\">(a) Use the Normal approximation to find the probability that Jodi scores 70% or lower on a 100-question test.</h4>"
   ]
  },
  {
   "cell_type": "markdown",
   "metadata": {},
   "source": [
    "First, this question should be expressed as\n",
    "\\begin{align*}\n",
    "X &\\sim Binomial(n=100,p=0.75) \\\\\n",
    "\\mu &= np = 75 \\\\\n",
    "\\sigma &= \\sqrt{np(1-p)} = 4.33\n",
    "\\end{align*}"
   ]
  },
  {
   "cell_type": "markdown",
   "metadata": {},
   "source": [
    "As the number of observations $n$ gets larger, the binomial distribution gets close to a Normal distribution.\n",
    "\\begin{align*}\n",
    "Y\\sim N(\\mu=75,\\sigma=4.33)\n",
    "\\end{align*}"
   ]
  },
  {
   "cell_type": "markdown",
   "metadata": {},
   "source": [
    "This question is trying to find \n",
    "\\begin{align*}\n",
    "P(Y \\leq 70)\n",
    "\\end{align*}"
   ]
  },
  {
   "cell_type": "markdown",
   "metadata": {},
   "source": [
    "Then, we standardize\n",
    "\\begin{align*}\n",
    "\\frac{70-75}{4.33} = -1.155 \\approx 1.16\n",
    "\\end{align*}"
   ]
  },
  {
   "cell_type": "markdown",
   "metadata": {},
   "source": [
    "From the Z-table, we get\n",
    "\\begin{align*}\n",
    "P(Z \\leq 1.16) &= 0.877\n",
    "\\end{align*}"
   ]
  },
  {
   "cell_type": "markdown",
   "metadata": {},
   "source": [
    "And from the property of symmetry, we get\n",
    "\\begin{align*}\n",
    "P(Z \\leq -1.16) &= 1  - 0.877 = 0.123\n",
    "\\end{align*}"
   ]
  },
  {
   "cell_type": "markdown",
   "metadata": {},
   "source": [
    "<p style=\"color:red\">\n",
    "Therefore, the probability that Jodi scores 70% or lower on a 100-question test is 0.123\n",
    "</p>"
   ]
  },
  {
   "cell_type": "markdown",
   "metadata": {},
   "source": [
    "<img src=\"./hw6_images/Q6_a.png\" alt=\"None\">"
   ]
  },
  {
   "cell_type": "markdown",
   "metadata": {},
   "source": [
    "<h4 style=\"color:blue\">(b) If the test contains 250 questions, what is the probability that Jodi will score 70% or lower?</h4>"
   ]
  },
  {
   "cell_type": "markdown",
   "metadata": {},
   "source": [
    "First, this question should be expressed as\n",
    "\\begin{align*}\n",
    "X &\\sim Binomial(n=250,p=0.75) \\\\\n",
    "\\mu &= np = 187.5 \\\\\n",
    "\\sigma &= \\sqrt{np(1-p)} = 6.85\n",
    "\\end{align*}"
   ]
  },
  {
   "cell_type": "markdown",
   "metadata": {},
   "source": [
    "And we also use the Normal distribution to approximate\n",
    "\\begin{align*}\n",
    "Y\\sim N(\\mu=187.5,\\sigma=6.85)\n",
    "\\end{align*}"
   ]
  },
  {
   "cell_type": "markdown",
   "metadata": {},
   "source": [
    "For 250 questions, score 70% is\n",
    "\\begin{align*}\n",
    "250 \\times 0.7 = 175\n",
    "\\end{align*}"
   ]
  },
  {
   "cell_type": "markdown",
   "metadata": {},
   "source": [
    "Therefore, this question becomes to find \n",
    "\\begin{align*}\n",
    "P(Y \\leq 175)\n",
    "\\end{align*}"
   ]
  },
  {
   "cell_type": "markdown",
   "metadata": {},
   "source": [
    "Then, we standardize\n",
    "\\begin{align*}\n",
    "\\frac{175-187.5}{6.85} = -1.82\n",
    "\\end{align*}"
   ]
  },
  {
   "cell_type": "markdown",
   "metadata": {},
   "source": [
    "From the Z-table, we get\n",
    "\\begin{align*}\n",
    "P(Z \\leq 1.82) &= 0.9656\n",
    "\\end{align*}"
   ]
  },
  {
   "cell_type": "markdown",
   "metadata": {},
   "source": [
    "And from the property of symmetry, we get\n",
    "\\begin{align*}\n",
    "P(Z \\leq -1.82) &= 1  - 0.9656 = 0.0344\n",
    "\\end{align*}"
   ]
  },
  {
   "cell_type": "markdown",
   "metadata": {},
   "source": [
    "<p style=\"color:red\">\n",
    "Therefore, the probability that Jodi scores 70% or lower on a 250-question test is 0.0344\n",
    "</p>"
   ]
  },
  {
   "cell_type": "markdown",
   "metadata": {},
   "source": [
    "<img src=\"./hw6_images/Q6_b.png\" alt=\"None\">"
   ]
  },
  {
   "cell_type": "code",
   "execution_count": null,
   "metadata": {},
   "outputs": [],
   "source": []
  }
 ],
 "metadata": {
  "kernelspec": {
   "display_name": "Python 3",
   "language": "python",
   "name": "python3"
  },
  "language_info": {
   "codemirror_mode": {
    "name": "ipython",
    "version": 3
   },
   "file_extension": ".py",
   "mimetype": "text/x-python",
   "name": "python",
   "nbconvert_exporter": "python",
   "pygments_lexer": "ipython3",
   "version": "3.8.5"
  }
 },
 "nbformat": 4,
 "nbformat_minor": 4
}
