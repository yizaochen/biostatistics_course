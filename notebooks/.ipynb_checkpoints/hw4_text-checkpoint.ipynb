{
 "cells": [
  {
   "cell_type": "markdown",
   "metadata": {},
   "source": [
    "<h2 style=\"color:blue\">Q1: Guinea pigs</h2>"
   ]
  },
  {
   "cell_type": "markdown",
   "metadata": {},
   "source": [
    "<h4 style=\"color:blue\">(a) What are the possible genotypes for the female? What are the possible genotypes for the male?</h4>"
   ]
  },
  {
   "cell_type": "markdown",
   "metadata": {},
   "source": [
    "<ul>\n",
    "    <li style=\"color:red\">Female: $(BB/Bb)$ x $(LL/Ll)$ = $(BBLL)$, $(BBLl)$, $(BbLL)$, $(BbLl)$</li>\n",
    "    <li style=\"color:red\">Male: $(bb)$ x $(ll)$ = $(bbll)$</li>\n",
    "</ul>"
   ]
  },
  {
   "cell_type": "markdown",
   "metadata": {},
   "source": [
    "<h4 style=\"color:blue\">(b) For each possible genotype for the female construct a tree to represent the possible outcomes for the offspring.</h4>"
   ]
  },
  {
   "cell_type": "markdown",
   "metadata": {},
   "source": [
    "<img src=\"./hw4_images/hw4_q1_all.svg\" alt=\"None\">"
   ]
  },
  {
   "cell_type": "markdown",
   "metadata": {},
   "source": [
    "<h4 style=\"color:blue\">(c) Find the probability of obtaining an albino with short hair in each case.</h4>"
   ]
  },
  {
   "cell_type": "markdown",
   "metadata": {},
   "source": [
    "The possible genotype for an albino with short hair is: $bbLL$ and $bbLl$. According to the above trees, we get\n",
    "<ul>\n",
    "    <li style=\"color:red\">Case 1: $(BBLL)$ x $(bbll)$, P(albino, short)=0</li>\n",
    "    <li style=\"color:red\">Case 2: $(BBLl)$ x $(bbll)$, P(albino, short)=0</li>\n",
    "    <li style=\"color:red\">Case 3: $(BbLL)$ x $(bbll)$, P(albino, short)=0.5</li>\n",
    "    <li style=\"color:red\">Case 4: $(BbLl)$ x $(bbll)$, P(albino, short)=0.25</li>\n",
    "</ul>"
   ]
  },
  {
   "cell_type": "markdown",
   "metadata": {},
   "source": [
    "<h2 style=\"color:blue\">Q3: Binomial and Poisson</h2>"
   ]
  },
  {
   "cell_type": "markdown",
   "metadata": {},
   "source": [
    "<h4 style=\"color:blue\">(a) In fruit flies, 4 sperms cells in every $10^5$ carry a mutation for red eye to white eye, or vice versa.</h4>"
   ]
  },
  {
   "cell_type": "markdown",
   "metadata": {},
   "source": [
    "<h4 style=\"color:blue\">How many mutations would you expect to occur in 200,000 sperm cells?</h4>"
   ]
  },
  {
   "cell_type": "markdown",
   "metadata": {},
   "source": [
    "<ul>\n",
    "    <li>The probability of mutation is $P=\\frac{4}{10^5}=0.00004$</li>\n",
    "    <li>This problem can be described as a binomial distribution with $n=200000$ and $p=0.00004$</li>\n",
    "    <li style=\"color:red\">The expected number of mutation to occur in 200,000 sperm cells is mean, $\\mu=np=200000 \\times 0.00004=8$</li>\n",
    "</ul>"
   ]
  },
  {
   "cell_type": "markdown",
   "metadata": {},
   "source": [
    "<h4 style=\"color:blue\">What is the probability that at most 10 would occur?</h4>"
   ]
  },
  {
   "cell_type": "markdown",
   "metadata": {},
   "source": [
    "<ul>\n",
    "    <li>Because large $n$ and small $p$, we can use Possion distribution to approximate.</li>\n",
    "    <li>$P(Y=k)=\\frac{e^{-np}(np)^k}{k!}$</li>\n",
    "    <li>This problem is to ask $P(X \\leq 10)$</li>\n",
    "    <li>By Poisson distribution, $P(Y \\leq 10)=\\sum_{k=0}^{10}P(Y =k)=\\sum_{k=0}^{10}\\frac{e^{-np}(np)^k}{k!}$</li>\n",
    "    <li>$ \\sum_{k=0}^{10}\\frac{e^{-8}(8)^k}{k!}= e^{-8}[\\frac{(8)^0}{0!}+\\frac{(8)^1}{1!}+\\cdots+\\frac{(8)^{10}}{10!}] = 0.816$</li>\n",
    "    <li style=\"color:red\">the probability that at most 10 would occur is $0.816$</li>\n",
    "</ul>"
   ]
  },
  {
   "cell_type": "markdown",
   "metadata": {},
   "source": [
    "<h4 style=\"color:blue\">What is the probability that between 6 and 10, inclusive, would occur?</h4>"
   ]
  },
  {
   "cell_type": "markdown",
   "metadata": {},
   "source": [
    "<ul>\n",
    "    <li>This problem is to ask $P(6 \\leq X \\leq 10)$</li>\n",
    "    <li>By Poisson distribution, $P(6 \\leq Y \\leq 10)=P(6)+P(7)+P(8)+P(9)+P(10)=\\sum_{k=6}^{10}\\frac{e^{-np}(np)^k}{k!}$</li>\n",
    "    <li>$ \\sum_{k=6}^{10}\\frac{e^{-8}(8)^k}{k!}= e^{-8}[\\frac{(8)^6}{6!}+\\frac{(8)^7}{7!}+\\frac{(8)^8}{8!}+\\frac{(8)^9}{9!}+\\frac{(8)^{10}}{10!}] = 0.625$</li>\n",
    "    <li style=\"color:red\">the probability that between 6 and 10, inclusive, would occur is $0.625$</li>\n",
    "</ul>"
   ]
  },
  {
   "cell_type": "markdown",
   "metadata": {},
   "source": [
    "<h4 style=\"color:blue\">(b) In human beings, mutations for Huntington's disease occur in about 5 of every $10^6$ gametes. What is the probability that in 2 million gametes there will be at least one mutation?</h4>"
   ]
  },
  {
   "cell_type": "markdown",
   "metadata": {},
   "source": [
    "<ul>\n",
    "    <li>First, let us use Binomial to describe</li>\n",
    "    <li>$X=$ number of mutation</li>\n",
    "    <li>$X \\sim Binomial(n=2 \\times 10^{6},p=5 \\times 10^{-6})$</li>\n",
    "    <li>Because large $n$ and small $p$, we can use Possion distribution to approximate.</li>\n",
    "    <li>The problem is to ask $P(X \\geq 1) = 1 - P(X=0)$</li>\n",
    "    <li>By Poisson distribution, $P(Y=0)=\\frac{e^{-np}(np)^0}{0!}=e^{-10}\\approx P(X=0)$</li>\n",
    "    <li>Therefore, $P(X \\geq 1) = 1 - P(X=0)\\approx 1 - e^{-10} = 0.99995$</li>\n",
    "    <li style=\"color:red\">the probability that in 2 million gametes there will be at least one mutation is $ 0.99995$</li>\n",
    "</ul>"
   ]
  },
  {
   "cell_type": "markdown",
   "metadata": {},
   "source": [
    "<h4 style=\"color:blue\">(b) It is estimated that only 1 in every 50 parrots captured in the Amazon Basin for use as household pets will survive the transition.  </h4>"
   ]
  },
  {
   "cell_type": "markdown",
   "metadata": {},
   "source": [
    "<ul>\n",
    "    <li>$X=$ number of survive</li>\n",
    "    <li>The probability of survive is $p = \\frac{1}{50}=0.02$</li>\n",
    "</ul>"
   ]
  },
  {
   "cell_type": "markdown",
   "metadata": {},
   "source": [
    "<h4 style=\"color:blue\">During the course of a day, 700 birds are captrued. What is the expected number of survivors? </h4>"
   ]
  },
  {
   "cell_type": "markdown",
   "metadata": {},
   "source": [
    "<ul>\n",
    "    <li>$X \\sim Binomial(n=700, p=0.02)$</li>\n",
    "    <li>$\\mu=np=14$</li>\n",
    "    <li style=\"color:red\">the expected number of survivors is 14</li>\n",
    "</ul>"
   ]
  },
  {
   "cell_type": "markdown",
   "metadata": {},
   "source": [
    "<h4 style=\"color:blue\">What is the probability that at most 10 birds will survive? </h4>"
   ]
  },
  {
   "cell_type": "markdown",
   "metadata": {},
   "source": [
    "<ul>\n",
    "    <li>For $n=700$ and $p=0.02$, Poisson is still a good approximation.</li>\n",
    "    <li>This problem is to ask $P(X \\leq 10)$</li>\n",
    "    <li>By Poisson distribution, $P(Y \\leq 10)=\\sum_{k=0}^{10}P(Y =k)=\\sum_{k=0}^{10}\\frac{e^{-np}(np)^k}{k!}$</li>\n",
    "    <li>$ \\sum_{k=0}^{10}\\frac{e^{-14}(14)^k}{k!}= e^{-14}[\\frac{(14)^0}{0!}+\\frac{(14)^1}{1!}+\\cdots+\\frac{(14)^{10}}{10!}] = 0.176$</li>\n",
    "    <li style=\"color:red\">the probability that at most 10 birds will survive is $0.176$</li>\n",
    "</ul>"
   ]
  },
  {
   "cell_type": "markdown",
   "metadata": {},
   "source": [
    "<h4 style=\"color:blue\">During a given 3-day period, 700 birds are captrued each day. What is the probability that on each of the 3 days at most 10 birds will survive?</h4>"
   ]
  },
  {
   "cell_type": "markdown",
   "metadata": {},
   "source": [
    "<ul>\n",
    "    <li>For this question, we need to change the setting of the original binomial.</li>\n",
    "    <li>$X \\sim Binomial(n=3 \\times 700, p=0.02)= Binomial(n=2100, p=0.02)$</li>\n",
    "    <li>$\\mu=np=42$</li>\n",
    "    <li>This problem is still to ask $P(X \\leq 10)$</li>\n",
    "    <li>By Poisson distribution, $P(Y \\leq 10)=\\sum_{k=0}^{10}P(Y =k)=\\sum_{k=0}^{10}\\frac{e^{-np}(np)^k}{k!}$</li>\n",
    "    <li>$ \\sum_{k=0}^{10}\\frac{e^{-42}(42)^k}{k!}= e^{-42}[\\frac{(42)^0}{0!}+\\frac{(42)^1}{1!}+\\cdots+\\frac{(42)^{10}}{10!}] \\approx 0$</li>\n",
    "    <li style=\"color:red\"> the probability that on each of the 3 days at most 10 birds will survive is $0$</li>\n",
    "</ul>"
   ]
  },
  {
   "cell_type": "markdown",
   "metadata": {},
   "source": [
    "<h2 style=\"color:blue\">Q4: Adult females of howler monkeys</h2>"
   ]
  },
  {
   "cell_type": "markdown",
   "metadata": {},
   "source": [
    "<h4 style=\"color:blue\">(a)-(i) Find $P(X \\leq 3)$</h4>"
   ]
  },
  {
   "cell_type": "markdown",
   "metadata": {},
   "source": [
    "<ul>\n",
    "    <li style=\"color:red\">$P(X \\leq 3) = P(1)+P(2)+P(3)=0.1+0.15+0.5=0.75$</li>\n",
    "</ul>"
   ]
  },
  {
   "cell_type": "markdown",
   "metadata": {},
   "source": [
    "<h4 style=\"color:blue\">(a)-(ii) Find $P(X > 1)$</h4>"
   ]
  },
  {
   "cell_type": "markdown",
   "metadata": {},
   "source": [
    "<ul>\n",
    "    <li style=\"color:red\">$P(X > 1) = 1 - P(1) =1-0.1=0.9$</li>\n",
    "</ul>"
   ]
  },
  {
   "cell_type": "markdown",
   "metadata": {},
   "source": [
    "<h4 style=\"color:blue\">(a)-(iii) Find $P(2 \\leq X \\leq 4)$</h4>"
   ]
  },
  {
   "cell_type": "markdown",
   "metadata": {},
   "source": [
    "<ul>\n",
    "    <li style=\"color:red\">$P(2 \\leq X \\leq 4) = P(2) +  P(3) +  P(4) =0.15+0.5+0.15=0.8$</li>\n",
    "</ul>"
   ]
  },
  {
   "cell_type": "markdown",
   "metadata": {},
   "source": [
    "<h4 style=\"color:blue\">(b) Find the average number of adult females per band</h4>"
   ]
  },
  {
   "cell_type": "markdown",
   "metadata": {},
   "source": [
    "<ul>\n",
    "    <li>$\\mu=E(X)=\\sum_{\\forall x}x P(X=x)$</li>\n",
    "    <li>$\\mu=1 \\times 0.1 + 2 \\times 0.15 + 3 \\times 0.5 + 4 \\times 0.15 + 5 \\times 0.1=3$</li>\n",
    "    <li style=\"color:red\">The average number is 3</li>\n",
    "</ul>"
   ]
  },
  {
   "cell_type": "markdown",
   "metadata": {},
   "source": [
    "<h4 style=\"color:blue\">(c) Find $\\sigma^2$</h4>"
   ]
  },
  {
   "cell_type": "markdown",
   "metadata": {},
   "source": [
    "<ul>\n",
    "    <li>$\\sigma^2=Var(X)=E[(X-\\mu)^2]=\\sum_{\\forall x}(x-\\mu)^2 P(X=x)$</li>\n",
    "    <li>$\\sigma^2=(1-3)^2 \\times 0.1 + (2-3)^2 \\times 0.15 + (3-3)^2 \\times 0.5 + (4-3)^2 \\times 0.15 + (5-3)^2 \\times 0.1=1.1$</li>\n",
    "    <li style=\"color:red\">$\\sigma^2$ is 1.1</li>\n",
    "</ul>"
   ]
  },
  {
   "cell_type": "markdown",
   "metadata": {},
   "source": [
    "<h4 style=\"color:blue\">(d) Find $E(e^x)$</h4>"
   ]
  },
  {
   "cell_type": "markdown",
   "metadata": {},
   "source": [
    "<ul>\n",
    "    <li>$E(e^x)=\\sum_{\\forall x}e^x P(X=x)$</li>\n",
    "    <li>$E(e^x)= e^1 \\times 0.1 + e^2 \\times 0.15 + e^3 \\times 0.5 + e^4 \\times 0.15 + e^5 \\times 0.1=34.454$</li>\n",
    "    <li style=\"color:red\">$E(e^x)$ is 34.454</li>\n",
    "</ul>"
   ]
  },
  {
   "cell_type": "markdown",
   "metadata": {},
   "source": [
    "<h4 style=\"color:blue\">(e) Find $E(\\sqrt{x})$</h4>"
   ]
  },
  {
   "cell_type": "markdown",
   "metadata": {},
   "source": [
    "<ul>\n",
    "    <li>$E(\\sqrt{x})=\\sum_{\\forall x}\\sqrt{x}P(X=x)$</li>\n",
    "    <li>$E(\\sqrt{x})= \\sqrt{1} \\times 0.1 + \\sqrt{2} \\times 0.15 + \\sqrt{3} \\times 0.5 + \\sqrt{4} \\times 0.15 + \\sqrt{5} \\times 0.1=1.702$</li>\n",
    "    <li style=\"color:red\">$E(\\sqrt{x})$ is 1.702</li>\n",
    "</ul>"
   ]
  },
  {
   "cell_type": "code",
   "execution_count": null,
   "metadata": {},
   "outputs": [],
   "source": []
  }
 ],
 "metadata": {
  "kernelspec": {
   "display_name": "Python 3",
   "language": "python",
   "name": "python3"
  },
  "language_info": {
   "codemirror_mode": {
    "name": "ipython",
    "version": 3
   },
   "file_extension": ".py",
   "mimetype": "text/x-python",
   "name": "python",
   "nbconvert_exporter": "python",
   "pygments_lexer": "ipython3",
   "version": "3.8.5"
  }
 },
 "nbformat": 4,
 "nbformat_minor": 4
}
