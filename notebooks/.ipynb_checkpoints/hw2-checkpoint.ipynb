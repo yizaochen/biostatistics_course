{
 "cells": [
  {
   "cell_type": "code",
   "execution_count": 8,
   "metadata": {},
   "outputs": [],
   "source": [
    "from matplotlib import pyplot as plt\n",
    "from matplotlib_venn import venn2, venn2_circles"
   ]
  },
  {
   "cell_type": "markdown",
   "metadata": {},
   "source": [
    "<h2 style=\"color:blue\">Question 2: Getting into college</h2>"
   ]
  },
  {
   "cell_type": "code",
   "execution_count": 11,
   "metadata": {},
   "outputs": [
    {
     "data": {
      "image/png": "[encoded data removed]",
      "text/plain": [
       "<Figure size 432x288 with 1 Axes>"
      ]
     },
     "metadata": {},
     "output_type": "display_data"
    }
   ],
   "source": [
    "venn2(subsets = (0.4, 0.5, 0.2), set_labels = ('Princeton', 'Stanford'))\n",
    "venn2_circles(subsets = (0.4, 0.5, 0.2));\n",
    "plt.savefig('hw2_q1.svg')\n",
    "plt.show()"
   ]
  },
  {
   "cell_type": "markdown",
   "metadata": {},
   "source": [
    "<h2 style=\"color:blue\">Question 2: Skin and Earlobes</h2>"
   ]
  },
  {
   "cell_type": "code",
   "execution_count": 43,
   "metadata": {},
   "outputs": [
    {
     "data": {
      "text/plain": [
       "[4, 3, 2, 1]"
      ]
     },
     "execution_count": 43,
     "metadata": {},
     "output_type": "execute_result"
    }
   ],
   "source": [
    "list(range(4,0,-1))"
   ]
  },
  {
   "cell_type": "code",
   "execution_count": 44,
   "metadata": {},
   "outputs": [
    {
     "ename": "SyntaxError",
     "evalue": "invalid syntax (<ipython-input-44-7fccdef9a69d>, line 7)",
     "output_type": "error",
     "traceback": [
      "\u001b[0;36m  File \u001b[0;32m\"<ipython-input-44-7fccdef9a69d>\"\u001b[0;36m, line \u001b[0;32m7\u001b[0m\n\u001b[0;31m    y_diff = {1: , 2: 0.8, 3: 2, 4: 1}\u001b[0m\n\u001b[0m                 ^\u001b[0m\n\u001b[0;31mSyntaxError\u001b[0m\u001b[0;31m:\u001b[0m invalid syntax\n"
     ]
    }
   ],
   "source": [
    "class Point:\n",
    "    def __init__(self, x, y):\n",
    "        self.x = x\n",
    "        self.y = y\n",
    "    \n",
    "class Tree:\n",
    "    y_diff = {1: , 2: 0.8, 3: 2, 4: 1}\n",
    "    \n",
    "    def __init__(self, level_begin, level_end):\n",
    "        self.level_begin = level_begin\n",
    "        self.level_end = level_end\n",
    "        \n",
    "        self.result = self.create_container()\n",
    "        \n",
    "    def create_container(self):\n",
    "        d_result = dict()\n",
    "        for i in range(self.level_begin, self.level_end+1):\n",
    "            d_result[i] = list()\n",
    "        return d_result\n",
    "    \n",
    "    def make_level_end(self):\n",
    "        n_point = 2 ** self.level_end\n",
    "        for y in range(1, n_point+1):\n",
    "            p = Point(level, y)\n",
    "            self.result[self.level_end].append(p)\n",
    "    \n",
    "    def process_data(self):\n",
    "        for level in range(self.level_end, self.level_begin, -1):\n",
    "            self.make_data(level)\n",
    "            \n",
    "    def make_data(self, level):\n",
    "        n_point = 2 ** level\n",
    "        data_prev = self.result[level+1]\n",
    "        for idx in range(n_point):\n",
    "            y_down = data_prev[idx * 2].y\n",
    "            y_up = data_prev[idx*2+1].y\n",
    "            p = Point(level, (y_down+y_up)/2)\n",
    "            self.result[level].append(p)\n",
    "            \n",
    "    def get_xlist_ylist_for_level(self, level):\n",
    "        data = self.result[level]\n",
    "        xlist = list()\n",
    "        ylist = list()\n",
    "        for p in data:\n",
    "            xlist.append(p.x)\n",
    "            ylist.append(p.y)\n",
    "        return xlist, ylist\n",
    "\n",
    "def scatter_xy(ax, xlist, ylist):\n",
    "    ax.scatter(xlist, ylist)"
   ]
  },
  {
   "cell_type": "code",
   "execution_count": 38,
   "metadata": {},
   "outputs": [],
   "source": [
    "# Initial variables\n",
    "level_begin = 0\n",
    "level_end = 4\n",
    "intial_y = 0\n",
    "\n",
    "# initialize container\n",
    "tree = Tree(level_begin, level_end, 0)\n",
    "tree.make_level_0()\n",
    "tree.process_data()"
   ]
  },
  {
   "cell_type": "code",
   "execution_count": 39,
   "metadata": {},
   "outputs": [
    {
     "data": {
      "image/png": "[encoded data removed]",
      "text/plain": [
       "<Figure size 576x288 with 1 Axes>"
      ]
     },
     "metadata": {
      "needs_background": "light"
     },
     "output_type": "display_data"
    }
   ],
   "source": [
    "fig, ax = plt.subplots(ncols=1, nrows=1, figsize=(8,4))\n",
    "\n",
    "for level in range(level_begin, level_end+1):\n",
    "    xlist, ylist = tree.get_xlist_ylist_for_level(level)\n",
    "    scatter_xy(ax, xlist, ylist)\n",
    "plt.show()"
   ]
  },
  {
   "cell_type": "code",
   "execution_count": null,
   "metadata": {},
   "outputs": [],
   "source": []
  }
 ],
 "metadata": {
  "kernelspec": {
   "display_name": "Python 3",
   "language": "python",
   "name": "python3"
  },
  "language_info": {
   "codemirror_mode": {
    "name": "ipython",
    "version": 3
   },
   "file_extension": ".py",
   "mimetype": "text/x-python",
   "name": "python",
   "nbconvert_exporter": "python",
   "pygments_lexer": "ipython3",
   "version": "3.8.5"
  }
 },
 "nbformat": 4,
 "nbformat_minor": 4
}
