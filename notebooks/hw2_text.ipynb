{
 "cells": [
  {
   "cell_type": "markdown",
   "metadata": {},
   "source": [
    "<h2 style=\"color:blue\">Question 1: Getting into college</h2>\n",
    "\n",
    "We define two events A and B\n",
    "<ul>\n",
    "    <li>A = admitted by Princeton</li>\n",
    "    <li>B = admitted by Stanford</li>\n",
    "</ul>\n",
    "Therefore\n",
    "<ul>\n",
    "    <li>$P(\\mathrm{A})=0.4$</li>\n",
    "    <li>$P(\\mathrm{B})=0.5$</li>\n",
    "    <li>$P(\\mathrm{A}\\cap \\mathrm{B})=0.2$</li>\n",
    "</ul>"
   ]
  },
  {
   "cell_type": "markdown",
   "metadata": {},
   "source": [
    "<h4 style=\"color:blue\">(a) Make a Venn diagram with the probabilities given marked</h4>"
   ]
  },
  {
   "cell_type": "markdown",
   "metadata": {},
   "source": [
    "<img src=\"./hw2_images/hw2_q1_drawing.svg\" alt=\"None\">"
   ]
  },
  {
   "cell_type": "markdown",
   "metadata": {},
   "source": [
    "<h4 style=\"color:blue\">(b) What is the probability that neither university admits Ramon?</h4>"
   ]
  },
  {
   "cell_type": "markdown",
   "metadata": {},
   "source": [
    "From the Venn diagram, we know  \n",
    "<ul>\n",
    "    <li>$\\mathrm{A}\\cup \\mathrm{B}$ = At least one of university accepts him</li>\n",
    "    <li>$P(\\mathrm{A}\\cup \\mathrm{B})=P(\\mathrm{A})+P(\\mathrm{B})-P(\\mathrm{A}\\cap \\mathrm{B})=0.4+0.5-0.2=0.7$</li>\n",
    "</ul>  \n",
    "Therefore, the probability that neither university admits him is\n",
    "<ul>\n",
    "    <li style=\"color:red\">$1 - P(\\mathrm{A}\\cup \\mathrm{B}) = 1 - 0.7 = 0.3$</li>\n",
    "</ul>"
   ]
  },
  {
   "cell_type": "markdown",
   "metadata": {},
   "source": [
    "<h4 style=\"color:blue\">(c) What is the probability that he gets into Stanford but not Princeton?</h4>\n",
    "The answer is\n",
    "<ul>\n",
    "    <li style=\"color:red\">$P(\\mathrm{B}) - P(\\mathrm{A}\\cap \\mathrm{B}) = 0.5 - 0.2 = 0.3$</li>\n",
    "</ul>"
   ]
  },
  {
   "cell_type": "markdown",
   "metadata": {},
   "source": [
    "<h2 style=\"color:blue\">Question 2: Skin and Earlobes</h2>"
   ]
  },
  {
   "cell_type": "markdown",
   "metadata": {},
   "source": [
    "<h4 style=\"color:blue\">(a) Draw the tree to represent the possible outcomes for the offspring.</h4>"
   ]
  },
  {
   "cell_type": "markdown",
   "metadata": {},
   "source": [
    "<img src=\"./hw2_images/hw2_q2_tree.svg\" alt=\"None\">"
   ]
  },
  {
   "cell_type": "markdown",
   "metadata": {},
   "source": [
    "<h4 style=\"color:blue\">(b) Use the tree to find the probability that</h4>"
   ]
  },
  {
   "cell_type": "markdown",
   "metadata": {},
   "source": [
    "As you can see, there are 16 possibilities totally."
   ]
  },
  {
   "cell_type": "markdown",
   "metadata": {},
   "source": [
    "<h5 style=\"color:blue\">i. The child will be albino with attached earlobes</h5>\n",
    "<ul>\n",
    "    <li style=\"color:red\">$P=\\frac{1}{16}$</li>\n",
    "</ul>"
   ]
  },
  {
   "cell_type": "markdown",
   "metadata": {},
   "source": [
    "<h5 style=\"color:blue\">ii. The child will have normal skin and free earlobes</h5>\n",
    "<ul>\n",
    "    <li style=\"color:red\">$P=\\frac{9}{16}$</li>\n",
    "</ul>"
   ]
  },
  {
   "cell_type": "markdown",
   "metadata": {},
   "source": [
    "<h5 style=\"color:blue\">iii. The child will be albino</h5>\n",
    "<ul>\n",
    "    <li style=\"color:red\">$P=\\frac{4}{16}=\\frac{1}{4}$</li>\n",
    "</ul>"
   ]
  },
  {
   "cell_type": "markdown",
   "metadata": {},
   "source": [
    "<h5 style=\"color:blue\">iv. The child will have free earlobes</h5>\n",
    "<ul>\n",
    "    <li style=\"color:red\">$P=\\frac{12}{16}=\\frac{3}{4}$</li>\n",
    "</ul>"
   ]
  },
  {
   "cell_type": "markdown",
   "metadata": {},
   "source": [
    "<h2 style=\"color:blue\">Question 3: Pea plant</h2>"
   ]
  },
  {
   "cell_type": "markdown",
   "metadata": {},
   "source": [
    "<h4 style=\"color:blue\">(a) Describe each of the parent plants relative to the three characteristics mentioned</h4>"
   ]
  },
  {
   "cell_type": "markdown",
   "metadata": {},
   "source": [
    "<ul>\n",
    "    <li style=\"color:red\">TTYYWw: Tall, yellow and round seeds</li>\n",
    "    <li style=\"color:red\">TtYyWw: Tall, yellow and round seeds</li>\n",
    "</ul>"
   ]
  },
  {
   "cell_type": "markdown",
   "metadata": {},
   "source": [
    "<h4 style=\"color:blue\">(b) Draw a tree to represent the possible ways in which the cross-match can occur</h4>\n",
    "<h4 style=\"color:blue\">(c) Describe the plant associated with each path through the tree</h4>"
   ]
  },
  {
   "cell_type": "markdown",
   "metadata": {},
   "source": [
    "<img src=\"./hw2_images/hw2_q3_tree.svg\" alt=\"None\">"
   ]
  },
  {
   "cell_type": "markdown",
   "metadata": {},
   "source": [
    "<h4 style=\"color:blue\">(d) Use the tree to find the probability that the cross-match will result in a tall pea plant.</h4>\n",
    "All pea plants are tall.\n",
    "<ul>\n",
    "    <li style=\"color:red\">$P=1$</li>\n",
    "</ul>"
   ]
  },
  {
   "cell_type": "markdown",
   "metadata": {},
   "source": [
    "<h4 style=\"color:blue\">(e) What is the probability that the cross-match will result in a tall, yellow, wrinkled pea plant?</h4>\n",
    "<ul>\n",
    "    <li style=\"color:red\">$P=\\frac{4}{16} = \\frac{1}{4}$</li>\n",
    "</ul>"
   ]
  },
  {
   "cell_type": "markdown",
   "metadata": {},
   "source": [
    "<h4 style=\"color:blue\">(e) What is the probability that the cross-match will produce a green pea plant?</h4>\n",
    "There will no green plant.\n",
    "<ul>\n",
    "    <li style=\"color:red\">$P=0$</li>\n",
    "</ul>"
   ]
  },
  {
   "cell_type": "markdown",
   "metadata": {},
   "source": [
    "<h2 style=\"color:blue\">Question 4: Preparing for the GMAT.</h2>"
   ]
  },
  {
   "cell_type": "markdown",
   "metadata": {},
   "source": [
    "The tree diagram is\n",
    "<img src=\"./hw2_images/hw2_q4_template.svg\" alt=\"None\">"
   ]
  },
  {
   "cell_type": "markdown",
   "metadata": {},
   "source": [
    "As you can see in the above diagram, $P(\\mathrm{GMAT}>=600)=0.2+0.42=0.62$\n",
    "<ul>\n",
    "    <li style=\"color:red\">Therefore, 62% of all customers score at least 600 on the GMAT.</li>\n",
    "</ul>"
   ]
  },
  {
   "cell_type": "markdown",
   "metadata": {},
   "source": [
    "<h2 style=\"color:blue\">Question 5: Screening job applicants.</h2>"
   ]
  },
  {
   "cell_type": "markdown",
   "metadata": {},
   "source": [
    "Venn diagram as the following:\n",
    "<ul>\n",
    "    <li>A is green.</li>\n",
    "    <li>B is blue.</li>\n",
    "    <li>C is red.</li>\n",
    "    <li>D is the inner white rectangle.</li>\n",
    "    <li style=\"color:red\">$P(D)=P(A~and~D)+P(B~and~D)+P(C~and~D)=0.4$</li>\n",
    "</ul>\n",
    "<img src=\"./hw2_images/hw2_q5.svg\" width=\"500\" height=\"500\" alt=\"None\">"
   ]
  },
  {
   "cell_type": "markdown",
   "metadata": {},
   "source": [
    "<h2 style=\"color:blue\">Question 6: Randomized response method of getting honest anwers to sensitive questions</h2>"
   ]
  },
  {
   "cell_type": "markdown",
   "metadata": {},
   "source": [
    "<h4 style=\"color:blue\">(a) Use the fact that the event \"answer yes\" is the event \"anser yes and answered A\" or \"answer yes and answered B\" to show that $P[\\mathrm{answer~yes} | \\mathrm{answered~B}]$ equals $\\frac{P[\\mathrm{answer~yes}]-P[\\mathrm{answer~yes}|\\mathrm{answered}~A]P[\\mathrm{answered~A}]}{P[\\mathrm{answered~B}]}$</h4>"
   ]
  },
  {
   "cell_type": "markdown",
   "metadata": {},
   "source": [
    "<img src=\"./hw2_images/hw2_q6.svg\" alt=\"None\">"
   ]
  },
  {
   "cell_type": "markdown",
   "metadata": {},
   "source": [
    "<ol>\n",
    "<li>According to the general multiplication rule: $P(A~and~B)=P(A)P(B|A)$, we get $P(B|A)=\\frac{P(A~and~B)}{P(A)}$. Therefore, we want to find\n",
    "\n",
    "<ul>\n",
    "    <li>$P[\\mathrm{answer~yes} | \\mathrm{answered~B}] = \\frac{P[\\mathrm{answer~yes}~and~\\mathrm{answered~B}]}{P[\\mathrm{answered~B}]}$</li>\n",
    "</ul>\n",
    "</li>\n",
    "    \n",
    "<li>\n",
    "We also know that $P[\\mathrm{answer~yes}]= P[\\mathrm{answer~yes}~and~\\mathrm{answered~A}] + P[\\mathrm{answer~yes}~and~\\mathrm{answered~B}]$, so\n",
    "    <ul>\n",
    "        <li>$P[\\mathrm{answer~yes}~and~\\mathrm{answered~B}]=P[\\mathrm{answer~yes}]-P[\\mathrm{answer~yes}~and~\\mathrm{answered~A}]$</li>\n",
    "    </ul>\n",
    "</li>\n",
    "    \n",
    "<li>\n",
    "    By using the general multiplication rule again,\n",
    "    <ul>\n",
    "        <li>$P[\\mathrm{answer~yes}~and~\\mathrm{answered~A}]=P[\\mathrm{answer~yes}|\\mathrm{answered}~A]P[\\mathrm{answered~A}]$</li>\n",
    "    </ul>\n",
    "</li>\n",
    "    \n",
    "<li>\n",
    "    Substitute (4) into (3), we get\n",
    "    <ul>\n",
    "        <li>$P[\\mathrm{answer~yes}~and~\\mathrm{answered~B}]=P[\\mathrm{answer~yes}]-P[\\mathrm{answer~yes}|\\mathrm{answered}~A]P[\\mathrm{answered~A}]$</li>\n",
    "    </ul>\n",
    "</li>\n",
    "    \n",
    "<li>\n",
    "    Substitute (5) into (1), we finally get\n",
    "    <ul>\n",
    "        <li>$P[\\mathrm{answer~yes} | \\mathrm{answered~B}] = \\frac{P[\\mathrm{answer~yes}]-P[\\mathrm{answer~yes}|\\mathrm{answered}~A]P[\\mathrm{answered~A}]}{P[\\mathrm{answered~B}]}$</li>\n",
    "    </ul>\n",
    "</li>\n",
    "\n",
    "</ol>"
   ]
  },
  {
   "cell_type": "markdown",
   "metadata": {},
   "source": [
    "<h4 style=\"color:blue\">(b) If this technique is tried on 100 subjects and 60 answered yes, find the approximate probability that a person randomly selected from the group has intentionally filed a fraudulent claim.</h4>"
   ]
  },
  {
   "cell_type": "markdown",
   "metadata": {},
   "source": [
    "<ol>\n",
    "    <li>This question is to ask $P[\\mathrm{answer~yes} | \\mathrm{answered~B}]$</li>\n",
    "    <li>We already know that $P[\\mathrm{answer~yes}|\\mathrm{answered}~A]=0.5$</li>\n",
    "    <li>From flipping coin, we know $P[\\mathrm{answered~A}]=0.5$ and $P[\\mathrm{answered~B}]=0.5$</li>\n",
    "    <li>From the description in (b), we know that $P[\\mathrm{answer~yes}]=\\frac{60}{100}=0.6$</li>\n",
    "    <li>Therefore, $P[\\mathrm{answer~yes} | \\mathrm{answered~B}] = \\frac{P[\\mathrm{answer~yes}]-P[\\mathrm{answer~yes}|\\mathrm{answered}~A]P[\\mathrm{answered~A}]}{P[\\mathrm{answered~B}]} = \\frac{0.6-0.5\\times 0.5}{0.5}=\\frac{0.6-0.25}{0.5}=0.7$</li>\n",
    "    <li style=\"color:red\">The probability that a person randomly selected from the group has intentionally filed a fraudulent claim is 0.7</li>\n",
    "</ol>"
   ]
  }
 ],
 "metadata": {
  "kernelspec": {
   "display_name": "Python 3",
   "language": "python",
   "name": "python3"
  },
  "language_info": {
   "codemirror_mode": {
    "name": "ipython",
    "version": 3
   },
   "file_extension": ".py",
   "mimetype": "text/x-python",
   "name": "python",
   "nbconvert_exporter": "python",
   "pygments_lexer": "ipython3",
   "version": "3.8.5"
  }
 },
 "nbformat": 4,
 "nbformat_minor": 4
}
