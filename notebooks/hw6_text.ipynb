{
 "cells": [
  {
   "cell_type": "markdown",
   "metadata": {},
   "source": [
    "<h2 style=\"color:blue\">Q1:  Making auto parts</h2>"
   ]
  },
  {
   "cell_type": "markdown",
   "metadata": {},
   "source": [
    "The population distribution:\n",
    "<ul>\n",
    "    <li>$\\mu=40.125$</li>\n",
    "    <li>$\\sigma=0.002$</li>\n",
    "</ul>  \n",
    "\n",
    "We are trying to find the mean and standard deviation of the sample mean, $\\bar{X}$(size $n=4$). And we know the properties of the sample mean\n",
    "<ul>\n",
    "    <li>$E(\\bar{X})=\\mu=40.125$</li>\n",
    "    <li>$Var(\\bar{X})=\\frac{\\sigma^2}{n}=\\frac{0.002^2}{4}=10^{-6}$</li>\n",
    "</ul>\n",
    "Therefore\n",
    "<ul>\n",
    "    <li style=\"color:red\">The mean of the numbers recorded is 40.125</li>\n",
    "    <li style=\"color:red\">The standard deviation of the numbers recorded is 0.001</li>\n",
    "</ul>"
   ]
  },
  {
   "cell_type": "markdown",
   "metadata": {},
   "source": [
    "<h2 style=\"color:blue\">Q2: Dust in coal mines</h2>"
   ]
  },
  {
   "cell_type": "markdown",
   "metadata": {},
   "source": [
    "The population distribution is\n",
    "\\begin{equation}\n",
    "N(\\mu=123, \\sigma=0.08)\n",
    "\\end{equation}"
   ]
  },
  {
   "cell_type": "markdown",
   "metadata": {},
   "source": [
    "<h4 style=\"color:blue\">(a) The laboratory reports the mean of 3 weighings. What is the distribution of this mean?</h4>"
   ]
  },
  {
   "cell_type": "markdown",
   "metadata": {},
   "source": [
    "If individual observations have the $N(\\mu, \\sigma)$ dsitribution, then the sample mean $\\bar{x}$ of an SRS of size $n$ has the $N(\\mu, \\frac{\\sigma}{\\sqrt{n}})$ distribution."
   ]
  },
  {
   "cell_type": "markdown",
   "metadata": {},
   "source": [
    "<p style=\"color:red\">\n",
    "Therefore, the distribution of this mean is $N(123, \\frac{0.08}{\\sqrt{3}})$\n",
    "</p>\n",
    "<img src=\"./hw6_images/Q2_a.png\" width=\"500\" alt=\"None\">"
   ]
  },
  {
   "cell_type": "markdown",
   "metadata": {},
   "source": [
    "<h4 style=\"color:blue\">(b) What is the probability that the laboratory reports a weight of 124 mg or higher for this filter?</h4>"
   ]
  },
  {
   "cell_type": "markdown",
   "metadata": {},
   "source": [
    "We need to standardize first\n",
    "\\begin{equation}\n",
    "\\bar{x} = 124\n",
    "\\end{equation}\n",
    "\n",
    "\\begin{equation}\n",
    "z = \\frac{\\bar{x}-\\mu}{\\sigma} = \\frac{124-123}{0.08/\\sqrt{3}} = 21.65\n",
    "\\end{equation}\n",
    "\n",
    "As you can see, $z$ value is sky high!! So\n",
    "\\begin{equation}\n",
    "P(Z \\geq 21.65)\\approx 0 \n",
    "\\end{equation}\n",
    "\n",
    "<p style=\"color:red\">\n",
    "Therefore, the probability that the laboratory reports a weight of 124 mg or higher for this filter is 0.\n",
    "</p>"
   ]
  },
  {
   "cell_type": "markdown",
   "metadata": {},
   "source": [
    "<h2 style=\"color:blue\">Q3: Pollutants in auto exhausts.</h2>"
   ]
  },
  {
   "cell_type": "markdown",
   "metadata": {},
   "source": [
    "The population distribution with\n",
    "\\begin{equation}\n",
    "\\mu=0.9~ ~ \\sigma=0.15\n",
    "\\end{equation}"
   ]
  },
  {
   "cell_type": "markdown",
   "metadata": {},
   "source": [
    "<h4 style=\"color:blue\">(a) What is the approximate distribution of the mean NOX emission level $\\bar{x}$ for these cars?</h4>"
   ]
  },
  {
   "cell_type": "markdown",
   "metadata": {},
   "source": [
    "#### The central limit theorem:\n",
    "Draw an SRS of size $n$ from any population with mean $\\mu$ and finite standard deviation $\\sigma$. When $n$ is large, the sampling distribution of the sample mean $\\bar{x}$ is approximately Normal:\n",
    "\\begin{equation}\n",
    "\\bar{x}\\mathrm{~ ~is~ ~approximately~ ~}N(\\mu,\\frac{\\sigma}{\\sqrt{n}})\n",
    "\\end{equation}"
   ]
  },
  {
   "cell_type": "markdown",
   "metadata": {},
   "source": [
    "Now\n",
    "\\begin{equation}\n",
    "n=125\n",
    "\\end{equation}\n",
    "and it is large enough to apply the central limit theorem"
   ]
  },
  {
   "cell_type": "markdown",
   "metadata": {},
   "source": [
    "<p style=\"color:red\">\n",
    "Therefore, the approximate distribution of the mean NOX emission level $\\bar{x}$ for these cars is\n",
    "\\begin{equation}\n",
    "    N(\\mu=0.9, \\sigma=\\frac{0.15}{\\sqrt{125}}) = N(\\mu=0.9, \\sigma=0.0134)\n",
    "\\end{equation}\n",
    "</p>\n",
    "<img src=\"./hw6_images/Q3_a.png\" width=\"500\" alt=\"None\">"
   ]
  },
  {
   "cell_type": "markdown",
   "metadata": {},
   "source": [
    "<h4 style=\"color:blue\">(b) What is the level $L$ such that the probability that $\\bar{x}$ is greater than $L$ is only 0.01?</h4>"
   ]
  },
  {
   "cell_type": "markdown",
   "metadata": {},
   "source": [
    "We start from the standard Normal, and trying to find $z'$\n",
    "\\begin{equation}\n",
    "P(z \\leq z') = 1 - 0.01 = 0.99\n",
    "\\end{equation}"
   ]
  },
  {
   "cell_type": "markdown",
   "metadata": {},
   "source": [
    "From the Z-table, we get\n",
    "\\begin{equation}\n",
    "P(z \\leq 2.33) = 0.9901\n",
    "\\end{equation}\n",
    "So, we can say\n",
    "\\begin{equation}\n",
    "z' \\approx 2.33\n",
    "\\end{equation}"
   ]
  },
  {
   "cell_type": "markdown",
   "metadata": {},
   "source": [
    "Then, we need to unstandardize\n",
    "\\begin{equation}\n",
    "\\frac{L-0.9}{0.0134} = 2.33\n",
    "\\end{equation}"
   ]
  },
  {
   "cell_type": "markdown",
   "metadata": {},
   "source": [
    "<p style=\"color:red\">\n",
    "\\begin{equation}\n",
    "    L = 0.9312\n",
    "\\end{equation}\n",
    "</p>"
   ]
  },
  {
   "cell_type": "markdown",
   "metadata": {},
   "source": [
    "<h2 style=\"color:blue\">Q4: How many people in a car?</h2>"
   ]
  },
  {
   "cell_type": "markdown",
   "metadata": {},
   "source": [
    "The population distribution with\n",
    "\\begin{equation}\n",
    "\\mu=1.5~ ~ \\sigma=0.75\n",
    "\\end{equation}"
   ]
  },
  {
   "cell_type": "markdown",
   "metadata": {},
   "source": [
    "<h4 style=\"color:blue\">(a) Could the exact distribution of the count be Normal? Why or why not?</h4>"
   ]
  },
  {
   "cell_type": "markdown",
   "metadata": {},
   "source": [
    "<p style=\"color:red\">\n",
    "The exact distribution could be Normal or \"any\" distribution. We do not have the information about the population distribution except the mean and standard deviation.\n",
    "</p>"
   ]
  },
  {
   "cell_type": "markdown",
   "metadata": {},
   "source": [
    "<h4 style=\"color:blue\">(b) Traffic engineers estimate that the capacity of the interchange is 700 cars per hour. According to the central limit theorem, what is the approximate distribution of the mean number of persons $\\bar{x}$ in 700 randomly selected cars at this interchagne?</h4>"
   ]
  },
  {
   "cell_type": "markdown",
   "metadata": {},
   "source": [
    "#### The central limit theorem:\n",
    "Draw an SRS of size $n$ from any population with mean $\\mu$ and finite standard deviation $\\sigma$. When $n$ is large, the sampling distribution of the sample mean $\\bar{x}$ is approximately Normal:\n",
    "\\begin{equation}\n",
    "\\bar{x}\\mathrm{~ ~is~ ~approximately~ ~}N(\\mu,\\frac{\\sigma}{\\sqrt{n}})\n",
    "\\end{equation}"
   ]
  },
  {
   "cell_type": "markdown",
   "metadata": {},
   "source": [
    "Now\n",
    "\\begin{equation}\n",
    "n=700\n",
    "\\end{equation}\n",
    "and it is large enough to apply the central limit theorem"
   ]
  },
  {
   "cell_type": "markdown",
   "metadata": {},
   "source": [
    "<p style=\"color:red\">\n",
    "Therefore, the approximate distribution of the mean number of persons $\\bar{x}$ in 700 randomly selected cars at this interchagne is\n",
    "\\begin{equation}\n",
    "    N(\\mu=1.5, \\sigma=\\frac{0.75}{\\sqrt{700}}) = N(\\mu=1.5, \\sigma=0.0283)\n",
    "\\end{equation}\n",
    "</p>\n",
    "<img src=\"./hw6_images/Q4_a.png\" width=\"500\" alt=\"None\">"
   ]
  },
  {
   "cell_type": "markdown",
   "metadata": {},
   "source": [
    "<h4 style=\"color:blue\">(c) What is the probability that 700 cars will carry more than 1075 people?</h4>"
   ]
  },
  {
   "cell_type": "markdown",
   "metadata": {},
   "source": [
    "700 cars carry more than 1075 people, it is equivalent to\n",
    "\\begin{equation}\n",
    "\\bar{x} = \\frac{1075}{700} = 1.536\n",
    "\\end{equation}"
   ]
  },
  {
   "cell_type": "markdown",
   "metadata": {},
   "source": [
    "Therefore, this question is to ask\n",
    "\\begin{equation}\n",
    "P(\\bar{x}>1.536)\n",
    "\\end{equation}"
   ]
  },
  {
   "cell_type": "markdown",
   "metadata": {},
   "source": [
    "In order to use the Z-table, we need to standardize\n",
    "\\begin{equation}\n",
    "z' = \\frac{1.536 - 1.5}{0.0283} = 1.27\n",
    "\\end{equation}"
   ]
  },
  {
   "cell_type": "markdown",
   "metadata": {},
   "source": [
    "From the Z-table, we get\n",
    "\\begin{equation}\n",
    "P(z>1.27) = 1 - P(z \\leq 1.27) = 1 - 0.8980 =  0.102\n",
    "\\end{equation}"
   ]
  },
  {
   "cell_type": "markdown",
   "metadata": {},
   "source": [
    "<p style=\"color:red\">\n",
    "Therefore, the probability that 700 cars will carry more than 1075 people is 0.102\n",
    "</p>"
   ]
  },
  {
   "cell_type": "markdown",
   "metadata": {},
   "source": [
    "<h2 style=\"color:blue\">Q5: Random-digit dialing</h2>"
   ]
  },
  {
   "cell_type": "markdown",
   "metadata": {},
   "source": [
    "\\begin{equation}\n",
    "X \\sim Binomial(n=15,p=0.2)\n",
    "\\end{equation}"
   ]
  },
  {
   "cell_type": "markdown",
   "metadata": {},
   "source": [
    "<h4 style=\"color:blue\">(a) What is the probability that exactly 3 calls reach a person?</h4>"
   ]
  },
  {
   "cell_type": "markdown",
   "metadata": {},
   "source": [
    "This question is trying to find\n",
    "\\begin{align*}\n",
    "P(X=3)&={15 \\choose 3} 0.2^{3}(1-0.2)^{15-3}\\\\\n",
    "&= \\frac{15!}{3!12!}(8\\times 10^{-3})(0.0687)\\\\\n",
    "&=455\\times 0.5496 \\times 10^{-3} \\\\\n",
    "&=0.25\n",
    "\\end{align*}"
   ]
  },
  {
   "cell_type": "markdown",
   "metadata": {},
   "source": [
    "<p style=\"color:red\">\n",
    "Therefore, the probability that exactly 3 calls reach a person is 0.25\n",
    "</p>"
   ]
  },
  {
   "cell_type": "markdown",
   "metadata": {},
   "source": [
    "<h4 style=\"color:blue\">(b) What is the probability that 3 or fewer calls reach a person?</h4>"
   ]
  },
  {
   "cell_type": "markdown",
   "metadata": {},
   "source": [
    "This question is trying to find\n",
    "\\begin{align*}\n",
    "P(X \\leq 3) &= P(0)+P(1)+P(2)+P(3) \\\\\n",
    "&= {15 \\choose 0} 0.2^{0}(1-0.2)^{15} + {15 \\choose 1} 0.2^{1}(1-0.2)^{15-1} \\\\\n",
    "&+ {15 \\choose 2} 0.2^{2}(1-0.2)^{15-2} + 0.25 \\\\\n",
    "&=0.035+0.132+0.23+0.25=0.647\n",
    "\\end{align*}"
   ]
  },
  {
   "cell_type": "markdown",
   "metadata": {},
   "source": [
    "<p style=\"color:red\">\n",
    "Therefore, the probability that 3 or fewer calls reach a person is 0.647\n",
    "</p>"
   ]
  },
  {
   "cell_type": "markdown",
   "metadata": {},
   "source": [
    "<h2 style=\"color:blue\">Q6: Multiple-choice tests</h2>"
   ]
  },
  {
   "cell_type": "markdown",
   "metadata": {},
   "source": [
    "<h4 style=\"color:blue\">(a) Use the Normal approximation to find the probability that Jodi scores 70% or lower on a 100-question test.</h4>"
   ]
  },
  {
   "cell_type": "markdown",
   "metadata": {},
   "source": [
    "First, this question should be expressed as\n",
    "\\begin{align*}\n",
    "X &\\sim Binomial(n=100,p=0.75) \\\\\n",
    "\\mu &= np = 75 \\\\\n",
    "\\sigma &= \\sqrt{np(1-p)} = 4.33\n",
    "\\end{align*}"
   ]
  },
  {
   "cell_type": "markdown",
   "metadata": {},
   "source": [
    "As the number of observations $n$ gets larger, the binomial distribution gets close to a Normal distribution.\n",
    "\\begin{align*}\n",
    "Y\\sim N(\\mu=75,\\sigma=4.33)\n",
    "\\end{align*}"
   ]
  },
  {
   "cell_type": "markdown",
   "metadata": {},
   "source": [
    "This question is trying to find \n",
    "\\begin{align*}\n",
    "P(Y \\leq 70)\n",
    "\\end{align*}"
   ]
  },
  {
   "cell_type": "markdown",
   "metadata": {},
   "source": [
    "Then, we standardize\n",
    "\\begin{align*}\n",
    "\\frac{70-75}{4.33} = -1.155 \\approx 1.16\n",
    "\\end{align*}"
   ]
  },
  {
   "cell_type": "markdown",
   "metadata": {},
   "source": [
    "From the Z-table, we get\n",
    "\\begin{align*}\n",
    "P(Z \\leq 1.16) &= 0.877\n",
    "\\end{align*}"
   ]
  },
  {
   "cell_type": "markdown",
   "metadata": {},
   "source": [
    "And from the property of symmetry, we get\n",
    "\\begin{align*}\n",
    "P(Z \\leq -1.16) &= 1  - 0.877 = 0.123\n",
    "\\end{align*}"
   ]
  },
  {
   "cell_type": "markdown",
   "metadata": {},
   "source": [
    "<p style=\"color:red\">\n",
    "Therefore, the probability that Jodi scores 70% or lower on a 100-question test is 0.123\n",
    "</p>"
   ]
  },
  {
   "cell_type": "markdown",
   "metadata": {},
   "source": [
    "<img src=\"./hw6_images/Q6_a.png\" alt=\"None\">"
   ]
  },
  {
   "cell_type": "markdown",
   "metadata": {},
   "source": [
    "<h4 style=\"color:blue\">(b) If the test contains 250 questions, what is the probability that Jodi will score 70% or lower?</h4>"
   ]
  },
  {
   "cell_type": "markdown",
   "metadata": {},
   "source": [
    "First, this question should be expressed as\n",
    "\\begin{align*}\n",
    "X &\\sim Binomial(n=250,p=0.75) \\\\\n",
    "\\mu &= np = 187.5 \\\\\n",
    "\\sigma &= \\sqrt{np(1-p)} = 6.85\n",
    "\\end{align*}"
   ]
  },
  {
   "cell_type": "markdown",
   "metadata": {},
   "source": [
    "And we also use the Normal distribution to approximate\n",
    "\\begin{align*}\n",
    "Y\\sim N(\\mu=187.5,\\sigma=6.85)\n",
    "\\end{align*}"
   ]
  },
  {
   "cell_type": "markdown",
   "metadata": {},
   "source": [
    "For 250 questions, score 70% is\n",
    "\\begin{align*}\n",
    "250 \\times 0.7 = 175\n",
    "\\end{align*}"
   ]
  },
  {
   "cell_type": "markdown",
   "metadata": {},
   "source": [
    "Therefore, this question becomes to find \n",
    "\\begin{align*}\n",
    "P(Y \\leq 175)\n",
    "\\end{align*}"
   ]
  },
  {
   "cell_type": "markdown",
   "metadata": {},
   "source": [
    "Then, we standardize\n",
    "\\begin{align*}\n",
    "\\frac{175-187.5}{6.85} = -1.82\n",
    "\\end{align*}"
   ]
  },
  {
   "cell_type": "markdown",
   "metadata": {},
   "source": [
    "From the Z-table, we get\n",
    "\\begin{align*}\n",
    "P(Z \\leq 1.82) &= 0.9656\n",
    "\\end{align*}"
   ]
  },
  {
   "cell_type": "markdown",
   "metadata": {},
   "source": [
    "And from the property of symmetry, we get\n",
    "\\begin{align*}\n",
    "P(Z \\leq -1.82) &= 1  - 0.9656 = 0.0344\n",
    "\\end{align*}"
   ]
  },
  {
   "cell_type": "markdown",
   "metadata": {},
   "source": [
    "<p style=\"color:red\">\n",
    "Therefore, the probability that Jodi scores 70% or lower on a 250-question test is 0.0344\n",
    "</p>"
   ]
  },
  {
   "cell_type": "markdown",
   "metadata": {},
   "source": [
    "<img src=\"./hw6_images/Q6_b.png\" alt=\"None\">"
   ]
  },
  {
   "cell_type": "markdown",
   "metadata": {},
   "source": [
    "<h2 style=\"color:blue\">Q7: Reaching dropouts</h2>"
   ]
  },
  {
   "cell_type": "markdown",
   "metadata": {},
   "source": [
    "<h4 style=\"color:blue\">(a) If the mailing list can be considered a random sample of the population, what is the mean number of high school dropouts who will receive the flyer?</h4>"
   ]
  },
  {
   "cell_type": "markdown",
   "metadata": {},
   "source": [
    "First, this question should be expressed as\n",
    "\\begin{align*}\n",
    "X &\\sim Binomial(n=25000,p=0.13) \\\\\n",
    "\\mu &= np = 3250 \\\\\n",
    "\\sigma &= \\sqrt{np(1-p)} = 53.17\n",
    "\\end{align*}"
   ]
  },
  {
   "cell_type": "markdown",
   "metadata": {},
   "source": [
    "<p style=\"color:red\">\n",
    "Therefore, the mean number of high school dropouts who will receive the flyer is 3250\n",
    "</p>"
   ]
  },
  {
   "cell_type": "markdown",
   "metadata": {},
   "source": [
    "<img src=\"./hw6_images/Q7_a.png\" alt=\"None\">"
   ]
  },
  {
   "cell_type": "markdown",
   "metadata": {},
   "source": [
    "<h4 style=\"color:blue\">(b) Waht is the probability that at least 3500 dropouts will recive the flyer?</h4>"
   ]
  },
  {
   "cell_type": "markdown",
   "metadata": {},
   "source": [
    "Here, we use the Normal distribution to approximate\n",
    "\\begin{align*}\n",
    "Y\\sim N(\\mu=3250, \\sigma=53.17)\n",
    "\\end{align*}"
   ]
  },
  {
   "cell_type": "markdown",
   "metadata": {},
   "source": [
    "This question becomes to find \n",
    "\\begin{align*}\n",
    "P(Y \\geq 3500)\n",
    "\\end{align*}"
   ]
  },
  {
   "cell_type": "markdown",
   "metadata": {},
   "source": [
    "Then, we standardize\n",
    "\\begin{align*}\n",
    "z=\\frac{3500-3250}{53.17} = 4.7\n",
    "\\end{align*}"
   ]
  },
  {
   "cell_type": "markdown",
   "metadata": {},
   "source": [
    "So, we transform the original question to find\n",
    "\\begin{align*}\n",
    "P(Z \\geq 4.7) = 1 - P(Z < 4.7)\n",
    "\\end{align*}\n",
    "where\n",
    "\\begin{align*}\n",
    "Z \\sim N(0, 1) \n",
    "\\end{align*}"
   ]
  },
  {
   "cell_type": "markdown",
   "metadata": {},
   "source": [
    "From the largest number of Z-table,\n",
    "\\begin{align*}\n",
    "P(Z \\leq 3.49) &= 0.9998\n",
    "\\end{align*}"
   ]
  },
  {
   "cell_type": "markdown",
   "metadata": {},
   "source": [
    "So, I conclude that\n",
    "\\begin{align*}\n",
    "P(Z \\geq 4.7) = 1 - P(Z < 4.7) \\approx 0\n",
    "\\end{align*}"
   ]
  },
  {
   "cell_type": "markdown",
   "metadata": {},
   "source": [
    "<p style=\"color:red\">\n",
    "Therefore, the probability that at least 3500 dropouts will recive the flyer is 0\n",
    "</p>"
   ]
  },
  {
   "cell_type": "markdown",
   "metadata": {},
   "source": [
    "<h2 style=\"color:blue\">Q8-1: Chebyshev's inequality</h2>"
   ]
  },
  {
   "cell_type": "markdown",
   "metadata": {},
   "source": [
    "#### Chebyshev Inequality:\n",
    "Let X be a random variable with $E(X)=\\mu$ and $\\mathrm{Var}(X) = \\sigma^2$  \n",
    "For $k>0$\n",
    "\\begin{align*}\n",
    "P(|X-\\mu|\\geq k) \\leq \\frac{\\sigma^2}{k^2}\n",
    "\\end{align*}"
   ]
  },
  {
   "cell_type": "markdown",
   "metadata": {},
   "source": [
    "<h4 style=\"color:blue\">(a) Let $X$ denote the amount of rainfall. received per week in a region. Assume that $\\mu=1.00$ inch and $\\sigma=0.25$ inch. Would it be unusual for this region to receive more than 2 inches of rain in a given week?</h4>"
   ]
  },
  {
   "cell_type": "markdown",
   "metadata": {},
   "source": [
    "First, the probability that this region receives more than 2 inches of rain in a given week is \n",
    "\\begin{align*}\n",
    "P(X \\geq 2)\n",
    "\\end{align*}"
   ]
  },
  {
   "cell_type": "markdown",
   "metadata": {},
   "source": [
    "And we try to change the original equation\n",
    "\\begin{align*}\n",
    "P(X \\geq 2) = P(X - 1 \\geq 1)\n",
    "\\end{align*}"
   ]
  },
  {
   "cell_type": "markdown",
   "metadata": {},
   "source": [
    "Now, I let $k=1$, and use Chebyshev's inequality\n",
    "\\begin{align*}\n",
    "P(|X-1|\\geq 1)& \\leq \\frac{\\sigma^2}{k^2} = \\frac{0.25^2}{1^2} = 0.0625\n",
    "\\end{align*}"
   ]
  },
  {
   "cell_type": "markdown",
   "metadata": {},
   "source": [
    "It further becomes\n",
    "\n",
    "\\begin{align*}\n",
    "P(X-1 \\leq -1) + P(X-1 \\geq 1) &\\leq 0.0625 \\\\\n",
    "P(X \\leq 0) + P(X \\geq 2) &\\leq 0.0625\n",
    "\\end{align*}"
   ]
  },
  {
   "cell_type": "markdown",
   "metadata": {},
   "source": [
    "Then, I denote a positive number $\\alpha=P(X \\leq 0) > 0$ (the probability that there is no rainfall), and get\n",
    "\n",
    "<p style=\"color:red\">\n",
    "\\begin{align*}\n",
    "P(X \\geq 2) \\leq 0.0625 - \\alpha\n",
    "\\end{align*}\n",
    "</p>"
   ]
  },
  {
   "cell_type": "markdown",
   "metadata": {},
   "source": [
    "<p style=\"color:red\">\n",
    "As you can see, the probability that this region receive more than 2 inches of rain in a given week must be smaller than 0.0625, so I can say it is unusual for that.\n",
    "</p>"
   ]
  },
  {
   "cell_type": "markdown",
   "metadata": {},
   "source": [
    "<h4 style=\"color:blue\">(b) Let $X$ denote the amount of cases of rabies reported in a given state per week. Assume that $\\mu=0.5$ and $\\sigma^2=0.04$. Would it be unusual to observe two cases in a given week?</h4>"
   ]
  },
  {
   "cell_type": "markdown",
   "metadata": {},
   "source": [
    "First, the probability that observe at least two cases in a given week\n",
    "\\begin{align*}\n",
    "P(X \\geq 2)\n",
    "\\end{align*}"
   ]
  },
  {
   "cell_type": "markdown",
   "metadata": {},
   "source": [
    "And we try to change the original equation\n",
    "\\begin{align*}\n",
    "P(X \\geq 2) = P(X - 0.5 \\geq 1.5)\n",
    "\\end{align*}"
   ]
  },
  {
   "cell_type": "markdown",
   "metadata": {},
   "source": [
    "Now, I let $k=1.5$, and use Chebyshev's inequality\n",
    "\\begin{align*}\n",
    "P(|X-0.5|\\geq 1.5)& \\leq \\frac{0.04}{1.5^2} = 0.018\n",
    "\\end{align*}"
   ]
  },
  {
   "cell_type": "markdown",
   "metadata": {},
   "source": [
    "It further becomes\n",
    "\n",
    "\\begin{align*}\n",
    "P(X-0.5 \\leq -1.5) + P(X-0.5 \\geq 1.5) &\\leq  0.018 \\\\\n",
    "P(X \\leq -1) + P(X \\geq 2) &\\leq 0.018\n",
    "\\end{align*}"
   ]
  },
  {
   "cell_type": "markdown",
   "metadata": {},
   "source": [
    "And because the amount of cases can not be negative number, so\n",
    "\\begin{align*}\n",
    "P(X \\leq -1) = 0\n",
    "\\end{align*}"
   ]
  },
  {
   "cell_type": "markdown",
   "metadata": {},
   "source": [
    "Finally, we get\n",
    "<p style=\"color:red\">\n",
    "\\begin{align*}\n",
    " P(X \\geq 2) \\leq 0.018\n",
    "\\end{align*}\n",
    "</p>"
   ]
  },
  {
   "cell_type": "markdown",
   "metadata": {},
   "source": [
    "<p style=\"color:red\">\n",
    "As you can see, the probability that observe at least two cases in a given week must be smaller than 0.018, so I can say it is unusual for that.\n",
    "</p>"
   ]
  },
  {
   "cell_type": "markdown",
   "metadata": {},
   "source": [
    "<h2 style=\"color:blue\">Q8-2</h2>"
   ]
  },
  {
   "cell_type": "markdown",
   "metadata": {},
   "source": [
    "\\begin{align*}\n",
    "E(x)=\\mu=60,~ ~\\sigma=7\n",
    "\\end{align*}"
   ]
  },
  {
   "cell_type": "markdown",
   "metadata": {},
   "source": [
    "\\begin{align*}\n",
    "P(|X-\\mu|\\geq k) \\leq \\frac{\\sigma^2}{k^2}\n",
    "\\end{align*}"
   ]
  },
  {
   "cell_type": "markdown",
   "metadata": {},
   "source": [
    "<h4 style=\"color:blue\">1. 求在46分與74分之間的人數有多少人</h4>"
   ]
  },
  {
   "cell_type": "markdown",
   "metadata": {},
   "source": [
    "First, let us check:\n",
    "\\begin{align*}\n",
    "60 - 46 &= 14 \\\\\n",
    "60 - 74 &= -14\n",
    "\\end{align*}"
   ]
  },
  {
   "cell_type": "markdown",
   "metadata": {},
   "source": [
    "Therefore, we can express $46 \\leq X \\leq 74$ as\n",
    "\\begin{align*}\n",
    "|X-60| \\leq 14\n",
    "\\end{align*}"
   ]
  },
  {
   "cell_type": "markdown",
   "metadata": {},
   "source": [
    "and this question is to ask\n",
    "\\begin{align*}\n",
    "P(46\\leq X \\leq 74) = P(|X-60|\\leq 14)\n",
    "\\end{align*}"
   ]
  },
  {
   "cell_type": "markdown",
   "metadata": {},
   "source": [
    "Now, I let $k=14=2\\sigma$, and use Chebyshev's inequality\n",
    "\\begin{align*}\n",
    "P(|X-60|\\geq 2\\sigma)& \\leq \\frac{\\sigma^2}{4\\sigma^2} = \\frac{1}{4}\n",
    "\\end{align*}"
   ]
  },
  {
   "cell_type": "markdown",
   "metadata": {},
   "source": [
    "Finally, we get\n",
    "\\begin{align*}\n",
    "P(|X-60|\\leq 14) &= 1 - P(|X-60|\\geq 14) = 1 - \\frac{1}{4} = \\frac{3}{4} \\\\\n",
    "4000 \\times \\frac{3}{4} &= 3000\n",
    "\\end{align*}"
   ]
  },
  {
   "cell_type": "markdown",
   "metadata": {},
   "source": [
    "<p style=\"color:red\">\n",
    "Therefore, there are 3000 people in the range from 46 to 74.\n",
    "</p>"
   ]
  },
  {
   "cell_type": "markdown",
   "metadata": {},
   "source": [
    "<h4 style=\"color:blue\">2. 求最多佔全部1/9的分數範圍</h4>"
   ]
  },
  {
   "cell_type": "markdown",
   "metadata": {},
   "source": [
    "This question is to find $a$ and $b$ in the following equation:\n",
    "\\begin{align*}\n",
    "P(a \\leq X \\leq b) \\leq \\frac{1}{9}\n",
    "\\end{align*}"
   ]
  },
  {
   "cell_type": "markdown",
   "metadata": {},
   "source": [
    "<p style=\"color:red\">\n",
    "We can not find the solution from Chebyshev's inequality.<br>\n",
    "However, we can find the solution if the question becomes \"求最少佔全部1/9的分數範圍\".<br>\n",
    "I will illustrate it in the last part of this homework.\n",
    "</p>"
   ]
  },
  {
   "cell_type": "markdown",
   "metadata": {},
   "source": [
    "<h4 style=\"color:blue\">2. 求最少佔全部1/9的分數範圍 (Revised Version)</h4>"
   ]
  },
  {
   "cell_type": "markdown",
   "metadata": {},
   "source": [
    "This question is to find $a$ and $b$ in the following equation:\n",
    "\\begin{align*}\n",
    "P(a \\leq X \\leq b) \\geq \\frac{1}{9}\n",
    "\\end{align*}"
   ]
  },
  {
   "cell_type": "markdown",
   "metadata": {},
   "source": [
    "We can further change the equation\n",
    "\\begin{align*}\n",
    "P(a - 60 \\leq X - 60 \\leq b - 60) & \\geq  \\frac{1}{9} \\\\\n",
    "\\end{align*}\n",
    "If we let $a-60 = -k$ and $b-60 = k$, we get\n",
    "\\begin{align*}\n",
    "P(|X-60| \\leq k) & \\geq \\frac{1}{9}  \\\\\n",
    "-P(|X-60| \\leq k)  & \\leq -\\frac{1}{9}  \\\\\n",
    "1-P(|X-60| \\leq k)  & \\leq \\frac{8}{9}  \\\\\n",
    "\\end{align*}"
   ]
  },
  {
   "cell_type": "markdown",
   "metadata": {},
   "source": [
    "Because $\\sum_{i} P(X_i)=1$, we know\n",
    "\\begin{align*}\n",
    "P(|X-60| \\geq k) &= 1 - P(|X-60| \\leq k)\n",
    "\\end{align*}\n",
    "therefore, we transform the original question to find $k$\n",
    "\\begin{align*}\n",
    "P(|X-60| \\geq k) \\leq \\frac{8}{9}\n",
    "\\end{align*}\n",
    "\n",
    "and combine with Chebyshev's inequality\n",
    "\\begin{align*}\n",
    "P(|X-60|\\geq k) \\leq \\frac{\\sigma^2}{k^2}\n",
    "\\end{align*}"
   ]
  },
  {
   "cell_type": "markdown",
   "metadata": {},
   "source": [
    "Doing simple algebra\n",
    "\\begin{align*}\n",
    "\\frac{\\sigma^2}{k^2} &= \\frac{8}{9} \\\\\n",
    "k^2 &= \\frac{9}{8}\\sigma^2 \\\\\n",
    "k &= \\frac{3}{2\\sqrt{2}}~\\sigma=7.425\n",
    "\\end{align*}"
   ]
  },
  {
   "cell_type": "markdown",
   "metadata": {},
   "source": [
    "Substitute this result into\n",
    "\\begin{align*}\n",
    "P(|X-60| \\leq k) & \\geq \\frac{1}{9} \n",
    "\\end{align*}"
   ]
  },
  {
   "cell_type": "markdown",
   "metadata": {},
   "source": [
    "We get\n",
    "\\begin{align*}\n",
    "|X-60| & \\leq 7.425 \\\\\n",
    " -7.425 \\leq &X - 60 \\leq 7.425 \\\\\n",
    " 52.575 \\leq &X \\leq 67.425\n",
    "\\end{align*}"
   ]
  },
  {
   "cell_type": "markdown",
   "metadata": {},
   "source": [
    "<p style=\"color:red\">\n",
    "Therefore,\n",
    "\\begin{align*}\n",
    "P(52.575 \\leq X \\leq 67.425) \\geq \\frac{1}{9}\n",
    "\\end{align*}\n",
    "最少佔全部1/9的分數範圍 在52.575分與67.425分之間\n",
    "</p>"
   ]
  }
 ],
 "metadata": {
  "kernelspec": {
   "display_name": "Python 3",
   "language": "python",
   "name": "python3"
  },
  "language_info": {
   "codemirror_mode": {
    "name": "ipython",
    "version": 3
   },
   "file_extension": ".py",
   "mimetype": "text/x-python",
   "name": "python",
   "nbconvert_exporter": "python",
   "pygments_lexer": "ipython3",
   "version": "3.8.5"
  }
 },
 "nbformat": 4,
 "nbformat_minor": 4
}
