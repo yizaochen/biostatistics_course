{
 "cells": [
  {
   "cell_type": "markdown",
   "metadata": {},
   "source": [
    "<h2 style=\"color:blue\">Question 1: The one about drug therapy</h2>"
   ]
  },
  {
   "cell_type": "markdown",
   "metadata": {},
   "source": [
    "<h4 style=\"color:blue\">(a) Construct a side-by-side box plot and identify outliers.</h4>\n",
    "\n",
    "##### First, we need summaries for two sets(A and R), respectively.   \n",
    "|   |  Minimum  | Q1  | Median | Q3  | Maximum |\n",
    "|---|---|-------|---|----|---|\n",
    "| $T_{\\mathrm{max}}(A)$  | 12.4  | 119.5  | 130  | 139  | 200 |\n",
    "| $T_{\\mathrm{max}}(R)$  | 221   | 238  | 253 | 271  |516|  \n",
    "\n",
    "Then, we can create boxplots for them. Here, the maximum and minimum are used as the ends of the whiskers.  \n",
    "<img src=\"./hw1_images/q1_boxplots_v1_annotation_bg.png\" alt=\"None\">\n",
    "\n",
    "As you can see, the outlier in A set is 12.4, and the outlier in R set is 516."
   ]
  },
  {
   "cell_type": "markdown",
   "metadata": {},
   "source": [
    "<h4 style=\"color:blue\">(b) Calculate $\\overline{x}$ and $s^2$ for the data of set A.</h4> \n",
    "<ul>\n",
    "    <li>$\\overline{x}=\\frac{x_1+x_2+\\cdots+x_n}{n}=\\frac{105+126+120+\\cdots+170}{19}=128.07$</li>\n",
    "    <li>$s^2=\\frac{(x_1-\\overline{x})^2+(x_2-\\overline{x})^2+\\cdots+(x_n-\\overline{x})^2}{n-1}= \\frac{(105-128.07)^2+(126-128.07)^2+\\cdots+(170-128.07)^2}{18}=1282.68$</li>\n",
    "</ul>"
   ]
  },
  {
   "cell_type": "markdown",
   "metadata": {},
   "source": [
    "<h4 style=\"color:blue\">(c) Assume that the outlier of set A is the result of a misplaced decimal point. Correct the error by deleting the decimal and see what changes this makes in your box plot. Recompute $\\overline{x}$ and $s^2$ , using the correct data point, and compare your results to those of part b.</h4> \n",
    "<img src=\"./hw1_images/q1_boxplots_v2_bg.png\" alt=\"None\">\n",
    "<ul>\n",
    "    <li>$\\overline{x}=133.95$</li>\n",
    "    <li>$s^2=503.83$</li>\n",
    "</ul>\n",
    "After correcting the decimal point of the outlier, the new $\\overline{x}$ is larger than the old $\\overline{x}$ because there is no small value. And the new $s^2$ is smaller than the old $s^2$ because the spread of distribution becomes small."
   ]
  },
  {
   "cell_type": "markdown",
   "metadata": {},
   "source": [
    "<h4 style=\"color:blue\">(d) Is there an outlier in set R? If so, is there an obvious legitimate reason to delete\n",
    "it from the data set. </h4>\n",
    "<ul>\n",
    "<li>Yes, there is an outlier(516) in set R, as you can see in the first figure.<\\li>\n",
    "<li>I think this outlier should be deleted because 516 is much larger than other values. This value is not possible for healthy adults in comparison with other data points.</li>\n",
    "</ul>"
   ]
  },
  {
   "cell_type": "markdown",
   "metadata": {},
   "source": [
    "<h2 style=\"color:blue\">Question 2: The data sets below are temperature readings from two different sensors (a Celsius sensor and a Fahrenheit sensor). Which sensor is better by picking the one with the least variance.</h2>"
   ]
  },
  {
   "cell_type": "markdown",
   "metadata": {},
   "source": [
    "Intuitively, it is not appropriate for directly comparing these two sensors by standard deviation because they have different units. Therefore, it is better to use coefficient of variation(CV) to compare them. The definition of CV is: $\\mathrm{CV} = \\frac{S}{\\overline{X}}\\times 100 \\%$  \n",
    "First, we need to calculate $S$ and $\\overline{X}$ for them:  \n",
    "<ul>\n",
    "    <li>$\\overline{X}_{\\mathrm{Celsius}} = 20$</li>\n",
    "    <li>$S_{\\mathrm{Celsius}} = 15.81$</li>\n",
    "    <li>$\\overline{X}_{\\mathrm{Fahrenheit}} = 68$</li>\n",
    "    <li>$S_{\\mathrm{Fahrenheit}} = 28.46$</li>\n",
    "</ul>\n",
    "  \n",
    "Finally, we get\n",
    "<ul>\n",
    "    <li> $\\mathrm{CV}_{\\mathrm{Celsius}} = 79 \\%$</li>\n",
    "    <li> $\\mathrm{CV}_{\\mathrm{Fahrenheit}} = 42 \\%$</li>\n",
    "</ul>\n",
    "The better sensor is the Fahrenheit one.\n",
    "\n",
    "<p style=\"color:red\">But, this is totally wrong!</p> The coefficient of variation may not have any meaning for data on an <mark>\"interval scale\"</mark>. In other words, the zero degree Celsius or the zero degree Fahrenheit do not represent the absence of thermal energy. We need something which is a <mark>\"ratio scale\"</mark>, that is, scale that has a meaningful zero and hence allow relative comparison of two measurements. For temperature, the only choice is <mark>Kelvin</mark>, in which, the 0 K  stands for the complete absence of thermal energy.  \n",
    "<br>  \n",
    "<ul>\n",
    "    <li> Celsius to Kelvin: [0, 10, 20, 30, 40] $\\rightarrow$ [273.15, 283.15, 293.15, 303.15, 313.15]</li>\n",
    "    <li> Fahrenheit to Kelvin: [32, 50, 68, 86, 104] $\\rightarrow$ [273.15, 283.15, 293.15, 303.15, 313.15]</li>\n",
    "</ul>\n",
    "As you can see, <mark>these two sensors have the same sensitivity</mark>, and their mean and standard deviation:\n",
    "<ul>\n",
    " <li>  $\\overline{x}= 293.15 ~\\mathrm{K}$ </li>\n",
    " <li> $S= 15.81 ~\\mathrm{K}$ </li>\n",
    "</ul>"
   ]
  },
  {
   "cell_type": "code",
   "execution_count": null,
   "metadata": {},
   "outputs": [],
   "source": []
  }
 ],
 "metadata": {
  "kernelspec": {
   "display_name": "Python 3",
   "language": "python",
   "name": "python3"
  },
  "language_info": {
   "codemirror_mode": {
    "name": "ipython",
    "version": 3
   },
   "file_extension": ".py",
   "mimetype": "text/x-python",
   "name": "python",
   "nbconvert_exporter": "python",
   "pygments_lexer": "ipython3",
   "version": "3.8.5"
  }
 },
 "nbformat": 4,
 "nbformat_minor": 4
}
