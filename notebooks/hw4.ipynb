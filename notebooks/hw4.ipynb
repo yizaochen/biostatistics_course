{
 "cells": [
  {
   "cell_type": "code",
   "execution_count": 4,
   "metadata": {},
   "outputs": [],
   "source": [
    "from matplotlib import pyplot as plt\n",
    "import numpy as np\n",
    "from biostat.tree_diagram import TreeModify, scatter_xy"
   ]
  },
  {
   "cell_type": "markdown",
   "metadata": {},
   "source": [
    "### Case 1"
   ]
  },
  {
   "cell_type": "code",
   "execution_count": 9,
   "metadata": {},
   "outputs": [
    {
     "name": "stdout",
     "output_type": "stream",
     "text": [
      "Set result container.\n"
     ]
    }
   ],
   "source": [
    "tagent = TreeModify()\n",
    "\n",
    "level_list = [0, 1, 2, 3, 4, 5]\n",
    "tagent.create_container(level_list)"
   ]
  },
  {
   "cell_type": "code",
   "execution_count": 10,
   "metadata": {},
   "outputs": [],
   "source": [
    "tagent.make_data_by_npoints(1, 5)\n",
    "tagent.make_data_by_npoints(1, 4)\n",
    "tagent.make_data_by_npoints(1, 3)\n",
    "tagent.make_data_by_npoints(1, 2)\n",
    "tagent.make_data_by_npoints(1, 1)\n",
    "tagent.make_data_by_npoints(1, 0)"
   ]
  },
  {
   "cell_type": "code",
   "execution_count": 11,
   "metadata": {},
   "outputs": [
    {
     "data": {
      "image/png": "[encoded data removed]",
      "text/plain": [
       "<Figure size 432x144 with 1 Axes>"
      ]
     },
     "metadata": {
      "needs_background": "light"
     },
     "output_type": "display_data"
    }
   ],
   "source": [
    "fig, ax = plt.subplots(ncols=1, nrows=1, figsize=(6, 2))\n",
    "\n",
    "for level in range(0, 6):\n",
    "    xlist, ylist = tagent.get_xlist_ylist_for_level(level)\n",
    "    scatter_xy(ax, xlist, ylist)\n",
    "    \n",
    "ax.axis('off')\n",
    "#plt.savefig('hw4_q1_1.svg')\n",
    "plt.show()"
   ]
  },
  {
   "cell_type": "markdown",
   "metadata": {},
   "source": [
    "### Case 2"
   ]
  },
  {
   "cell_type": "code",
   "execution_count": 19,
   "metadata": {},
   "outputs": [
    {
     "name": "stdout",
     "output_type": "stream",
     "text": [
      "Set result container.\n"
     ]
    }
   ],
   "source": [
    "tagent = TreeModify()\n",
    "\n",
    "level_list = [0, 1, 2, 3, 4, 5]\n",
    "tagent.create_container(level_list)"
   ]
  },
  {
   "cell_type": "code",
   "execution_count": 20,
   "metadata": {},
   "outputs": [],
   "source": [
    "tagent.make_data_by_npoints(2, 5)\n",
    "tagent.make_data_by_npoints(2, 4)\n",
    "tagent.make_data_by_npoints(2, 3)\n",
    "\n",
    "tagent.make_data_by_prev_level(2)\n",
    "tagent.make_data_by_ylist([0.5], 1)\n",
    "tagent.make_data_by_ylist([0.5], 0)"
   ]
  },
  {
   "cell_type": "code",
   "execution_count": 23,
   "metadata": {},
   "outputs": [
    {
     "data": {
      "image/png": "[encoded data removed]",
      "text/plain": [
       "<Figure size 432x144 with 1 Axes>"
      ]
     },
     "metadata": {
      "needs_background": "light"
     },
     "output_type": "display_data"
    }
   ],
   "source": [
    "fig, ax = plt.subplots(ncols=1, nrows=1, figsize=(6, 2))\n",
    "\n",
    "for level in range(0, 6):\n",
    "    xlist, ylist = tagent.get_xlist_ylist_for_level(level)\n",
    "    scatter_xy(ax, xlist, ylist)\n",
    "    \n",
    "ax.axis('off')\n",
    "#plt.savefig('hw4_q1_2.svg')\n",
    "plt.show()"
   ]
  },
  {
   "cell_type": "markdown",
   "metadata": {},
   "source": [
    "### Case 3"
   ]
  },
  {
   "cell_type": "code",
   "execution_count": 24,
   "metadata": {},
   "outputs": [
    {
     "name": "stdout",
     "output_type": "stream",
     "text": [
      "Set result container.\n"
     ]
    }
   ],
   "source": [
    "tagent = TreeModify()\n",
    "\n",
    "level_list = [0, 1, 2, 3, 4, 5]\n",
    "tagent.create_container(level_list)"
   ]
  },
  {
   "cell_type": "code",
   "execution_count": 25,
   "metadata": {},
   "outputs": [],
   "source": [
    "tagent.make_data_by_npoints(2, 5)\n",
    "tagent.make_data_by_npoints(2, 4)\n",
    "tagent.make_data_by_npoints(2, 3)\n",
    "tagent.make_data_by_npoints(2, 2)\n",
    "tagent.make_data_by_npoints(2, 1)\n",
    "tagent.make_data_by_prev_level(0)"
   ]
  },
  {
   "cell_type": "code",
   "execution_count": 26,
   "metadata": {},
   "outputs": [
    {
     "data": {
      "image/png": "[encoded data removed]",
      "text/plain": [
       "<Figure size 432x144 with 1 Axes>"
      ]
     },
     "metadata": {
      "needs_background": "light"
     },
     "output_type": "display_data"
    }
   ],
   "source": [
    "fig, ax = plt.subplots(ncols=1, nrows=1, figsize=(6, 2))\n",
    "\n",
    "for level in range(0, 6):\n",
    "    xlist, ylist = tagent.get_xlist_ylist_for_level(level)\n",
    "    scatter_xy(ax, xlist, ylist)\n",
    "    \n",
    "ax.axis('off')\n",
    "#plt.savefig('hw4_q1_3.svg')\n",
    "plt.show()"
   ]
  },
  {
   "cell_type": "markdown",
   "metadata": {},
   "source": [
    "### Case 4"
   ]
  },
  {
   "cell_type": "code",
   "execution_count": 32,
   "metadata": {},
   "outputs": [
    {
     "name": "stdout",
     "output_type": "stream",
     "text": [
      "Set result container.\n"
     ]
    }
   ],
   "source": [
    "tagent = TreeModify()\n",
    "\n",
    "level_list = [0, 1, 2, 3, 4, 5]\n",
    "tagent.create_container(level_list)"
   ]
  },
  {
   "cell_type": "code",
   "execution_count": 33,
   "metadata": {},
   "outputs": [],
   "source": [
    "tagent.make_data_by_npoints(4, 5)\n",
    "tagent.make_data_by_npoints(4, 4)\n",
    "tagent.make_data_by_npoints(4, 3)\n",
    "tagent.make_data_by_prev_level(2)\n",
    "tagent.make_data_by_ylist([0.5, 2.5], 1)\n",
    "tagent.make_data_by_prev_level(0)"
   ]
  },
  {
   "cell_type": "code",
   "execution_count": 35,
   "metadata": {},
   "outputs": [
    {
     "data": {
      "image/png": "[encoded data removed]",
      "text/plain": [
       "<Figure size 432x144 with 1 Axes>"
      ]
     },
     "metadata": {
      "needs_background": "light"
     },
     "output_type": "display_data"
    }
   ],
   "source": [
    "fig, ax = plt.subplots(ncols=1, nrows=1, figsize=(6, 2))\n",
    "\n",
    "for level in range(0, 6):\n",
    "    xlist, ylist = tagent.get_xlist_ylist_for_level(level)\n",
    "    scatter_xy(ax, xlist, ylist)\n",
    "    \n",
    "ax.axis('off')\n",
    "plt.savefig('hw4_q1_4.svg')\n",
    "plt.show()"
   ]
  },
  {
   "cell_type": "markdown",
   "metadata": {},
   "source": [
    "<h2 style=\"color:blue\">Q3: Binomial and Poisson</h2>"
   ]
  },
  {
   "cell_type": "code",
   "execution_count": 14,
   "metadata": {},
   "outputs": [
    {
     "name": "stdout",
     "output_type": "stream",
     "text": [
      "The probability is 0.816\n"
     ]
    }
   ],
   "source": [
    "# a\n",
    "n = 200000\n",
    "p = 4e-5\n",
    "mu = n * p\n",
    "prefix_term = np.exp(-mu)\n",
    "p_total = 0.\n",
    "for i in range(0, 11):\n",
    "    p_total += prefix_term * (np.power(mu, i) / np.math.factorial(i))\n",
    "print(f'The probability is {p_total:.3f}')"
   ]
  },
  {
   "cell_type": "code",
   "execution_count": 15,
   "metadata": {},
   "outputs": [
    {
     "name": "stdout",
     "output_type": "stream",
     "text": [
      "The probability is 0.625\n"
     ]
    }
   ],
   "source": [
    "# a\n",
    "n = 200000\n",
    "p = 4e-5\n",
    "mu = n * p\n",
    "prefix_term = np.exp(-mu)\n",
    "p_total = 0.\n",
    "for i in range(6, 11):\n",
    "    p_total += prefix_term * (np.power(mu, i) / np.math.factorial(i))\n",
    "print(f'The probability is {p_total:.3f}')"
   ]
  },
  {
   "cell_type": "code",
   "execution_count": 19,
   "metadata": {},
   "outputs": [
    {
     "name": "stdout",
     "output_type": "stream",
     "text": [
      "The probability is 0.99995\n"
     ]
    }
   ],
   "source": [
    "# b\n",
    "p_total = 1 - np.exp(-10)\n",
    "print(f'The probability is {p_total:.5f}')"
   ]
  },
  {
   "cell_type": "code",
   "execution_count": 27,
   "metadata": {},
   "outputs": [
    {
     "name": "stdout",
     "output_type": "stream",
     "text": [
      "The probability is 0.176\n"
     ]
    }
   ],
   "source": [
    "# c-2\n",
    "n = 700\n",
    "p = 0.02\n",
    "mu = n * p\n",
    "prefix_term = np.exp(-mu)\n",
    "p_total = 0.\n",
    "for i in range(0, 11):\n",
    "    p_total += prefix_term * (np.power(mu, i) / np.math.factorial(i))\n",
    "print(f'The probability is {p_total:.3f}')"
   ]
  },
  {
   "cell_type": "code",
   "execution_count": 28,
   "metadata": {},
   "outputs": [
    {
     "name": "stdout",
     "output_type": "stream",
     "text": [
      "The probability is 0.000\n"
     ]
    }
   ],
   "source": [
    "# c-3\n",
    "n = 2100\n",
    "p = 0.02\n",
    "mu = n * p\n",
    "prefix_term = np.exp(-mu)\n",
    "p_total = 0.\n",
    "for i in range(0, 11):\n",
    "    p_total += prefix_term * (np.power(mu, i) / np.math.factorial(i))\n",
    "print(f'The probability is {p_total:.3f}')"
   ]
  },
  {
   "cell_type": "code",
   "execution_count": 34,
   "metadata": {},
   "outputs": [
    {
     "data": {
      "text/plain": [
       "2.7062108514972355e-09"
      ]
     },
     "execution_count": 34,
     "metadata": {},
     "output_type": "execute_result"
    }
   ],
   "source": [
    "4706844720.48 * prefix_term"
   ]
  },
  {
   "cell_type": "markdown",
   "metadata": {},
   "source": [
    "<h2 style=\"color:blue\">Q4</h2>"
   ]
  },
  {
   "cell_type": "code",
   "execution_count": 1,
   "metadata": {},
   "outputs": [],
   "source": [
    "x_array = [1,2,3,4,5]\n",
    "f_x_array = [0.1, 0.15, 0.5, 0.15, 0.1]"
   ]
  },
  {
   "cell_type": "code",
   "execution_count": 2,
   "metadata": {},
   "outputs": [
    {
     "name": "stdout",
     "output_type": "stream",
     "text": [
      "3.0\n"
     ]
    }
   ],
   "source": [
    "mu = 0\n",
    "for x, p in zip(x_array, f_x_array):\n",
    "    mu += x * p\n",
    "print(mu)"
   ]
  },
  {
   "cell_type": "code",
   "execution_count": 3,
   "metadata": {},
   "outputs": [
    {
     "name": "stdout",
     "output_type": "stream",
     "text": [
      "1.1\n"
     ]
    }
   ],
   "source": [
    "var = 0\n",
    "for x, p in zip(x_array, f_x_array):\n",
    "    var += (x-mu)**2 * p\n",
    "print(var)"
   ]
  },
  {
   "cell_type": "code",
   "execution_count": 7,
   "metadata": {},
   "outputs": [
    {
     "name": "stdout",
     "output_type": "stream",
     "text": [
      "34.454\n"
     ]
    }
   ],
   "source": [
    "ex = 0\n",
    "for x, p in zip(x_array, f_x_array):\n",
    "    ex += np.exp(x) * p\n",
    "print(f'{ex:.3f}')"
   ]
  },
  {
   "cell_type": "code",
   "execution_count": 8,
   "metadata": {},
   "outputs": [
    {
     "name": "stdout",
     "output_type": "stream",
     "text": [
      "1.702\n"
     ]
    }
   ],
   "source": [
    "sqrtx = 0\n",
    "for x, p in zip(x_array, f_x_array):\n",
    "    sqrtx += np.sqrt(x) * p\n",
    "print(f'{sqrtx:.3f}')"
   ]
  },
  {
   "cell_type": "code",
   "execution_count": null,
   "metadata": {},
   "outputs": [],
   "source": []
  }
 ],
 "metadata": {
  "kernelspec": {
   "display_name": "Python 3",
   "language": "python",
   "name": "python3"
  },
  "language_info": {
   "codemirror_mode": {
    "name": "ipython",
    "version": 3
   },
   "file_extension": ".py",
   "mimetype": "text/x-python",
   "name": "python",
   "nbconvert_exporter": "python",
   "pygments_lexer": "ipython3",
   "version": "3.8.5"
  }
 },
 "nbformat": 4,
 "nbformat_minor": 4
}
