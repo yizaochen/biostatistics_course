{
 "cells": [
  {
   "cell_type": "markdown",
   "metadata": {},
   "source": [
    "<h2 style=\"color:blue\">Q1: Prosperity and education</h2>"
   ]
  },
  {
   "cell_type": "markdown",
   "metadata": {},
   "source": [
    "<ul>\n",
    "    <li>$P(A)=0.138$</li>\n",
    "    <li>$P(B)=0.261$</li>\n",
    "    <li>$P(A \\cap B)=0.082$</li>\n",
    "</ul>"
   ]
  },
  {
   "cell_type": "markdown",
   "metadata": {},
   "source": [
    "<h4 style=\"color:blue\">(a) Find the conditional probability that a household is educated, given that it is prosperous.</h4>"
   ]
  },
  {
   "cell_type": "markdown",
   "metadata": {},
   "source": [
    "This question is asking about $P(B|A)$\n",
    "<ul>\n",
    "    <li style=\"color:red\">$P(B|A) = \\frac{P(A \\cap B)}{P(A)} = 0.594 $</li>\n",
    "</ul>"
   ]
  },
  {
   "cell_type": "markdown",
   "metadata": {},
   "source": [
    "<h4 style=\"color:blue\">(b) Find the conditional probability that a household is prosperous, given that it is educated.</h4>"
   ]
  },
  {
   "cell_type": "markdown",
   "metadata": {},
   "source": [
    "This question is asking about $P(A|B)$\n",
    "<ul>\n",
    "    <li style=\"color:red\">$P(A|B) = \\frac{P(A \\cap B)}{P(B)} = 0.314 $</li>\n",
    "</ul>"
   ]
  },
  {
   "cell_type": "markdown",
   "metadata": {},
   "source": [
    "<h4 style=\"color:blue\">(c) Are events A and B independent? How do you know?</h4>"
   ]
  },
  {
   "cell_type": "markdown",
   "metadata": {},
   "source": [
    "Independence implies the following:\n",
    "<ol>\n",
    "    <li>$P(A \\cap B)=P(A)P(B)$</li>\n",
    "    <li>$P(A|B)=P(A)$</li>\n",
    "    <li>$P(B|A)=P(B)$</li>\n",
    "</ol>"
   ]
  },
  {
   "cell_type": "markdown",
   "metadata": {},
   "source": [
    "As you can see, $P(A)P(B)=0.138 \\times 0.261 = 0.036 \\neq P(A \\cap B)$.\n",
    "Therefore,\n",
    "<ul>\n",
    "    <li style=\"color:red\">Events A and B are not independent.</li>\n",
    "</ul>"
   ]
  },
  {
   "cell_type": "markdown",
   "metadata": {},
   "source": [
    "<h2 style=\"color:blue\">Q2: Case-control and breast cancer</h2>"
   ]
  },
  {
   "cell_type": "markdown",
   "metadata": {},
   "source": [
    "<h4 style=\"color:blue\">(a) In this case, is it possible to approximate RR? Explain.</h4>"
   ]
  },
  {
   "cell_type": "markdown",
   "metadata": {},
   "source": [
    "<h2 style=\"color:blue\">Q3: DVT</h2>"
   ]
  },
  {
   "cell_type": "markdown",
   "metadata": {},
   "source": [
    "<h4 style=\"color:blue\">(a) 求因使用Fragmin 而 Outcome為 Complication之Relative Risk and Odds Ratio.</h4>"
   ]
  },
  {
   "cell_type": "markdown",
   "metadata": {},
   "source": [
    "Relative Risk\n",
    "<ul>\n",
    "    <li>$\\mathrm{risk}_{\\mathrm{Fragmin}}=P_{\\mathrm{Fragmin}}(\\mathrm{Complication})=\\frac{42}{1518}=0.0277$</li>\n",
    "    <li>$\\mathrm{risk}_{\\mathrm{Placebo}}=P_{\\mathrm{Placebo}}(\\mathrm{Complication})=\\frac{73}{1473}=0.0496$</li>\n",
    "    <li style=\"color:red\">$\\mathrm{RR}=\\frac{0.0277}{0.0496}=0.558$</li>\n",
    "</ul>"
   ]
  },
  {
   "cell_type": "markdown",
   "metadata": {},
   "source": [
    "Odds Ratio\n",
    "<ul>\n",
    "    <li>$\\mathrm{odds}_{\\mathrm{Fragmin}}=\\frac{P_{\\mathrm{Fragmin}}(\\mathrm{Complication})}{P_{\\mathrm{Fragmin}}(\\mathrm{No ~Complication})}=\\frac{42}{1476}=0.0285$</li>\n",
    "    <li>$\\mathrm{odds}_{\\mathrm{Placebo}}=\\frac{P_{\\mathrm{Placebo}}(\\mathrm{Complication})}{P_{\\mathrm{Placebo}}(\\mathrm{No ~Complication})}=\\frac{73}{1400}=0.0521$</li>\n",
    "    <li style=\"color:red\">$\\mathrm{OR}=\\frac{0.0285}{0.0521}=0.547$</li>\n",
    "</ul>"
   ]
  },
  {
   "cell_type": "markdown",
   "metadata": {},
   "source": [
    "<h4 style=\"color:blue\">(b) 兩者是否有相關性?</h4>"
   ]
  },
  {
   "cell_type": "markdown",
   "metadata": {},
   "source": [
    "<ul>\n",
    "    <li style=\"color:red\">As you can see, both RR and OD are less than 1. That is, patients receiving the drug are less likely to develop complications than those without the drug. Therefore, there is a correlation between complication and receiving Fragmin.</li>\n",
    "</ul>"
   ]
  },
  {
   "cell_type": "markdown",
   "metadata": {},
   "source": [
    "<h2 style=\"color:blue\">Q4: </h2>"
   ]
  },
  {
   "cell_type": "markdown",
   "metadata": {},
   "source": [
    "<h2 style=\"color:blue\">Q5: </h2>"
   ]
  },
  {
   "cell_type": "code",
   "execution_count": null,
   "metadata": {},
   "outputs": [],
   "source": []
  }
 ],
 "metadata": {
  "kernelspec": {
   "display_name": "Python 3",
   "language": "python",
   "name": "python3"
  },
  "language_info": {
   "codemirror_mode": {
    "name": "ipython",
    "version": 3
   },
   "file_extension": ".py",
   "mimetype": "text/x-python",
   "name": "python",
   "nbconvert_exporter": "python",
   "pygments_lexer": "ipython3",
   "version": "3.8.5"
  }
 },
 "nbformat": 4,
 "nbformat_minor": 4
}
